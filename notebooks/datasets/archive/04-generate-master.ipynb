{
 "cells": [
  {
   "cell_type": "code",
   "execution_count": 1,
   "id": "615044ec-5fdb-4c56-8b63-1db9ff0f5b7d",
   "metadata": {},
   "outputs": [],
   "source": [
    "import os\n",
    "os.chdir(\"/usr/src/app\")\n",
    "import pandas as pd"
   ]
  },
  {
   "cell_type": "code",
   "execution_count": 2,
   "id": "c75bf645-b5e9-4dc5-aeb3-acceac01ab1b",
   "metadata": {},
   "outputs": [],
   "source": [
    "# Display columns\n",
    "pd.options.display.max_columns = None\n",
    "pd.options.display.max_rows = None\n",
    "pd.options.display.width=None\n",
    "\n",
    "# Set option to display full column content\n",
    "pd.set_option('display.max_colwidth', None)"
   ]
  },
  {
   "cell_type": "code",
   "execution_count": 3,
   "id": "8a292376-d2ab-4aa1-b53d-08180234d029",
   "metadata": {},
   "outputs": [],
   "source": [
    "PATH_MASTER = \"deepsetstats/dataset/tennistv/parquet/master.parquet\""
   ]
  },
  {
   "cell_type": "code",
   "execution_count": 4,
   "id": "4462ce25-1e22-4dba-8369-55446c193cea",
   "metadata": {},
   "outputs": [],
   "source": [
    "df_final = pd.read_parquet(PATH_MASTER, engine=\"pyarrow\")"
   ]
  },
  {
   "cell_type": "code",
   "execution_count": 5,
   "id": "ad7f7c2e-8231-4a12-828a-4b17ddfb636f",
   "metadata": {},
   "outputs": [
    {
     "data": {
      "text/plain": [
       "(6724, 6)"
      ]
     },
     "execution_count": 5,
     "metadata": {},
     "output_type": "execute_result"
    }
   ],
   "source": [
    "df_final.shape"
   ]
  },
  {
   "cell_type": "code",
   "execution_count": 1,
   "id": "1577c074-4327-4fac-9c8b-b87edf3bab8a",
   "metadata": {},
   "outputs": [],
   "source": [
    "# df_final.groupby(\"tournament_name\")[\"video_id\"].count().reset_index().sort_values(\"video_id\", ascending=False).head(120)"
   ]
  },
  {
   "cell_type": "code",
   "execution_count": 2,
   "id": "886ab404-23e5-44e6-8799-6c942be21dd1",
   "metadata": {},
   "outputs": [],
   "source": [
    "# df_final.groupby(\"name\")[\"video_id\"].count().reset_index().sort_values(\"video_id\", ascending=False).head(120)"
   ]
  },
  {
   "cell_type": "markdown",
   "id": "6c49fb15-c144-4e25-88ac-414abea04b57",
   "metadata": {},
   "source": [
    "# Grand Slams"
   ]
  },
  {
   "cell_type": "code",
   "execution_count": 6,
   "id": "362fc42b-2928-4234-a009-11fd47075b79",
   "metadata": {},
   "outputs": [],
   "source": [
    "PATH_MASTER = \"deepsetstats/dataset/grandslams/parquet/master.parquet\""
   ]
  },
  {
   "cell_type": "code",
   "execution_count": 7,
   "id": "f73c94f0-400a-4eb7-aa59-fa8c66a90e7e",
   "metadata": {},
   "outputs": [],
   "source": [
    "df_final_gs = pd.read_parquet(PATH_MASTER, engine=\"pyarrow\")"
   ]
  },
  {
   "cell_type": "code",
   "execution_count": 9,
   "id": "f252b39f-f823-44e0-9e3f-a64d00b37285",
   "metadata": {},
   "outputs": [
    {
     "data": {
      "text/plain": [
       "(3461, 7)"
      ]
     },
     "execution_count": 9,
     "metadata": {},
     "output_type": "execute_result"
    }
   ],
   "source": [
    "df_final_gs.shape"
   ]
  },
  {
   "cell_type": "code",
   "execution_count": 10,
   "id": "eb754f1f-51bf-4734-bfb0-cc6e6b4f3d61",
   "metadata": {},
   "outputs": [
    {
     "data": {
      "text/html": [
       "<div>\n",
       "<style scoped>\n",
       "    .dataframe tbody tr th:only-of-type {\n",
       "        vertical-align: middle;\n",
       "    }\n",
       "\n",
       "    .dataframe tbody tr th {\n",
       "        vertical-align: top;\n",
       "    }\n",
       "\n",
       "    .dataframe thead th {\n",
       "        text-align: right;\n",
       "    }\n",
       "</style>\n",
       "<table border=\"1\" class=\"dataframe\">\n",
       "  <thead>\n",
       "    <tr style=\"text-align: right;\">\n",
       "      <th></th>\n",
       "      <th>video_id</th>\n",
       "      <th>player_id</th>\n",
       "      <th>tournament_id</th>\n",
       "      <th>tournament_name</th>\n",
       "      <th>name</th>\n",
       "      <th>title</th>\n",
       "      <th>year</th>\n",
       "    </tr>\n",
       "  </thead>\n",
       "  <tbody>\n",
       "    <tr>\n",
       "      <th>0</th>\n",
       "      <td>k5Azrtqr_ug</td>\n",
       "      <td>123</td>\n",
       "      <td>3</td>\n",
       "      <td>US Open</td>\n",
       "      <td>Fabio Fognini</td>\n",
       "      <td>Jakub Mensik vs. Fabio Fognini Highlights | 2023 US Open Qualifying Round 1</td>\n",
       "      <td>2023</td>\n",
       "    </tr>\n",
       "    <tr>\n",
       "      <th>1</th>\n",
       "      <td>WdaEsoL4_ak</td>\n",
       "      <td>166</td>\n",
       "      <td>3</td>\n",
       "      <td>US Open</td>\n",
       "      <td>Vasek Pospisil</td>\n",
       "      <td>Vasek Pospisil vs. Pedro Martinez Highlights | 2023 US Open Qualifying Round 1</td>\n",
       "      <td>2023</td>\n",
       "    </tr>\n",
       "    <tr>\n",
       "      <th>2</th>\n",
       "      <td>WdaEsoL4_ak</td>\n",
       "      <td>4145</td>\n",
       "      <td>3</td>\n",
       "      <td>US Open</td>\n",
       "      <td>Alberto Martin</td>\n",
       "      <td>Vasek Pospisil vs. Pedro Martinez Highlights | 2023 US Open Qualifying Round 1</td>\n",
       "      <td>2023</td>\n",
       "    </tr>\n",
       "    <tr>\n",
       "      <th>3</th>\n",
       "      <td>TGR4PnD0cnM</td>\n",
       "      <td>162</td>\n",
       "      <td>3</td>\n",
       "      <td>US Open</td>\n",
       "      <td>Denis Kudla</td>\n",
       "      <td>Tennys Sandgren vs. Denis Kudla Highlights | 2023 US Open Qualifying Round 1</td>\n",
       "      <td>2023</td>\n",
       "    </tr>\n",
       "  </tbody>\n",
       "</table>\n",
       "</div>"
      ],
      "text/plain": [
       "      video_id  player_id  tournament_id tournament_name            name  \\\n",
       "0  k5Azrtqr_ug        123              3         US Open   Fabio Fognini   \n",
       "1  WdaEsoL4_ak        166              3         US Open  Vasek Pospisil   \n",
       "2  WdaEsoL4_ak       4145              3         US Open  Alberto Martin   \n",
       "3  TGR4PnD0cnM        162              3         US Open     Denis Kudla   \n",
       "\n",
       "                                                                            title  \\\n",
       "0     Jakub Mensik vs. Fabio Fognini Highlights | 2023 US Open Qualifying Round 1   \n",
       "1  Vasek Pospisil vs. Pedro Martinez Highlights | 2023 US Open Qualifying Round 1   \n",
       "2  Vasek Pospisil vs. Pedro Martinez Highlights | 2023 US Open Qualifying Round 1   \n",
       "3    Tennys Sandgren vs. Denis Kudla Highlights | 2023 US Open Qualifying Round 1   \n",
       "\n",
       "   year  \n",
       "0  2023  \n",
       "1  2023  \n",
       "2  2023  \n",
       "3  2023  "
      ]
     },
     "execution_count": 10,
     "metadata": {},
     "output_type": "execute_result"
    }
   ],
   "source": [
    "df_final_gs.head(4)"
   ]
  },
  {
   "cell_type": "code",
   "execution_count": null,
   "id": "07045d65-5971-44c1-9d7d-38620a0cec9a",
   "metadata": {},
   "outputs": [],
   "source": []
  }
 ],
 "metadata": {
  "kernelspec": {
   "display_name": "Python 3 (ipykernel)",
   "language": "python",
   "name": "python3"
  },
  "language_info": {
   "codemirror_mode": {
    "name": "ipython",
    "version": 3
   },
   "file_extension": ".py",
   "mimetype": "text/x-python",
   "name": "python",
   "nbconvert_exporter": "python",
   "pygments_lexer": "ipython3",
   "version": "3.10.11"
  }
 },
 "nbformat": 4,
 "nbformat_minor": 5
}
