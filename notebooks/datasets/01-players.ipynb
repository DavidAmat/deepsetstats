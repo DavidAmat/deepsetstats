{
 "cells": [
  {
   "cell_type": "code",
   "execution_count": 1,
   "id": "8cf2f174-8d73-42a5-8437-d6df45c8e7b7",
   "metadata": {},
   "outputs": [],
   "source": [
    "import pickle\n",
    "import numpy as np\n",
    "import pandas as pd\n",
    "import os\n",
    "os.chdir(\"/usr/src/app\")\n",
    "# Display columns\n",
    "pd.options.display.max_columns = None\n",
    "pd.set_option('display.max_rows', 500)\n",
    "pd.options.display.width=None\n",
    "from deepsetstats.dataset.utils import write_pickle, load_pickle"
   ]
  },
  {
   "cell_type": "code",
   "execution_count": 2,
   "id": "846dd818-2cde-440d-b97c-9742388baafd",
   "metadata": {},
   "outputs": [],
   "source": [
    "PATH_PLAYERS_RANK = \"deepsetstats/dataset/players/parquet/players.parquet\"\n",
    "PATH_BIBLE_PLAYERS = \"deepsetstats/dataset/players/parquet/bible_players.parquet\"\n",
    "PATH_FLAGS_COUNTRIES = \"deepsetstats/dataset/players/flags/flags.pickle\"\n",
    "PATH_MAP_ID2NAME = \"deepsetstats/dataset/players/pickle/map_id2name.parquet\"\n",
    "PATH_MAP_NAME2ID = \"deepsetstats/dataset/players/parquet/map_name2id.parquet\"\n",
    "PATH_MAP_CNAME2ID = \"deepsetstats/dataset/players/parquet/map_cname2id.parquet\"\n",
    "PATH_MAPID2COUNTRY = \"deepsetstats/dataset/players/parquet/map_id2country.parquet\""
   ]
  },
  {
   "cell_type": "code",
   "execution_count": 3,
   "id": "9da13ced-5d9e-4397-95c0-469e245310c6",
   "metadata": {},
   "outputs": [
    {
     "ename": "FileNotFoundError",
     "evalue": "[Errno 2] No such file or directory: 'deepsetstats/dataset/players/parquet/map_name2id.parquet'",
     "output_type": "error",
     "traceback": [
      "\u001b[0;31m---------------------------------------------------------------------------\u001b[0m",
      "\u001b[0;31mFileNotFoundError\u001b[0m                         Traceback (most recent call last)",
      "Cell \u001b[0;32mIn[3], line 2\u001b[0m\n\u001b[1;32m      1\u001b[0m d1 \u001b[38;5;241m=\u001b[39m load_pickle(PATH_MAP_ID2NAME)\n\u001b[0;32m----> 2\u001b[0m d2 \u001b[38;5;241m=\u001b[39m \u001b[43mload_pickle\u001b[49m\u001b[43m(\u001b[49m\u001b[43mPATH_MAP_NAME2ID\u001b[49m\u001b[43m)\u001b[49m\n\u001b[1;32m      3\u001b[0m d3 \u001b[38;5;241m=\u001b[39m load_pickle(PATH_MAP_CNAME2ID)\n\u001b[1;32m      4\u001b[0m d4 \u001b[38;5;241m=\u001b[39m load_pickle(PATH_MAPID2COUNTRY)\n",
      "File \u001b[0;32m/usr/src/app/deepsetstats/dataset/utils.py:24\u001b[0m, in \u001b[0;36mload_pickle\u001b[0;34m(path)\u001b[0m\n\u001b[1;32m     23\u001b[0m \u001b[38;5;28;01mdef\u001b[39;00m \u001b[38;5;21mload_pickle\u001b[39m(path):\n\u001b[0;32m---> 24\u001b[0m     \u001b[38;5;28;01mwith\u001b[39;00m \u001b[38;5;28;43mopen\u001b[39;49m\u001b[43m(\u001b[49m\u001b[43mpath\u001b[49m\u001b[43m,\u001b[49m\u001b[43m \u001b[49m\u001b[38;5;124;43m\"\u001b[39;49m\u001b[38;5;124;43mrb\u001b[39;49m\u001b[38;5;124;43m\"\u001b[39;49m\u001b[43m)\u001b[49m \u001b[38;5;28;01mas\u001b[39;00m file:\n\u001b[1;32m     25\u001b[0m         \u001b[38;5;66;03m# Load the dictionary from the pickle file\u001b[39;00m\n\u001b[1;32m     26\u001b[0m         data \u001b[38;5;241m=\u001b[39m pickle\u001b[38;5;241m.\u001b[39mload(file)\n\u001b[1;32m     27\u001b[0m     \u001b[38;5;28;01mreturn\u001b[39;00m data\n",
      "\u001b[0;31mFileNotFoundError\u001b[0m: [Errno 2] No such file or directory: 'deepsetstats/dataset/players/parquet/map_name2id.parquet'"
     ]
    }
   ],
   "source": [
    "d1 = load_pickle(PATH_MAP_ID2NAME)\n",
    "d2 = load_pickle(PATH_MAP_NAME2ID)\n",
    "d3 = load_pickle(PATH_MAP_CNAME2ID)\n",
    "d4 = load_pickle(PATH_MAPID2COUNTRY)"
   ]
  },
  {
   "cell_type": "code",
   "execution_count": 4,
   "id": "1725dbd5-34f1-4623-9843-5cbfd9c8af8a",
   "metadata": {},
   "outputs": [],
   "source": [
    "dfp = pd.read_parquet(PATH_PLAYERS_RANK, engine=\"pyarrow\")"
   ]
  },
  {
   "cell_type": "code",
   "execution_count": 6,
   "id": "857e3869-53eb-4098-9de2-dec4daf58e94",
   "metadata": {},
   "outputs": [
    {
     "data": {
      "text/html": [
       "<div>\n",
       "<style scoped>\n",
       "    .dataframe tbody tr th:only-of-type {\n",
       "        vertical-align: middle;\n",
       "    }\n",
       "\n",
       "    .dataframe tbody tr th {\n",
       "        vertical-align: top;\n",
       "    }\n",
       "\n",
       "    .dataframe thead th {\n",
       "        text-align: right;\n",
       "    }\n",
       "</style>\n",
       "<table border=\"1\" class=\"dataframe\">\n",
       "  <thead>\n",
       "    <tr style=\"text-align: right;\">\n",
       "      <th></th>\n",
       "      <th>name</th>\n",
       "      <th>year_birth</th>\n",
       "      <th>country</th>\n",
       "      <th>ranking</th>\n",
       "      <th>date_rank</th>\n",
       "    </tr>\n",
       "  </thead>\n",
       "  <tbody>\n",
       "    <tr>\n",
       "      <th>1</th>\n",
       "      <td>Novak Djokovic</td>\n",
       "      <td>1987</td>\n",
       "      <td>SRB</td>\n",
       "      <td>2</td>\n",
       "      <td>2023-07-31</td>\n",
       "    </tr>\n",
       "    <tr>\n",
       "      <th>0</th>\n",
       "      <td>Novak Djokovic</td>\n",
       "      <td>1987</td>\n",
       "      <td>SRB</td>\n",
       "      <td>1</td>\n",
       "      <td>2021-08-09</td>\n",
       "    </tr>\n",
       "    <tr>\n",
       "      <th>0</th>\n",
       "      <td>Novak Djokovic</td>\n",
       "      <td>1987</td>\n",
       "      <td>SRB</td>\n",
       "      <td>1</td>\n",
       "      <td>2015-10-05</td>\n",
       "    </tr>\n",
       "    <tr>\n",
       "      <th>3</th>\n",
       "      <td>Novak Djokovic</td>\n",
       "      <td>1988</td>\n",
       "      <td>SRB</td>\n",
       "      <td>4</td>\n",
       "      <td>2009-05-11</td>\n",
       "    </tr>\n",
       "    <tr>\n",
       "      <th>678</th>\n",
       "      <td>Novak Djokovic</td>\n",
       "      <td>1987</td>\n",
       "      <td>SRB</td>\n",
       "      <td>679</td>\n",
       "      <td>2003-09-29</td>\n",
       "    </tr>\n",
       "  </tbody>\n",
       "</table>\n",
       "</div>"
      ],
      "text/plain": [
       "               name year_birth country  ranking   date_rank\n",
       "1    Novak Djokovic       1987     SRB        2  2023-07-31\n",
       "0    Novak Djokovic       1987     SRB        1  2021-08-09\n",
       "0    Novak Djokovic       1987     SRB        1  2015-10-05\n",
       "3    Novak Djokovic       1988     SRB        4  2009-05-11\n",
       "678  Novak Djokovic       1987     SRB      679  2003-09-29"
      ]
     },
     "execution_count": 6,
     "metadata": {},
     "output_type": "execute_result"
    }
   ],
   "source": [
    "dfp[dfp[\"name\"] == \"Novak Djokovic\"]"
   ]
  },
  {
   "cell_type": "code",
   "execution_count": 7,
   "id": "444a575e-d87b-4573-bbb9-470d99f89a50",
   "metadata": {},
   "outputs": [],
   "source": [
    "dfb = pd.read_parquet(PATH_BIBLE_PLAYERS, engine=\"pyarrow\")"
   ]
  },
  {
   "cell_type": "code",
   "execution_count": 10,
   "id": "431104b6-be2f-470f-b337-1a044d5ad1f1",
   "metadata": {},
   "outputs": [
    {
     "data": {
      "text/html": [
       "<div>\n",
       "<style scoped>\n",
       "    .dataframe tbody tr th:only-of-type {\n",
       "        vertical-align: middle;\n",
       "    }\n",
       "\n",
       "    .dataframe tbody tr th {\n",
       "        vertical-align: top;\n",
       "    }\n",
       "\n",
       "    .dataframe thead th {\n",
       "        text-align: right;\n",
       "    }\n",
       "</style>\n",
       "<table border=\"1\" class=\"dataframe\">\n",
       "  <thead>\n",
       "    <tr style=\"text-align: right;\">\n",
       "      <th></th>\n",
       "      <th>country</th>\n",
       "      <th>best_ranking</th>\n",
       "      <th>name</th>\n",
       "      <th>first_name</th>\n",
       "      <th>common_name</th>\n",
       "      <th>common_name_2</th>\n",
       "      <th>player_id</th>\n",
       "    </tr>\n",
       "  </thead>\n",
       "  <tbody>\n",
       "    <tr>\n",
       "      <th>0</th>\n",
       "      <td>ESP</td>\n",
       "      <td>1</td>\n",
       "      <td>Carlos Alcaraz</td>\n",
       "      <td>Carlos</td>\n",
       "      <td>Alcaraz</td>\n",
       "      <td>Alcaraz</td>\n",
       "      <td>0</td>\n",
       "    </tr>\n",
       "    <tr>\n",
       "      <th>1</th>\n",
       "      <td>SRB</td>\n",
       "      <td>1</td>\n",
       "      <td>Novak Djokovic</td>\n",
       "      <td>Novak</td>\n",
       "      <td>Djokovic</td>\n",
       "      <td>Djokovic</td>\n",
       "      <td>1</td>\n",
       "    </tr>\n",
       "    <tr>\n",
       "      <th>138</th>\n",
       "      <td>ESP</td>\n",
       "      <td>1</td>\n",
       "      <td>Rafael Nadal</td>\n",
       "      <td>Rafael</td>\n",
       "      <td>Nadal</td>\n",
       "      <td>Nadal</td>\n",
       "      <td>138</td>\n",
       "    </tr>\n",
       "    <tr>\n",
       "      <th>4165</th>\n",
       "      <td>ESP</td>\n",
       "      <td>1</td>\n",
       "      <td>Juan Carlos Ferrero</td>\n",
       "      <td>Juan</td>\n",
       "      <td>Carlos Ferrero</td>\n",
       "      <td>Ferrero</td>\n",
       "      <td>4165</td>\n",
       "    </tr>\n",
       "    <tr>\n",
       "      <th>6804</th>\n",
       "      <td>USA</td>\n",
       "      <td>1</td>\n",
       "      <td>Pete Sampras</td>\n",
       "      <td>Pete</td>\n",
       "      <td>Sampras</td>\n",
       "      <td>Sampras</td>\n",
       "      <td>6804</td>\n",
       "    </tr>\n",
       "    <tr>\n",
       "      <th>8384</th>\n",
       "      <td>SWE</td>\n",
       "      <td>1</td>\n",
       "      <td>Stefan Edberg</td>\n",
       "      <td>Stefan</td>\n",
       "      <td>Edberg</td>\n",
       "      <td>Edberg</td>\n",
       "      <td>8384</td>\n",
       "    </tr>\n",
       "    <tr>\n",
       "      <th>8386</th>\n",
       "      <td>USA</td>\n",
       "      <td>1</td>\n",
       "      <td>Ivan Lendl</td>\n",
       "      <td>Ivan</td>\n",
       "      <td>Lendl</td>\n",
       "      <td>Lendl</td>\n",
       "      <td>8386</td>\n",
       "    </tr>\n",
       "  </tbody>\n",
       "</table>\n",
       "</div>"
      ],
      "text/plain": [
       "     country  best_ranking                 name first_name     common_name  \\\n",
       "0        ESP             1       Carlos Alcaraz     Carlos         Alcaraz   \n",
       "1        SRB             1       Novak Djokovic      Novak        Djokovic   \n",
       "138      ESP             1         Rafael Nadal     Rafael           Nadal   \n",
       "4165     ESP             1  Juan Carlos Ferrero       Juan  Carlos Ferrero   \n",
       "6804     USA             1         Pete Sampras       Pete         Sampras   \n",
       "8384     SWE             1        Stefan Edberg     Stefan          Edberg   \n",
       "8386     USA             1           Ivan Lendl       Ivan           Lendl   \n",
       "\n",
       "     common_name_2  player_id  \n",
       "0          Alcaraz          0  \n",
       "1         Djokovic          1  \n",
       "138          Nadal        138  \n",
       "4165       Ferrero       4165  \n",
       "6804       Sampras       6804  \n",
       "8384        Edberg       8384  \n",
       "8386         Lendl       8386  "
      ]
     },
     "execution_count": 10,
     "metadata": {},
     "output_type": "execute_result"
    }
   ],
   "source": [
    "dfb[dfb[\"best_ranking\"] == 1]"
   ]
  },
  {
   "cell_type": "code",
   "execution_count": 80,
   "id": "7f203df4-483c-4948-b64d-81c473f48c9d",
   "metadata": {},
   "outputs": [],
   "source": [
    "#df[df[\"best_ranking\"] < 100].head(30)"
   ]
  },
  {
   "cell_type": "markdown",
   "id": "f7f5c4a0-b643-49b6-bcd0-a785140a4a54",
   "metadata": {},
   "source": [
    "# Extract Player title development"
   ]
  },
  {
   "cell_type": "code",
   "execution_count": 81,
   "id": "ac6362be-6b08-4e51-b7b5-9bad55ef38f1",
   "metadata": {},
   "outputs": [],
   "source": [
    "from copy import copy\n",
    "import string\n",
    "import regex\n",
    "import re\n",
    "import numpy as np"
   ]
  },
  {
   "cell_type": "code",
   "execution_count": 82,
   "id": "e3b84d06-471a-4370-9ce0-525a4df61952",
   "metadata": {},
   "outputs": [],
   "source": [
    "df = dfb[dfb[\"best_ranking\"] < 100].copy()"
   ]
  },
  {
   "cell_type": "code",
   "execution_count": 83,
   "id": "849172c2-140d-444b-8587-f6eebe7e0c95",
   "metadata": {},
   "outputs": [
    {
     "data": {
      "text/html": [
       "<div>\n",
       "<style scoped>\n",
       "    .dataframe tbody tr th:only-of-type {\n",
       "        vertical-align: middle;\n",
       "    }\n",
       "\n",
       "    .dataframe tbody tr th {\n",
       "        vertical-align: top;\n",
       "    }\n",
       "\n",
       "    .dataframe thead th {\n",
       "        text-align: right;\n",
       "    }\n",
       "</style>\n",
       "<table border=\"1\" class=\"dataframe\">\n",
       "  <thead>\n",
       "    <tr style=\"text-align: right;\">\n",
       "      <th></th>\n",
       "      <th>country</th>\n",
       "      <th>best_ranking</th>\n",
       "      <th>name</th>\n",
       "      <th>first_name</th>\n",
       "      <th>common_name</th>\n",
       "      <th>common_name_2</th>\n",
       "      <th>player_id</th>\n",
       "    </tr>\n",
       "  </thead>\n",
       "  <tbody>\n",
       "    <tr>\n",
       "      <th>4165</th>\n",
       "      <td>ESP</td>\n",
       "      <td>1</td>\n",
       "      <td>Juan Carlos Ferrero</td>\n",
       "      <td>Juan</td>\n",
       "      <td>Carlos Ferrero</td>\n",
       "      <td>Ferrero</td>\n",
       "      <td>4165</td>\n",
       "    </tr>\n",
       "  </tbody>\n",
       "</table>\n",
       "</div>"
      ],
      "text/plain": [
       "     country  best_ranking                 name first_name     common_name  \\\n",
       "4165     ESP             1  Juan Carlos Ferrero       Juan  Carlos Ferrero   \n",
       "\n",
       "     common_name_2  player_id  \n",
       "4165       Ferrero       4165  "
      ]
     },
     "execution_count": 83,
     "metadata": {},
     "output_type": "execute_result"
    }
   ],
   "source": [
    "df[df[\"common_name_2\"] == \"Ferrero\"]"
   ]
  },
  {
   "cell_type": "code",
   "execution_count": 84,
   "id": "50a337b9-c8cc-442d-8020-a40093f45b09",
   "metadata": {},
   "outputs": [],
   "source": [
    "# Set of player names\n",
    "player_common_names = df[\"common_name\"].tolist()\n",
    "player_common_names_2 = df[\"common_name_2\"].tolist()\n",
    "player_full_names = df[\"name\"].tolist()\n",
    "player_ids = df[\"player_id\"].tolist()"
   ]
  },
  {
   "cell_type": "code",
   "execution_count": 85,
   "id": "8d389c97-474f-46e5-9ca5-94ca32ae15dc",
   "metadata": {},
   "outputs": [],
   "source": [
    "# Define the translation table\n",
    "exclude_punctuation = string.punctuation\n",
    "translator = str.maketrans(exclude_punctuation, ' ' * len(exclude_punctuation))"
   ]
  },
  {
   "cell_type": "code",
   "execution_count": 117,
   "id": "417d5988-6a68-461f-8b0f-ad20aa679633",
   "metadata": {},
   "outputs": [],
   "source": [
    "# Given string\n",
    "#raw_string = \"\"\"It's Auger Aliassime Paul Henri Mathieu plays againts Juan Monaco, \n",
    "# CCarlos Alcaraz and Raonic advance, Opelka Takes On Tiafoe; Fils surprises; Federer \n",
    "# continues; Monfils, Hurkacz Feature | Toronto 2023 Highlights Day 1\"\"\"\n",
    "\n",
    "raw_string = \"Alcaraz Battles Purcell; Djokovic Plays Fritz | Cincinnati 2023 Quarter-Final Highlights\""
   ]
  },
  {
   "cell_type": "code",
   "execution_count": 126,
   "id": "2db600b2-bcd9-47e5-9f0b-f1aa9f8abe43",
   "metadata": {},
   "outputs": [],
   "source": [
    "#def extract_players_title(raw_string, player_ids, player_full_names, player_common_names, player_common_names_2):\n",
    "# ------------------------------------------------ #\n",
    "#   Input string cleansing\n",
    "# ------------------------------------------------ #\n",
    "# Remove punctuation and replace with spaces\n",
    "query_string = raw_string.translate(translator)\n",
    "\n",
    "# Replace consecutive spaces with single spaces\n",
    "query_string = re.sub(r'\\s+', ' ', query_string)\n",
    "\n",
    "player_ids_candidates_in_query = []\n",
    "fullname_candidates_in_query = []\n",
    "common_name_candidates_in_query = []\n",
    "\n",
    "iter_string = copy(query_string)\n",
    "for full_name, common_name, common_name2, player_id in zip(\n",
    "    player_full_names, player_common_names, player_common_names_2, player_ids\n",
    "):\n",
    "    # Remove punctuation and replace with spaces\n",
    "    full_name = full_name.translate(translator)\n",
    "    common_name = common_name.translate(translator)\n",
    "    common_name2 = common_name2.translate(translator)\n",
    "\n",
    "    # Quick check if the surname it's there\n",
    "    #par_rat1 = fuzz.partial_ratio(iter_string, common_name)\n",
    "    #par_rat2 = fuzz.partial_ratio(iter_string, common_name2)\n",
    "    min_len = np.min([len(common_name), len(common_name2)])\n",
    "    permitted_errors = 0 if min_len < 5 else 1\n",
    "    match_common_1 = regex.search(fr'(\\s|^)({common_name})(\\s){{e<={permitted_errors}}}', query_string)\n",
    "    match_common_2 = regex.search(fr'(\\s|^)({common_name2})(\\s){{e<={permitted_errors}}}', query_string)\n",
    "\n",
    "    if match_common_1 or match_common_2:\n",
    "        cname = common_name if match_common_1 else common_name2\n",
    "        idx_common_name_max = 0 if match_common_1 else 0\n",
    "\n",
    "        player_ids_candidates_in_query.append(player_id)\n",
    "        fullname_candidates_in_query.append(full_name)\n",
    "        \n",
    "        # print(f\"Player id: {player_id}, Common_name: {cname}, Permitted errors: {permitted_errors}\")\n",
    "        common_name_candidates_in_query.append(cname)\n",
    "\n",
    "player_ids_in_query = []\n",
    "iter_player_ids_candidates_in_query = copy(player_ids_candidates_in_query)\n",
    "iter_common_name_candidates_in_query = copy(common_name_candidates_in_query)\n",
    "\n",
    "for full_name, common_name, player_id in zip(\n",
    "    fullname_candidates_in_query, common_name_candidates_in_query, player_ids_candidates_in_query):\n",
    "    \n",
    "    # Remove punctuation and replace with spaces\n",
    "    full_name = full_name.translate(translator)\n",
    "    common_name = common_name.translate(translator)\n",
    "    \n",
    "    # Check if the full name is there\n",
    "    full_name_match = regex.search(fr'({full_name}){{e<=1}}', iter_string)\n",
    "\n",
    "    # If full name is there\n",
    "    if full_name_match:\n",
    "        start, end = full_name_match.span()\n",
    "        iter_string = iter_string[:start] + iter_string[end:]\n",
    "        # print(f\"{full_name} player: full name trimmed at:\", start, end)\n",
    "        \n",
    "        # Add candidate as the final match of player found in video title\n",
    "        player_ids_in_query.append(player_id)\n",
    "\n",
    "        # Remove candidate\n",
    "        iter_player_ids_candidates_in_query.remove(player_id)\n",
    "        iter_common_name_candidates_in_query.remove(common_name)\n",
    "        continue\n",
    "\n",
    "# For the rest, get the best common name match\n",
    "for common_name, player_id in zip(\n",
    "    iter_common_name_candidates_in_query, iter_player_ids_candidates_in_query\n",
    "):\n",
    "    # Remove punctuation and replace with spaces\n",
    "    common_name = common_name.translate(translator)\n",
    "    \n",
    "    # Check that the entire common name is surrounded by spaces or commas\n",
    "    cname_name_match = regex.search(fr'(^|\\s)({common_name})($|\\s){{e<=1}}', iter_string)\n",
    "\n",
    "    # If full name is there\n",
    "    if cname_name_match:\n",
    "        start, end = cname_name_match.span()\n",
    "        iter_string = iter_string[:start] + \" \" + iter_string[end:]\n",
    "        # print(f\"{common_name} player: cname name trimmed at:\", start, end)\n",
    "        \n",
    "        # Add candidate as the final match of player found in video title\n",
    "        player_ids_in_query.append(player_id)\n",
    "\n",
    "        # Remove candidate\n",
    "        player_ids_candidates_in_query.remove(player_id)"
   ]
  },
  {
   "cell_type": "code",
   "execution_count": 127,
   "id": "5bac4681-e2f9-47b8-8aba-840159ed2e12",
   "metadata": {},
   "outputs": [
    {
     "data": {
      "text/plain": [
       "'Alcaraz Battles Purcell Djokovic Plays Fritz Cincinnati 2023 Quarter Final Highlights'"
      ]
     },
     "execution_count": 127,
     "metadata": {},
     "output_type": "execute_result"
    }
   ],
   "source": [
    "query_string"
   ]
  },
  {
   "cell_type": "code",
   "execution_count": 128,
   "id": "dfcb0ba8-a0bf-42bf-99f7-3772b8488711",
   "metadata": {},
   "outputs": [
    {
     "data": {
      "text/plain": [
       "['Carlos Alcaraz', 'Novak Djokovic', 'Taylor Fritz', 'Max Purcell']"
      ]
     },
     "execution_count": 128,
     "metadata": {},
     "output_type": "execute_result"
    }
   ],
   "source": [
    "[d1[xx] for xx in iter_player_ids_candidates_in_query]"
   ]
  },
  {
   "cell_type": "code",
   "execution_count": 90,
   "id": "eb19e0f2-4215-464c-b756-a89069856e98",
   "metadata": {},
   "outputs": [
    {
     "data": {
      "text/html": [
       "<div>\n",
       "<style scoped>\n",
       "    .dataframe tbody tr th:only-of-type {\n",
       "        vertical-align: middle;\n",
       "    }\n",
       "\n",
       "    .dataframe tbody tr th {\n",
       "        vertical-align: top;\n",
       "    }\n",
       "\n",
       "    .dataframe thead th {\n",
       "        text-align: right;\n",
       "    }\n",
       "</style>\n",
       "<table border=\"1\" class=\"dataframe\">\n",
       "  <thead>\n",
       "    <tr style=\"text-align: right;\">\n",
       "      <th></th>\n",
       "      <th>country</th>\n",
       "      <th>best_ranking</th>\n",
       "      <th>name</th>\n",
       "      <th>first_name</th>\n",
       "      <th>common_name</th>\n",
       "      <th>common_name_2</th>\n",
       "      <th>player_id</th>\n",
       "    </tr>\n",
       "  </thead>\n",
       "  <tbody>\n",
       "    <tr>\n",
       "      <th>46</th>\n",
       "      <td>FRA</td>\n",
       "      <td>47</td>\n",
       "      <td>Arthur Fils</td>\n",
       "      <td>Arthur</td>\n",
       "      <td>Fils</td>\n",
       "      <td>Fils</td>\n",
       "      <td>46</td>\n",
       "    </tr>\n",
       "  </tbody>\n",
       "</table>\n",
       "</div>"
      ],
      "text/plain": [
       "   country  best_ranking         name first_name common_name common_name_2  \\\n",
       "46     FRA            47  Arthur Fils     Arthur        Fils          Fils   \n",
       "\n",
       "    player_id  \n",
       "46         46  "
      ]
     },
     "execution_count": 90,
     "metadata": {},
     "output_type": "execute_result"
    }
   ],
   "source": [
    "dfb[dfb[\"common_name_2\"] == \"Fils\"]"
   ]
  },
  {
   "cell_type": "code",
   "execution_count": 98,
   "id": "21199bc5-514f-4b15-9e89-a73f8ce1ea3d",
   "metadata": {},
   "outputs": [
    {
     "data": {
      "text/plain": [
       "['Carlos Alcaraz',\n",
       " 'Tommy Paul',\n",
       " 'Arthur Fils',\n",
       " 'Juan Monaco',\n",
       " 'Paul-Henri Mathieu']"
      ]
     },
     "execution_count": 98,
     "metadata": {},
     "output_type": "execute_result"
    }
   ],
   "source": [
    "[d1[xx] for xx in player_ids_candidates_in_query]"
   ]
  },
  {
   "cell_type": "markdown",
   "id": "ce81140d-4baf-4108-b3b3-6e6fa3f4cb74",
   "metadata": {},
   "source": [
    "# Test in a function\n"
   ]
  },
  {
   "cell_type": "code",
   "execution_count": 109,
   "id": "e5e4b8bd-7e13-4fcc-9cfa-3158d56420c2",
   "metadata": {},
   "outputs": [],
   "source": [
    "from deepsetstats.dataset import utils\n",
    "from importlib import reload"
   ]
  },
  {
   "cell_type": "code",
   "execution_count": 110,
   "id": "d3f392a5-2ec6-41e2-ab56-6a6b98929854",
   "metadata": {},
   "outputs": [],
   "source": [
    "utils = reload(utils)"
   ]
  },
  {
   "cell_type": "code",
   "execution_count": 111,
   "id": "5b4d201c-caad-46b1-af5e-8ea4deb1b295",
   "metadata": {},
   "outputs": [],
   "source": [
    "ept = utils.extract_players_title"
   ]
  },
  {
   "cell_type": "code",
   "execution_count": 114,
   "id": "1d018273-824e-4368-9352-60394cacb332",
   "metadata": {},
   "outputs": [
    {
     "name": "stdout",
     "output_type": "stream",
     "text": [
      "CPU times: user 148 ms, sys: 4.38 ms, total: 153 ms\n",
      "Wall time: 152 ms\n"
     ]
    }
   ],
   "source": [
    "%%time\n",
    "# Given string\n",
    "raw_string = \"\"\"Alcaraz Battles Purcell; Djokovic Plays Fritz | Cincinnati 2023 Quarter-Final Highlights\"\"\"\n",
    "\n",
    "pids = ept(\n",
    "    raw_string=raw_string,\n",
    "    player_ids=player_ids,\n",
    "    player_full_names=player_full_names,\n",
    "    player_common_names=player_common_names,\n",
    "    player_common_names_2=player_common_names_2,\n",
    ")"
   ]
  },
  {
   "cell_type": "code",
   "execution_count": 115,
   "id": "5baef9a8-54a6-4976-8dc1-f99a06ac69a4",
   "metadata": {},
   "outputs": [
    {
     "data": {
      "text/plain": [
       "['Novak Djokovic', 'Taylor Fritz', 'Max Purcell']"
      ]
     },
     "execution_count": 115,
     "metadata": {},
     "output_type": "execute_result"
    }
   ],
   "source": [
    "[d1[xx] for xx in pids]"
   ]
  },
  {
   "cell_type": "code",
   "execution_count": null,
   "id": "1e00f2b2-6c5a-4b4a-bd20-04b185873b2e",
   "metadata": {},
   "outputs": [],
   "source": []
  }
 ],
 "metadata": {
  "kernelspec": {
   "display_name": "Python 3 (ipykernel)",
   "language": "python",
   "name": "python3"
  },
  "language_info": {
   "codemirror_mode": {
    "name": "ipython",
    "version": 3
   },
   "file_extension": ".py",
   "mimetype": "text/x-python",
   "name": "python",
   "nbconvert_exporter": "python",
   "pygments_lexer": "ipython3",
   "version": "3.10.11"
  }
 },
 "nbformat": 4,
 "nbformat_minor": 5
}
