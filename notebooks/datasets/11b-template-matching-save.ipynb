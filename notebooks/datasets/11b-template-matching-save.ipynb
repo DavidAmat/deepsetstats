{
 "cells": [
  {
   "cell_type": "code",
   "execution_count": 6,
   "id": "a4fe6c57-9024-4ccd-b8f3-d0aa8366b1ec",
   "metadata": {},
   "outputs": [],
   "source": [
    "import os\n",
    "from deepsetstats.paths import (\n",
    "    PATH_TEMPLATE_MATCHING,\n",
    ")\n",
    "from os.path import join as j\n",
    "import pandas as pd\n",
    "import tqdm\n",
    "import cv2\n",
    "os.chdir(\"/usr/src/app\")"
   ]
  },
  {
   "cell_type": "code",
   "execution_count": 7,
   "id": "0abbfe45-8412-4ab3-9db3-a17178788528",
   "metadata": {},
   "outputs": [],
   "source": [
    "from deepsetstats.dataset.court_detection import utils\n",
    "from importlib import reload\n",
    "utils = reload(utils)\n",
    "Utils = utils.Utils"
   ]
  },
  {
   "cell_type": "code",
   "execution_count": 8,
   "id": "783a7abc-4019-4ab7-b99e-8f0e97dd5289",
   "metadata": {},
   "outputs": [],
   "source": [
    "df = pd.read_parquet(PATH_TEMPLATE_MATCHING, engine=\"pyarrow\")"
   ]
  },
  {
   "cell_type": "code",
   "execution_count": 14,
   "id": "43212866-c973-4f47-be64-a7689492dad6",
   "metadata": {},
   "outputs": [],
   "source": [
    "df.to_parquet(PATH_TEMPLATE_MATCHING_SINGLE_PQ, engine=\"pyarrow\")"
   ]
  },
  {
   "cell_type": "code",
   "execution_count": 13,
   "id": "65b9a3f6-5458-4b27-ba10-e24f568898ff",
   "metadata": {},
   "outputs": [
    {
     "data": {
      "text/plain": [
       "'deepsetstats/dataset/frames/parquet/template_matching.parquet'"
      ]
     },
     "execution_count": 13,
     "metadata": {},
     "output_type": "execute_result"
    }
   ],
   "source": [
    "PATH_TEMPLATE_MATCHING_SINGLE_PQ"
   ]
  },
  {
   "cell_type": "code",
   "execution_count": 5,
   "id": "e9aa2f76-9335-4ece-8e5a-3a1af7889f73",
   "metadata": {},
   "outputs": [
    {
     "data": {
      "text/html": [
       "<div>\n",
       "<style scoped>\n",
       "    .dataframe tbody tr th:only-of-type {\n",
       "        vertical-align: middle;\n",
       "    }\n",
       "\n",
       "    .dataframe tbody tr th {\n",
       "        vertical-align: top;\n",
       "    }\n",
       "\n",
       "    .dataframe thead th {\n",
       "        text-align: right;\n",
       "    }\n",
       "</style>\n",
       "<table border=\"1\" class=\"dataframe\">\n",
       "  <thead>\n",
       "    <tr style=\"text-align: right;\">\n",
       "      <th></th>\n",
       "      <th>tournament_id</th>\n",
       "      <th>interval_id</th>\n",
       "    </tr>\n",
       "  </thead>\n",
       "  <tbody>\n",
       "    <tr>\n",
       "      <th>0</th>\n",
       "      <td>0</td>\n",
       "      <td>1308</td>\n",
       "    </tr>\n",
       "    <tr>\n",
       "      <th>1</th>\n",
       "      <td>1</td>\n",
       "      <td>304</td>\n",
       "    </tr>\n",
       "    <tr>\n",
       "      <th>2</th>\n",
       "      <td>2</td>\n",
       "      <td>1623</td>\n",
       "    </tr>\n",
       "    <tr>\n",
       "      <th>3</th>\n",
       "      <td>3</td>\n",
       "      <td>134</td>\n",
       "    </tr>\n",
       "    <tr>\n",
       "      <th>4</th>\n",
       "      <td>4</td>\n",
       "      <td>118</td>\n",
       "    </tr>\n",
       "    <tr>\n",
       "      <th>...</th>\n",
       "      <td>...</td>\n",
       "      <td>...</td>\n",
       "    </tr>\n",
       "    <tr>\n",
       "      <th>59</th>\n",
       "      <td>60</td>\n",
       "      <td>24</td>\n",
       "    </tr>\n",
       "    <tr>\n",
       "      <th>60</th>\n",
       "      <td>61</td>\n",
       "      <td>27</td>\n",
       "    </tr>\n",
       "    <tr>\n",
       "      <th>61</th>\n",
       "      <td>62</td>\n",
       "      <td>32</td>\n",
       "    </tr>\n",
       "    <tr>\n",
       "      <th>62</th>\n",
       "      <td>63</td>\n",
       "      <td>28</td>\n",
       "    </tr>\n",
       "    <tr>\n",
       "      <th>63</th>\n",
       "      <td>64</td>\n",
       "      <td>18</td>\n",
       "    </tr>\n",
       "  </tbody>\n",
       "</table>\n",
       "<p>64 rows × 2 columns</p>\n",
       "</div>"
      ],
      "text/plain": [
       "    tournament_id  interval_id\n",
       "0               0         1308\n",
       "1               1          304\n",
       "2               2         1623\n",
       "3               3          134\n",
       "4               4          118\n",
       "..            ...          ...\n",
       "59             60           24\n",
       "60             61           27\n",
       "61             62           32\n",
       "62             63           28\n",
       "63             64           18\n",
       "\n",
       "[64 rows x 2 columns]"
      ]
     },
     "execution_count": 5,
     "metadata": {},
     "output_type": "execute_result"
    }
   ],
   "source": [
    "df.groupby(\"tournament_id\")[\"interval_id\"].count().reset_index()"
   ]
  },
  {
   "cell_type": "code",
   "execution_count": null,
   "id": "f7c696ff-d7b4-4981-b515-d55711a4ce95",
   "metadata": {},
   "outputs": [],
   "source": []
  }
 ],
 "metadata": {
  "kernelspec": {
   "display_name": "Python 3 (ipykernel)",
   "language": "python",
   "name": "python3"
  },
  "language_info": {
   "codemirror_mode": {
    "name": "ipython",
    "version": 3
   },
   "file_extension": ".py",
   "mimetype": "text/x-python",
   "name": "python",
   "nbconvert_exporter": "python",
   "pygments_lexer": "ipython3",
   "version": "3.10.11"
  }
 },
 "nbformat": 4,
 "nbformat_minor": 5
}
