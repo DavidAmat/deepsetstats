{
 "cells": [
  {
   "cell_type": "code",
   "execution_count": 1,
   "id": "8776827c-58b1-4f2d-a6b4-2d754b385b42",
   "metadata": {
    "tags": []
   },
   "outputs": [],
   "source": [
    "import os\n",
    "import shutil"
   ]
  },
  {
   "cell_type": "code",
   "execution_count": 45,
   "id": "72d916a7-0d24-4763-9121-cb1fb98aedde",
   "metadata": {
    "tags": []
   },
   "outputs": [],
   "source": [
    "def copy_files_without_existing(source_dir, target_dir):\n",
    "    for root, dirs, files in os.walk(source_dir):\n",
    "        counter = 0\n",
    "        for file in files:\n",
    "            if not file.endswith(\".mp4\"):\n",
    "                continue\n",
    "            source_file_path = os.path.join(root, file)\n",
    "            target_file_path = os.path.join(target_dir, file)\n",
    "            \n",
    "            if ((counter % 50) == 0) and counter > 0:\n",
    "                print(f\"Copied: {counter}\")\n",
    "\n",
    "            if not os.path.exists(target_file_path):\n",
    "                counter += 1\n",
    "                shutil.copy2(source_file_path, target_file_path)\n",
    "            else:\n",
    "                continue"
   ]
  },
  {
   "cell_type": "code",
   "execution_count": 3,
   "id": "5200c748-3f8e-48ce-ba21-1b8b832d3006",
   "metadata": {
    "tags": []
   },
   "outputs": [],
   "source": [
    "source_dir = \"/Users/davidamat/Documents/Projects/deepsetstats/videos/tennistv\"\n",
    "target_dir = \"/Volumes/Seagate David Amat/Datasets/deepsetstats/tennistv\""
   ]
  },
  {
   "cell_type": "code",
   "execution_count": 4,
   "id": "696597da-c898-4ac6-a869-1a69e740e4cb",
   "metadata": {},
   "outputs": [],
   "source": [
    "# copy_files_without_existing(source_directory, target_directory)"
   ]
  },
  {
   "cell_type": "code",
   "execution_count": 5,
   "id": "408e6955-345b-471c-9e22-b32ad5022fcc",
   "metadata": {},
   "outputs": [],
   "source": [
    "# rsync -av --ignore-existing /Users/davidamat/Documents/Projects/deepsetstats/videos/tennistv /Volumes/Seagate\\ David\\ Amat/Datasets/deepsetstats/tennistv"
   ]
  },
  {
   "cell_type": "code",
   "execution_count": 38,
   "id": "663ad447-55ca-41ab-b292-c16fccb1195a",
   "metadata": {
    "tags": []
   },
   "outputs": [],
   "source": [
    "tdir = set(os.listdir(target_dir))\n",
    "sdir = set(os.listdir(source_dir))"
   ]
  },
  {
   "cell_type": "code",
   "execution_count": 46,
   "id": "849b41cc-a4c2-45fe-a2e6-6c25da9eb60c",
   "metadata": {},
   "outputs": [],
   "source": [
    "copy_files_without_existing(source_dir, target_dir)"
   ]
  },
  {
   "cell_type": "code",
   "execution_count": 47,
   "id": "6a0a2fd1-bf8f-4600-9fb4-4a2bb24b4c30",
   "metadata": {
    "tags": []
   },
   "outputs": [
    {
     "data": {
      "text/plain": [
       "1066"
      ]
     },
     "execution_count": 47,
     "metadata": {},
     "output_type": "execute_result"
    }
   ],
   "source": [
    "len(tdir)"
   ]
  },
  {
   "cell_type": "code",
   "execution_count": 48,
   "id": "22de5f4b-9adf-4b06-9a66-c9a8e2ad419b",
   "metadata": {
    "tags": []
   },
   "outputs": [
    {
     "data": {
      "text/plain": [
       "1072"
      ]
     },
     "execution_count": 48,
     "metadata": {},
     "output_type": "execute_result"
    }
   ],
   "source": [
    "len(sdir)"
   ]
  },
  {
   "cell_type": "code",
   "execution_count": 49,
   "id": "736ac8a4-7b21-466a-aeb5-fd85b70aca9c",
   "metadata": {
    "tags": []
   },
   "outputs": [],
   "source": [
    "ddir = sdir - tdir"
   ]
  },
  {
   "cell_type": "code",
   "execution_count": 50,
   "id": "65204e59-4905-471e-b361-5ee428db1c4a",
   "metadata": {
    "tags": []
   },
   "outputs": [],
   "source": [
    "xdir = tdir - sdir"
   ]
  },
  {
   "cell_type": "code",
   "execution_count": 51,
   "id": "ecd747f4-e6ae-4470-9175-e6945e812722",
   "metadata": {
    "tags": []
   },
   "outputs": [
    {
     "data": {
      "text/plain": [
       "6"
      ]
     },
     "execution_count": 51,
     "metadata": {},
     "output_type": "execute_result"
    }
   ],
   "source": [
    "len(ddir)"
   ]
  },
  {
   "cell_type": "code",
   "execution_count": 52,
   "id": "d5eb35e0-e4a5-4ef4-93a0-e6fc796fc3bb",
   "metadata": {},
   "outputs": [
    {
     "data": {
      "text/plain": [
       "{'-8gplX9zBws.mp4',\n",
       " 'JMk6pvXzg_0.mp4.part-Frag164.part',\n",
       " 'kBwDS_5ZXtg.mp4.part-Frag56.part',\n",
       " 'wBrDNUJ-_w8.mp4.part',\n",
       " 'wBrDNUJ-_w8.mp4.ytdl',\n",
       " 'wJO4Vmq_tqk.mp4'}"
      ]
     },
     "execution_count": 52,
     "metadata": {},
     "output_type": "execute_result"
    }
   ],
   "source": [
    "ddir"
   ]
  },
  {
   "cell_type": "code",
   "execution_count": 25,
   "id": "fbb5d0eb-4f5c-4f68-a757-9bc76ef58d43",
   "metadata": {
    "tags": []
   },
   "outputs": [
    {
     "data": {
      "text/plain": [
       "394"
      ]
     },
     "execution_count": 25,
     "metadata": {},
     "output_type": "execute_result"
    }
   ],
   "source": [
    "copy_files_without_existing()"
   ]
  }
 ],
 "metadata": {
  "kernelspec": {
   "display_name": "Python 3 (ipykernel)",
   "language": "python",
   "name": "python3"
  },
  "language_info": {
   "codemirror_mode": {
    "name": "ipython",
    "version": 3
   },
   "file_extension": ".py",
   "mimetype": "text/x-python",
   "name": "python",
   "nbconvert_exporter": "python",
   "pygments_lexer": "ipython3",
   "version": "3.8.6"
  }
 },
 "nbformat": 4,
 "nbformat_minor": 5
}
