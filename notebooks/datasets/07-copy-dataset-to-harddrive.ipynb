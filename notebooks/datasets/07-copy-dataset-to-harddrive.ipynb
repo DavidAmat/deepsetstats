{
 "cells": [
  {
   "cell_type": "code",
   "execution_count": 1,
   "id": "8776827c-58b1-4f2d-a6b4-2d754b385b42",
   "metadata": {
    "tags": []
   },
   "outputs": [],
   "source": [
    "import os\n",
    "import shutil"
   ]
  },
  {
   "cell_type": "code",
   "execution_count": 2,
   "id": "72d916a7-0d24-4763-9121-cb1fb98aedde",
   "metadata": {
    "tags": []
   },
   "outputs": [],
   "source": [
    "def copy_files_without_existing(source_dir, target_dir):\n",
    "    for root, dirs, files in os.walk(source_dir):\n",
    "        for file in files:\n",
    "            source_file_path = os.path.join(root, file)\n",
    "            target_file_path = os.path.join(target_dir, file)\n",
    "\n",
    "            if not os.path.exists(target_file_path):\n",
    "                shutil.copy2(source_file_path, target_file_path)\n",
    "                print(f\"Copied: {source_file_path} -> {target_file_path}\")\n",
    "            else:\n",
    "                print(f\"Skipped: {source_file_path} (already exists)\")"
   ]
  },
  {
   "cell_type": "code",
   "execution_count": 3,
   "id": "5200c748-3f8e-48ce-ba21-1b8b832d3006",
   "metadata": {
    "tags": []
   },
   "outputs": [],
   "source": [
    "source_dir = \"/Users/davidamat/Documents/Projects/deepsetstats/videos/tennistv\"\n",
    "target_dir = \"/Volumes/Seagate David Amat/Datasets/deepsetstats/tennistv\""
   ]
  },
  {
   "cell_type": "code",
   "execution_count": null,
   "id": "696597da-c898-4ac6-a869-1a69e740e4cb",
   "metadata": {},
   "outputs": [],
   "source": [
    "# copy_files_without_existing(source_directory, target_directory)"
   ]
  },
  {
   "cell_type": "code",
   "execution_count": null,
   "id": "408e6955-345b-471c-9e22-b32ad5022fcc",
   "metadata": {},
   "outputs": [],
   "source": [
    "# rsync -av --ignore-existing /Users/davidamat/Documents/Projects/deepsetstats/videos/tennistv /Volumes/Seagate\\ David\\ Amat/Datasets/deepsetstats/tennistv"
   ]
  }
 ],
 "metadata": {
  "kernelspec": {
   "display_name": "Python 3 (ipykernel)",
   "language": "python",
   "name": "python3"
  },
  "language_info": {
   "codemirror_mode": {
    "name": "ipython",
    "version": 3
   },
   "file_extension": ".py",
   "mimetype": "text/x-python",
   "name": "python",
   "nbconvert_exporter": "python",
   "pygments_lexer": "ipython3",
   "version": "3.9.17"
  }
 },
 "nbformat": 4,
 "nbformat_minor": 5
}
