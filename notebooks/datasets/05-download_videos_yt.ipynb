{
 "cells": [
  {
   "cell_type": "code",
   "execution_count": 1,
   "id": "ce3da5c3-b7ce-4563-8604-52a7b8ca330a",
   "metadata": {},
   "outputs": [],
   "source": [
    "import os\n",
    "os.chdir(\"/usr/src/app\")\n",
    "import pandas as pd\n",
    "from IPython.display import display, clear_output\n",
    "import time"
   ]
  },
  {
   "cell_type": "code",
   "execution_count": 2,
   "id": "fe18059e-929d-4a76-bfbf-75836f04ce35",
   "metadata": {},
   "outputs": [],
   "source": [
    "# Path dataframe\n",
    "PATH_TENNIS_TV_VIDEOS = \"deepsetstats/dataset/tennistv/parquet/tennistv_videos.parquet\""
   ]
  },
  {
   "cell_type": "code",
   "execution_count": 3,
   "id": "f04c3724-0a75-4683-bfc3-b42ec97a10c0",
   "metadata": {},
   "outputs": [],
   "source": [
    "df = pd.read_parquet(PATH_TENNIS_TV_VIDEOS, engine=\"pyarrow\")"
   ]
  },
  {
   "cell_type": "code",
   "execution_count": 4,
   "id": "33ac157f-a0fd-472d-ab9d-d1ede4f40780",
   "metadata": {},
   "outputs": [],
   "source": [
    "# Get Highlights\n",
    "dfh = df[df.title.str.contains(\"ighlights\")]\n",
    "dfh.reset_index(drop=True, inplace=True)"
   ]
  },
  {
   "cell_type": "code",
   "execution_count": 5,
   "id": "0504c81a-abe5-461a-964d-6b833ea30852",
   "metadata": {},
   "outputs": [
    {
     "data": {
      "text/html": [
       "<div>\n",
       "<style scoped>\n",
       "    .dataframe tbody tr th:only-of-type {\n",
       "        vertical-align: middle;\n",
       "    }\n",
       "\n",
       "    .dataframe tbody tr th {\n",
       "        vertical-align: top;\n",
       "    }\n",
       "\n",
       "    .dataframe thead th {\n",
       "        text-align: right;\n",
       "    }\n",
       "</style>\n",
       "<table border=\"1\" class=\"dataframe\">\n",
       "  <thead>\n",
       "    <tr style=\"text-align: right;\">\n",
       "      <th></th>\n",
       "      <th>title</th>\n",
       "      <th>video_id</th>\n",
       "      <th>date_publish</th>\n",
       "    </tr>\n",
       "  </thead>\n",
       "  <tbody>\n",
       "    <tr>\n",
       "      <th>0</th>\n",
       "      <td>Novak Djokovic vs Alexander Zverev Extended Hi...</td>\n",
       "      <td>dsALS4dDxDs</td>\n",
       "      <td>2023-08-19T08:30:08Z</td>\n",
       "    </tr>\n",
       "    <tr>\n",
       "      <th>1</th>\n",
       "      <td>Alcaraz Battles Purcell; Djokovic Plays Fritz ...</td>\n",
       "      <td>l6Dx9KzyRig</td>\n",
       "      <td>2023-08-19T02:58:54Z</td>\n",
       "    </tr>\n",
       "    <tr>\n",
       "      <th>2</th>\n",
       "      <td>Taylor Fritz vs Novak Djokovic Highlights | Ci...</td>\n",
       "      <td>PBBvQm6xCuo</td>\n",
       "      <td>2023-08-19T02:24:18Z</td>\n",
       "    </tr>\n",
       "    <tr>\n",
       "      <th>3</th>\n",
       "      <td>Alexander Zverev vs Adrian Mannarino Quarter-F...</td>\n",
       "      <td>Tq99SCbjJN4</td>\n",
       "      <td>2023-08-19T00:44:01Z</td>\n",
       "    </tr>\n",
       "    <tr>\n",
       "      <th>4</th>\n",
       "      <td>Carlos Alcaraz vs Max Purcell Battle | Cincinn...</td>\n",
       "      <td>O2DVVIOvo9o</td>\n",
       "      <td>2023-08-18T22:15:55Z</td>\n",
       "    </tr>\n",
       "    <tr>\n",
       "      <th>...</th>\n",
       "      <td>...</td>\n",
       "      <td>...</td>\n",
       "      <td>...</td>\n",
       "    </tr>\n",
       "    <tr>\n",
       "      <th>3073</th>\n",
       "      <td>ATP Masters Series Hamburg 2008 Semi-Final Hig...</td>\n",
       "      <td>9HgBqH44c-8</td>\n",
       "      <td>2008-05-20T13:25:34Z</td>\n",
       "    </tr>\n",
       "    <tr>\n",
       "      <th>3074</th>\n",
       "      <td>ATP Masters Series Hamburg 2008 Final Highligh...</td>\n",
       "      <td>Hxiym30VT8Q</td>\n",
       "      <td>2008-05-19T08:35:00Z</td>\n",
       "    </tr>\n",
       "    <tr>\n",
       "      <th>3075</th>\n",
       "      <td>Sony Ericsson Open 2008 Final Highlights - Raf...</td>\n",
       "      <td>tvaYDyVXAww</td>\n",
       "      <td>2008-04-07T10:40:16Z</td>\n",
       "    </tr>\n",
       "    <tr>\n",
       "      <th>3076</th>\n",
       "      <td>Tennis Masters Cup Shanghai 2007 - Federer v F...</td>\n",
       "      <td>N_Es3ax5JKU</td>\n",
       "      <td>2007-11-19T09:29:39Z</td>\n",
       "    </tr>\n",
       "    <tr>\n",
       "      <th>3077</th>\n",
       "      <td>Tennis Masters Cup Shanghai 2007 Semi-Final Hi...</td>\n",
       "      <td>7mC4cC9BGls</td>\n",
       "      <td>2007-11-18T02:53:14Z</td>\n",
       "    </tr>\n",
       "  </tbody>\n",
       "</table>\n",
       "<p>3078 rows × 3 columns</p>\n",
       "</div>"
      ],
      "text/plain": [
       "                                                  title     video_id  \\\n",
       "0     Novak Djokovic vs Alexander Zverev Extended Hi...  dsALS4dDxDs   \n",
       "1     Alcaraz Battles Purcell; Djokovic Plays Fritz ...  l6Dx9KzyRig   \n",
       "2     Taylor Fritz vs Novak Djokovic Highlights | Ci...  PBBvQm6xCuo   \n",
       "3     Alexander Zverev vs Adrian Mannarino Quarter-F...  Tq99SCbjJN4   \n",
       "4     Carlos Alcaraz vs Max Purcell Battle | Cincinn...  O2DVVIOvo9o   \n",
       "...                                                 ...          ...   \n",
       "3073  ATP Masters Series Hamburg 2008 Semi-Final Hig...  9HgBqH44c-8   \n",
       "3074  ATP Masters Series Hamburg 2008 Final Highligh...  Hxiym30VT8Q   \n",
       "3075  Sony Ericsson Open 2008 Final Highlights - Raf...  tvaYDyVXAww   \n",
       "3076  Tennis Masters Cup Shanghai 2007 - Federer v F...  N_Es3ax5JKU   \n",
       "3077  Tennis Masters Cup Shanghai 2007 Semi-Final Hi...  7mC4cC9BGls   \n",
       "\n",
       "              date_publish  \n",
       "0     2023-08-19T08:30:08Z  \n",
       "1     2023-08-19T02:58:54Z  \n",
       "2     2023-08-19T02:24:18Z  \n",
       "3     2023-08-19T00:44:01Z  \n",
       "4     2023-08-18T22:15:55Z  \n",
       "...                    ...  \n",
       "3073  2008-05-20T13:25:34Z  \n",
       "3074  2008-05-19T08:35:00Z  \n",
       "3075  2008-04-07T10:40:16Z  \n",
       "3076  2007-11-19T09:29:39Z  \n",
       "3077  2007-11-18T02:53:14Z  \n",
       "\n",
       "[3078 rows x 3 columns]"
      ]
     },
     "execution_count": 5,
     "metadata": {},
     "output_type": "execute_result"
    }
   ],
   "source": [
    "dfh"
   ]
  },
  {
   "cell_type": "markdown",
   "id": "32302332-9a97-44a7-87a4-fe554e7b01f9",
   "metadata": {},
   "source": [
    "# Prepare folder"
   ]
  },
  {
   "cell_type": "code",
   "execution_count": 6,
   "id": "370c44ac-5285-4720-b93b-08fc7f507107",
   "metadata": {},
   "outputs": [],
   "source": [
    "import os"
   ]
  },
  {
   "cell_type": "code",
   "execution_count": 7,
   "id": "aaee452e-c168-4b6e-9fdb-b54053b646d3",
   "metadata": {},
   "outputs": [],
   "source": [
    "PATH_OUT_VIDEOS = \"videos/tennistv\"\n",
    "EXTENSION = \".mp4\"\n",
    "\n",
    "# Temporal directory to save downloaded videos and final directory\n",
    "os.makedirs(PATH_OUT_VIDEOS, exist_ok=True)"
   ]
  },
  {
   "cell_type": "markdown",
   "id": "7fc3c01e-ebe4-4fd6-93d8-d58d4eef7e8b",
   "metadata": {},
   "source": [
    "# Download video\n"
   ]
  },
  {
   "cell_type": "code",
   "execution_count": 8,
   "id": "7fa358ae-c062-4cff-ae13-ab5767aa9aba",
   "metadata": {},
   "outputs": [],
   "source": [
    "import yt_dlp as youtube_dl\n",
    "\n",
    "def download_video(video_id, path_out=PATH_OUT_VIDEOS):\n",
    "\n",
    "    ydl_opts = {\n",
    "        \"format\": \"bestvideo[ext=mp4]/best[ext=mp4]\",  # Download the best quality available\n",
    "        \"outtmpl\": f\"{PATH_OUT_VIDEOS}/{video_id}.%(ext)s\",  # Specify the output template\n",
    "    }\n",
    "    \n",
    "    # Create the downloader\n",
    "    with youtube_dl.YoutubeDL(ydl_opts) as ydl:\n",
    "        ydl.download([f\"https://www.youtube.com/watch?v={video_id}\"])\n",
    "\n",
    "    return True"
   ]
  },
  {
   "cell_type": "markdown",
   "id": "9237119b-0e0b-4fab-9b26-eb333b981b2a",
   "metadata": {},
   "source": [
    "# Iterate on videos\n"
   ]
  },
  {
   "cell_type": "code",
   "execution_count": 47,
   "id": "71cb8e27-214e-4cc7-8a28-e96a03030f41",
   "metadata": {},
   "outputs": [],
   "source": [
    "l_videos_downloaded = os.listdir(PATH_OUT_VIDEOS)\n",
    "\n",
    "# Set of already downloaded videos\n",
    "s_videos_downloaded = set()\n",
    "\n",
    "for vid in l_videos_downloaded:\n",
    "    if vid.endswith(EXTENSION):\n",
    "        vid_id = vid.split(EXTENSION)[0]\n",
    "        s_videos_downloaded.add(vid_id)"
   ]
  },
  {
   "cell_type": "code",
   "execution_count": 48,
   "id": "9d3737df-e638-47cf-9053-a06d452e72be",
   "metadata": {},
   "outputs": [],
   "source": [
    "d_success = {\n",
    "    vid_id: True for vid_id in list(s_videos_downloaded)\n",
    "}"
   ]
  },
  {
   "cell_type": "code",
   "execution_count": 49,
   "id": "10466697-b748-4453-a00b-5e474e3249ee",
   "metadata": {},
   "outputs": [
    {
     "data": {
      "text/plain": [
       "854"
      ]
     },
     "execution_count": 49,
     "metadata": {},
     "output_type": "execute_result"
    }
   ],
   "source": [
    "len(d_success)"
   ]
  },
  {
   "cell_type": "code",
   "execution_count": 46,
   "id": "9b12da6c-e85c-4590-a238-a4147000da83",
   "metadata": {
    "scrolled": true
   },
   "outputs": [
    {
     "name": "stdout",
     "output_type": "stream",
     "text": [
      "------------------------------------------------------------\n",
      "Iteration: 800\n",
      "------------------------------------------------------------\n",
      "------------------------------------------------------------\n",
      "DOWNLOADING VIDEO: Kpx7B7V7dtg\n",
      "------------------------------------------------------------\n",
      "[youtube] Extracting URL: https://www.youtube.com/watch?v=Kpx7B7V7dtg\n",
      "[youtube] Kpx7B7V7dtg: Downloading webpage\n"
     ]
    },
    {
     "name": "stderr",
     "output_type": "stream",
     "text": [
      "WARNING: [youtube] unable to extract initial player response; please report this issue on  https://github.com/yt-dlp/yt-dlp/issues?q= , filling out the appropriate issue template. Confirm you are on the latest version using  yt-dlp -U\n"
     ]
    },
    {
     "name": "stdout",
     "output_type": "stream",
     "text": [
      "[youtube] Kpx7B7V7dtg: Downloading ios player API JSON\n",
      "[youtube] Kpx7B7V7dtg: Downloading android player API JSON\n",
      "[youtube] Kpx7B7V7dtg: Downloading iframe API JS\n",
      "[youtube] Kpx7B7V7dtg: Downloading player c153b631\n",
      "[youtube] Kpx7B7V7dtg: Downloading web player API JSON\n",
      "[youtube] Kpx7B7V7dtg: Downloading m3u8 information\n"
     ]
    },
    {
     "name": "stderr",
     "output_type": "stream",
     "text": [
      "WARNING: [youtube] unable to extract yt initial data; please report this issue on  https://github.com/yt-dlp/yt-dlp/issues?q= , filling out the appropriate issue template. Confirm you are on the latest version using  yt-dlp -U\n",
      "WARNING: [youtube] Incomplete data received in embedded initial data; re-fetching using API.\n"
     ]
    },
    {
     "name": "stdout",
     "output_type": "stream",
     "text": [
      "[youtube] Kpx7B7V7dtg: Downloading initial data API JSON\n",
      "[info] Kpx7B7V7dtg: Downloading 1 format(s): 617\n",
      "[hlsnative] Downloading m3u8 manifest\n",
      "[hlsnative] Total fragments: 93\n",
      "[download] Destination: videos/tennistv/Kpx7B7V7dtg.mp4\n",
      "[download] 100% of  187.14MiB in 00:01:13 at 2.56MiB/s                    \n",
      "------------------------------------------------------------\n",
      "DOWNLOADING VIDEO: -YXx9Dh1DKE\n",
      "------------------------------------------------------------\n",
      "[youtube] Extracting URL: https://www.youtube.com/watch?v=-YXx9Dh1DKE\n",
      "[youtube] -YXx9Dh1DKE: Downloading webpage\n"
     ]
    },
    {
     "name": "stderr",
     "output_type": "stream",
     "text": [
      "WARNING: [youtube] unable to extract initial player response; please report this issue on  https://github.com/yt-dlp/yt-dlp/issues?q= , filling out the appropriate issue template. Confirm you are on the latest version using  yt-dlp -U\n"
     ]
    },
    {
     "name": "stdout",
     "output_type": "stream",
     "text": [
      "[youtube] -YXx9Dh1DKE: Downloading ios player API JSON\n",
      "[youtube] -YXx9Dh1DKE: Downloading android player API JSON\n",
      "[youtube] -YXx9Dh1DKE: Downloading iframe API JS\n",
      "[youtube] -YXx9Dh1DKE: Downloading player c153b631\n",
      "[youtube] -YXx9Dh1DKE: Downloading web player API JSON\n",
      "[youtube] -YXx9Dh1DKE: Downloading m3u8 information\n"
     ]
    },
    {
     "name": "stderr",
     "output_type": "stream",
     "text": [
      "WARNING: [youtube] unable to extract yt initial data; please report this issue on  https://github.com/yt-dlp/yt-dlp/issues?q= , filling out the appropriate issue template. Confirm you are on the latest version using  yt-dlp -U\n",
      "WARNING: [youtube] Incomplete data received in embedded initial data; re-fetching using API.\n"
     ]
    },
    {
     "name": "stdout",
     "output_type": "stream",
     "text": [
      "[youtube] -YXx9Dh1DKE: Downloading initial data API JSON\n",
      "[info] -YXx9Dh1DKE: Downloading 1 format(s): 617\n",
      "[hlsnative] Downloading m3u8 manifest\n",
      "[hlsnative] Total fragments: 101\n",
      "[download] Destination: videos/tennistv/-YXx9Dh1DKE.mp4\n",
      "[download] 100% of  173.41MiB in 00:00:55 at 3.14MiB/s                      \n",
      "------------------------------------------------------------\n",
      "DOWNLOADING VIDEO: yD5moGi-cAw\n",
      "------------------------------------------------------------\n",
      "[youtube] Extracting URL: https://www.youtube.com/watch?v=yD5moGi-cAw\n",
      "[youtube] yD5moGi-cAw: Downloading webpage\n"
     ]
    },
    {
     "name": "stderr",
     "output_type": "stream",
     "text": [
      "WARNING: [youtube] unable to extract initial player response; please report this issue on  https://github.com/yt-dlp/yt-dlp/issues?q= , filling out the appropriate issue template. Confirm you are on the latest version using  yt-dlp -U\n"
     ]
    },
    {
     "name": "stdout",
     "output_type": "stream",
     "text": [
      "[youtube] yD5moGi-cAw: Downloading ios player API JSON\n",
      "[youtube] yD5moGi-cAw: Downloading android player API JSON\n",
      "[youtube] yD5moGi-cAw: Downloading iframe API JS\n",
      "[youtube] yD5moGi-cAw: Downloading player c153b631\n",
      "[youtube] yD5moGi-cAw: Downloading web player API JSON\n",
      "[youtube] yD5moGi-cAw: Downloading m3u8 information\n"
     ]
    },
    {
     "name": "stderr",
     "output_type": "stream",
     "text": [
      "WARNING: [youtube] unable to extract yt initial data; please report this issue on  https://github.com/yt-dlp/yt-dlp/issues?q= , filling out the appropriate issue template. Confirm you are on the latest version using  yt-dlp -U\n",
      "WARNING: [youtube] Incomplete data received in embedded initial data; re-fetching using API.\n"
     ]
    },
    {
     "name": "stdout",
     "output_type": "stream",
     "text": [
      "[youtube] yD5moGi-cAw: Downloading initial data API JSON\n",
      "[info] yD5moGi-cAw: Downloading 1 format(s): 617\n",
      "[hlsnative] Downloading m3u8 manifest\n",
      "[hlsnative] Total fragments: 100\n",
      "[download] Destination: videos/tennistv/yD5moGi-cAw.mp4\n",
      "[download] 100% of  121.74MiB in 00:01:19 at 1.52MiB/s                      \n",
      "------------------------------------------------------------\n",
      "DOWNLOADING VIDEO: OvE68dAcY4M\n",
      "------------------------------------------------------------\n",
      "[youtube] Extracting URL: https://www.youtube.com/watch?v=OvE68dAcY4M\n",
      "[youtube] OvE68dAcY4M: Downloading webpage\n"
     ]
    },
    {
     "name": "stderr",
     "output_type": "stream",
     "text": [
      "WARNING: [youtube] unable to extract initial player response; please report this issue on  https://github.com/yt-dlp/yt-dlp/issues?q= , filling out the appropriate issue template. Confirm you are on the latest version using  yt-dlp -U\n"
     ]
    },
    {
     "name": "stdout",
     "output_type": "stream",
     "text": [
      "[youtube] OvE68dAcY4M: Downloading ios player API JSON\n",
      "[youtube] OvE68dAcY4M: Downloading android player API JSON\n",
      "[youtube] OvE68dAcY4M: Downloading iframe API JS\n",
      "[youtube] OvE68dAcY4M: Downloading player c153b631\n",
      "[youtube] OvE68dAcY4M: Downloading web player API JSON\n",
      "[youtube] OvE68dAcY4M: Downloading m3u8 information\n"
     ]
    },
    {
     "name": "stderr",
     "output_type": "stream",
     "text": [
      "WARNING: [youtube] unable to extract yt initial data; please report this issue on  https://github.com/yt-dlp/yt-dlp/issues?q= , filling out the appropriate issue template. Confirm you are on the latest version using  yt-dlp -U\n",
      "WARNING: [youtube] Incomplete data received in embedded initial data; re-fetching using API.\n"
     ]
    },
    {
     "name": "stdout",
     "output_type": "stream",
     "text": [
      "[youtube] OvE68dAcY4M: Downloading initial data API JSON\n",
      "[info] OvE68dAcY4M: Downloading 1 format(s): 617\n",
      "[hlsnative] Downloading m3u8 manifest\n",
      "[hlsnative] Total fragments: 105\n",
      "[download] Destination: videos/tennistv/OvE68dAcY4M.mp4\n",
      "[download] 100% of  121.02MiB in 00:01:24 at 1.43MiB/s                      \n",
      "------------------------------------------------------------\n",
      "DOWNLOADING VIDEO: cGlCOhXJQAM\n",
      "------------------------------------------------------------\n",
      "[youtube] Extracting URL: https://www.youtube.com/watch?v=cGlCOhXJQAM\n",
      "[youtube] cGlCOhXJQAM: Downloading webpage\n"
     ]
    },
    {
     "name": "stderr",
     "output_type": "stream",
     "text": [
      "WARNING: [youtube] unable to extract initial player response; please report this issue on  https://github.com/yt-dlp/yt-dlp/issues?q= , filling out the appropriate issue template. Confirm you are on the latest version using  yt-dlp -U\n"
     ]
    },
    {
     "name": "stdout",
     "output_type": "stream",
     "text": [
      "[youtube] cGlCOhXJQAM: Downloading ios player API JSON\n",
      "[youtube] cGlCOhXJQAM: Downloading android player API JSON\n",
      "[youtube] cGlCOhXJQAM: Downloading iframe API JS\n",
      "[youtube] cGlCOhXJQAM: Downloading player c153b631\n",
      "[youtube] cGlCOhXJQAM: Downloading web player API JSON\n",
      "[youtube] cGlCOhXJQAM: Downloading m3u8 information\n"
     ]
    },
    {
     "name": "stderr",
     "output_type": "stream",
     "text": [
      "WARNING: [youtube] unable to extract yt initial data; please report this issue on  https://github.com/yt-dlp/yt-dlp/issues?q= , filling out the appropriate issue template. Confirm you are on the latest version using  yt-dlp -U\n",
      "WARNING: [youtube] Incomplete data received in embedded initial data; re-fetching using API.\n"
     ]
    },
    {
     "name": "stdout",
     "output_type": "stream",
     "text": [
      "[youtube] cGlCOhXJQAM: Downloading initial data API JSON\n",
      "[info] cGlCOhXJQAM: Downloading 1 format(s): 617\n",
      "[hlsnative] Downloading m3u8 manifest\n",
      "[hlsnative] Total fragments: 100\n",
      "[download] Destination: videos/tennistv/cGlCOhXJQAM.mp4\n",
      "[download] 100% of  109.60MiB in 00:00:43 at 2.52MiB/s                      \n",
      "------------------------------------------------------------\n",
      "DOWNLOADING VIDEO: GNBj7E7LemU\n",
      "------------------------------------------------------------\n",
      "[youtube] Extracting URL: https://www.youtube.com/watch?v=GNBj7E7LemU\n",
      "[youtube] GNBj7E7LemU: Downloading webpage\n"
     ]
    },
    {
     "name": "stderr",
     "output_type": "stream",
     "text": [
      "WARNING: [youtube] unable to extract initial player response; please report this issue on  https://github.com/yt-dlp/yt-dlp/issues?q= , filling out the appropriate issue template. Confirm you are on the latest version using  yt-dlp -U\n"
     ]
    },
    {
     "name": "stdout",
     "output_type": "stream",
     "text": [
      "[youtube] GNBj7E7LemU: Downloading ios player API JSON\n",
      "[youtube] GNBj7E7LemU: Downloading android player API JSON\n",
      "[youtube] GNBj7E7LemU: Downloading iframe API JS\n",
      "[youtube] GNBj7E7LemU: Downloading player c153b631\n",
      "[youtube] GNBj7E7LemU: Downloading web player API JSON\n",
      "[youtube] GNBj7E7LemU: Downloading m3u8 information\n"
     ]
    },
    {
     "name": "stderr",
     "output_type": "stream",
     "text": [
      "WARNING: [youtube] unable to extract yt initial data; please report this issue on  https://github.com/yt-dlp/yt-dlp/issues?q= , filling out the appropriate issue template. Confirm you are on the latest version using  yt-dlp -U\n",
      "WARNING: [youtube] Incomplete data received in embedded initial data; re-fetching using API.\n"
     ]
    },
    {
     "name": "stdout",
     "output_type": "stream",
     "text": [
      "[youtube] GNBj7E7LemU: Downloading initial data API JSON\n",
      "[info] GNBj7E7LemU: Downloading 1 format(s): 617\n",
      "[hlsnative] Downloading m3u8 manifest\n",
      "[hlsnative] Total fragments: 99\n",
      "[download] Destination: videos/tennistv/GNBj7E7LemU.mp4\n",
      "[download] 100% of  115.23MiB in 00:01:02 at 1.83MiB/s                    \n",
      "------------------------------------------------------------\n",
      "DOWNLOADING VIDEO: H0AV3Uy_4-Y\n",
      "------------------------------------------------------------\n",
      "[youtube] Extracting URL: https://www.youtube.com/watch?v=H0AV3Uy_4-Y\n",
      "[youtube] H0AV3Uy_4-Y: Downloading webpage\n"
     ]
    },
    {
     "name": "stderr",
     "output_type": "stream",
     "text": [
      "WARNING: [youtube] unable to extract initial player response; please report this issue on  https://github.com/yt-dlp/yt-dlp/issues?q= , filling out the appropriate issue template. Confirm you are on the latest version using  yt-dlp -U\n"
     ]
    },
    {
     "name": "stdout",
     "output_type": "stream",
     "text": [
      "[youtube] H0AV3Uy_4-Y: Downloading ios player API JSON\n",
      "[youtube] H0AV3Uy_4-Y: Downloading android player API JSON\n",
      "[youtube] H0AV3Uy_4-Y: Downloading iframe API JS\n",
      "[youtube] H0AV3Uy_4-Y: Downloading player c153b631\n",
      "[youtube] H0AV3Uy_4-Y: Downloading web player API JSON\n",
      "[youtube] H0AV3Uy_4-Y: Downloading m3u8 information\n"
     ]
    },
    {
     "name": "stderr",
     "output_type": "stream",
     "text": [
      "WARNING: [youtube] unable to extract yt initial data; please report this issue on  https://github.com/yt-dlp/yt-dlp/issues?q= , filling out the appropriate issue template. Confirm you are on the latest version using  yt-dlp -U\n",
      "WARNING: [youtube] Incomplete data received in embedded initial data; re-fetching using API.\n"
     ]
    },
    {
     "name": "stdout",
     "output_type": "stream",
     "text": [
      "[youtube] H0AV3Uy_4-Y: Downloading initial data API JSON\n",
      "[info] H0AV3Uy_4-Y: Downloading 1 format(s): 614\n",
      "[hlsnative] Downloading m3u8 manifest\n",
      "[hlsnative] Total fragments: 98\n",
      "[download] Destination: videos/tennistv/H0AV3Uy_4-Y.mp4\n",
      "[download] 100% of   65.77MiB in 00:00:43 at 1.52MiB/s                    \n",
      "------------------------------------------------------------\n",
      "DOWNLOADING VIDEO: 5HQ0yR6DWRA\n",
      "------------------------------------------------------------\n",
      "[youtube] Extracting URL: https://www.youtube.com/watch?v=5HQ0yR6DWRA\n",
      "[youtube] 5HQ0yR6DWRA: Downloading webpage\n"
     ]
    },
    {
     "name": "stderr",
     "output_type": "stream",
     "text": [
      "WARNING: [youtube] unable to extract initial player response; please report this issue on  https://github.com/yt-dlp/yt-dlp/issues?q= , filling out the appropriate issue template. Confirm you are on the latest version using  yt-dlp -U\n"
     ]
    },
    {
     "name": "stdout",
     "output_type": "stream",
     "text": [
      "[youtube] 5HQ0yR6DWRA: Downloading ios player API JSON\n",
      "[youtube] 5HQ0yR6DWRA: Downloading android player API JSON\n",
      "[youtube] 5HQ0yR6DWRA: Downloading iframe API JS\n",
      "[youtube] 5HQ0yR6DWRA: Downloading player c153b631\n",
      "[youtube] 5HQ0yR6DWRA: Downloading web player API JSON\n",
      "[youtube] 5HQ0yR6DWRA: Downloading m3u8 information\n"
     ]
    },
    {
     "name": "stderr",
     "output_type": "stream",
     "text": [
      "WARNING: [youtube] unable to extract yt initial data; please report this issue on  https://github.com/yt-dlp/yt-dlp/issues?q= , filling out the appropriate issue template. Confirm you are on the latest version using  yt-dlp -U\n",
      "WARNING: [youtube] Incomplete data received in embedded initial data; re-fetching using API.\n"
     ]
    },
    {
     "name": "stdout",
     "output_type": "stream",
     "text": [
      "[youtube] 5HQ0yR6DWRA: Downloading initial data API JSON\n",
      "[info] 5HQ0yR6DWRA: Downloading 1 format(s): 617\n",
      "[hlsnative] Downloading m3u8 manifest\n",
      "[hlsnative] Total fragments: 102\n",
      "[download] Destination: videos/tennistv/5HQ0yR6DWRA.mp4\n",
      "[download] 100% of  137.31MiB in 00:01:01 at 2.23MiB/s                      \n",
      "------------------------------------------------------------\n",
      "DOWNLOADING VIDEO: WtkMn13htkk\n",
      "------------------------------------------------------------\n",
      "[youtube] Extracting URL: https://www.youtube.com/watch?v=WtkMn13htkk\n",
      "[youtube] WtkMn13htkk: Downloading webpage\n"
     ]
    },
    {
     "name": "stderr",
     "output_type": "stream",
     "text": [
      "WARNING: [youtube] unable to extract initial player response; please report this issue on  https://github.com/yt-dlp/yt-dlp/issues?q= , filling out the appropriate issue template. Confirm you are on the latest version using  yt-dlp -U\n"
     ]
    },
    {
     "name": "stdout",
     "output_type": "stream",
     "text": [
      "[youtube] WtkMn13htkk: Downloading ios player API JSON\n",
      "[youtube] WtkMn13htkk: Downloading android player API JSON\n",
      "[youtube] WtkMn13htkk: Downloading iframe API JS\n",
      "[youtube] WtkMn13htkk: Downloading player c153b631\n",
      "[youtube] WtkMn13htkk: Downloading web player API JSON\n",
      "[youtube] WtkMn13htkk: Downloading m3u8 information\n"
     ]
    },
    {
     "name": "stderr",
     "output_type": "stream",
     "text": [
      "WARNING: [youtube] unable to extract yt initial data; please report this issue on  https://github.com/yt-dlp/yt-dlp/issues?q= , filling out the appropriate issue template. Confirm you are on the latest version using  yt-dlp -U\n",
      "WARNING: [youtube] Incomplete data received in embedded initial data; re-fetching using API.\n"
     ]
    },
    {
     "name": "stdout",
     "output_type": "stream",
     "text": [
      "[youtube] WtkMn13htkk: Downloading initial data API JSON\n",
      "[info] WtkMn13htkk: Downloading 1 format(s): 617\n",
      "[hlsnative] Downloading m3u8 manifest\n",
      "[hlsnative] Total fragments: 39\n",
      "[download] Destination: videos/tennistv/WtkMn13htkk.mp4\n",
      "[download] 100% of   93.05MiB in 00:00:49 at 1.89MiB/s                    \n",
      "------------------------------------------------------------\n",
      "DOWNLOADING VIDEO: oRijlPUrsOE\n",
      "------------------------------------------------------------\n",
      "[youtube] Extracting URL: https://www.youtube.com/watch?v=oRijlPUrsOE\n",
      "[youtube] oRijlPUrsOE: Downloading webpage\n"
     ]
    },
    {
     "name": "stderr",
     "output_type": "stream",
     "text": [
      "WARNING: [youtube] unable to extract initial player response; please report this issue on  https://github.com/yt-dlp/yt-dlp/issues?q= , filling out the appropriate issue template. Confirm you are on the latest version using  yt-dlp -U\n"
     ]
    },
    {
     "name": "stdout",
     "output_type": "stream",
     "text": [
      "[youtube] oRijlPUrsOE: Downloading ios player API JSON\n",
      "[youtube] oRijlPUrsOE: Downloading android player API JSON\n",
      "[youtube] oRijlPUrsOE: Downloading iframe API JS\n",
      "[youtube] oRijlPUrsOE: Downloading player c153b631\n",
      "[youtube] oRijlPUrsOE: Downloading web player API JSON\n",
      "[youtube] oRijlPUrsOE: Downloading m3u8 information\n"
     ]
    },
    {
     "name": "stderr",
     "output_type": "stream",
     "text": [
      "WARNING: [youtube] unable to extract yt initial data; please report this issue on  https://github.com/yt-dlp/yt-dlp/issues?q= , filling out the appropriate issue template. Confirm you are on the latest version using  yt-dlp -U\n",
      "WARNING: [youtube] Incomplete data received in embedded initial data; re-fetching using API.\n"
     ]
    },
    {
     "name": "stdout",
     "output_type": "stream",
     "text": [
      "[youtube] oRijlPUrsOE: Downloading initial data API JSON\n",
      "[info] oRijlPUrsOE: Downloading 1 format(s): 614\n",
      "[hlsnative] Downloading m3u8 manifest\n",
      "[hlsnative] Total fragments: 98\n",
      "[download] Destination: videos/tennistv/oRijlPUrsOE.mp4\n",
      "[download] 100% of  145.53MiB in 00:00:59 at 2.44MiB/s                    \n",
      "------------------------------------------------------------\n",
      "DOWNLOADING VIDEO: kuPeXeJ6yx0\n",
      "------------------------------------------------------------\n",
      "[youtube] Extracting URL: https://www.youtube.com/watch?v=kuPeXeJ6yx0\n",
      "[youtube] kuPeXeJ6yx0: Downloading webpage\n"
     ]
    },
    {
     "name": "stderr",
     "output_type": "stream",
     "text": [
      "WARNING: [youtube] unable to extract initial player response; please report this issue on  https://github.com/yt-dlp/yt-dlp/issues?q= , filling out the appropriate issue template. Confirm you are on the latest version using  yt-dlp -U\n"
     ]
    },
    {
     "name": "stdout",
     "output_type": "stream",
     "text": [
      "[youtube] kuPeXeJ6yx0: Downloading ios player API JSON\n",
      "[youtube] kuPeXeJ6yx0: Downloading android player API JSON\n",
      "[youtube] kuPeXeJ6yx0: Downloading iframe API JS\n",
      "[youtube] kuPeXeJ6yx0: Downloading player c153b631\n",
      "[youtube] kuPeXeJ6yx0: Downloading web player API JSON\n",
      "[youtube] kuPeXeJ6yx0: Downloading m3u8 information\n"
     ]
    },
    {
     "name": "stderr",
     "output_type": "stream",
     "text": [
      "WARNING: [youtube] unable to extract yt initial data; please report this issue on  https://github.com/yt-dlp/yt-dlp/issues?q= , filling out the appropriate issue template. Confirm you are on the latest version using  yt-dlp -U\n",
      "WARNING: [youtube] Incomplete data received in embedded initial data; re-fetching using API.\n"
     ]
    },
    {
     "name": "stdout",
     "output_type": "stream",
     "text": [
      "[youtube] kuPeXeJ6yx0: Downloading initial data API JSON\n",
      "[info] kuPeXeJ6yx0: Downloading 1 format(s): 614\n",
      "[hlsnative] Downloading m3u8 manifest\n",
      "[hlsnative] Total fragments: 99\n",
      "[download] Destination: videos/tennistv/kuPeXeJ6yx0.mp4\n",
      "[download] 100% of  136.83MiB in 00:01:11 at 1.93MiB/s                     \n",
      "------------------------------------------------------------\n",
      "DOWNLOADING VIDEO: 5-QB_8a_W28\n",
      "------------------------------------------------------------\n",
      "[youtube] Extracting URL: https://www.youtube.com/watch?v=5-QB_8a_W28\n",
      "[youtube] 5-QB_8a_W28: Downloading webpage\n"
     ]
    },
    {
     "name": "stderr",
     "output_type": "stream",
     "text": [
      "WARNING: [youtube] unable to extract initial player response; please report this issue on  https://github.com/yt-dlp/yt-dlp/issues?q= , filling out the appropriate issue template. Confirm you are on the latest version using  yt-dlp -U\n"
     ]
    },
    {
     "name": "stdout",
     "output_type": "stream",
     "text": [
      "[youtube] 5-QB_8a_W28: Downloading ios player API JSON\n",
      "[youtube] 5-QB_8a_W28: Downloading android player API JSON\n",
      "[youtube] 5-QB_8a_W28: Downloading iframe API JS\n",
      "[youtube] 5-QB_8a_W28: Downloading player c153b631\n",
      "[youtube] 5-QB_8a_W28: Downloading web player API JSON\n",
      "[youtube] 5-QB_8a_W28: Downloading m3u8 information\n"
     ]
    },
    {
     "name": "stderr",
     "output_type": "stream",
     "text": [
      "WARNING: [youtube] unable to extract yt initial data; please report this issue on  https://github.com/yt-dlp/yt-dlp/issues?q= , filling out the appropriate issue template. Confirm you are on the latest version using  yt-dlp -U\n",
      "WARNING: [youtube] Incomplete data received in embedded initial data; re-fetching using API.\n"
     ]
    },
    {
     "name": "stdout",
     "output_type": "stream",
     "text": [
      "[youtube] 5-QB_8a_W28: Downloading initial data API JSON\n",
      "[info] 5-QB_8a_W28: Downloading 1 format(s): 617\n",
      "[hlsnative] Downloading m3u8 manifest\n",
      "[hlsnative] Total fragments: 146\n",
      "[download] Destination: videos/tennistv/5-QB_8a_W28.mp4\n",
      "[download] 100% of  182.56MiB in 00:01:17 at 2.34MiB/s                      \n",
      "------------------------------------------------------------\n",
      "DOWNLOADING VIDEO: 0uZRRm9jDd4\n",
      "------------------------------------------------------------\n",
      "[youtube] Extracting URL: https://www.youtube.com/watch?v=0uZRRm9jDd4\n",
      "[youtube] 0uZRRm9jDd4: Downloading webpage\n"
     ]
    },
    {
     "name": "stderr",
     "output_type": "stream",
     "text": [
      "WARNING: [youtube] unable to extract initial player response; please report this issue on  https://github.com/yt-dlp/yt-dlp/issues?q= , filling out the appropriate issue template. Confirm you are on the latest version using  yt-dlp -U\n"
     ]
    },
    {
     "name": "stdout",
     "output_type": "stream",
     "text": [
      "[youtube] 0uZRRm9jDd4: Downloading ios player API JSON\n",
      "[youtube] 0uZRRm9jDd4: Downloading android player API JSON\n",
      "[youtube] 0uZRRm9jDd4: Downloading iframe API JS\n",
      "[youtube] 0uZRRm9jDd4: Downloading player c153b631\n",
      "[youtube] 0uZRRm9jDd4: Downloading web player API JSON\n",
      "[youtube] 0uZRRm9jDd4: Downloading m3u8 information\n"
     ]
    },
    {
     "name": "stderr",
     "output_type": "stream",
     "text": [
      "WARNING: [youtube] unable to extract yt initial data; please report this issue on  https://github.com/yt-dlp/yt-dlp/issues?q= , filling out the appropriate issue template. Confirm you are on the latest version using  yt-dlp -U\n",
      "WARNING: [youtube] Incomplete data received in embedded initial data; re-fetching using API.\n"
     ]
    },
    {
     "name": "stdout",
     "output_type": "stream",
     "text": [
      "[youtube] 0uZRRm9jDd4: Downloading initial data API JSON\n",
      "[info] 0uZRRm9jDd4: Downloading 1 format(s): 614\n",
      "[hlsnative] Downloading m3u8 manifest\n",
      "[hlsnative] Total fragments: 95\n",
      "[download] Destination: videos/tennistv/0uZRRm9jDd4.mp4\n",
      "[download] 100% of  143.38MiB in 00:00:52 at 2.72MiB/s                    \n",
      "------------------------------------------------------------\n",
      "DOWNLOADING VIDEO: Bxge6vs-QrI\n",
      "------------------------------------------------------------\n",
      "[youtube] Extracting URL: https://www.youtube.com/watch?v=Bxge6vs-QrI\n",
      "[youtube] Bxge6vs-QrI: Downloading webpage\n"
     ]
    },
    {
     "name": "stderr",
     "output_type": "stream",
     "text": [
      "WARNING: [youtube] unable to extract initial player response; please report this issue on  https://github.com/yt-dlp/yt-dlp/issues?q= , filling out the appropriate issue template. Confirm you are on the latest version using  yt-dlp -U\n"
     ]
    },
    {
     "name": "stdout",
     "output_type": "stream",
     "text": [
      "[youtube] Bxge6vs-QrI: Downloading ios player API JSON\n",
      "[youtube] Bxge6vs-QrI: Downloading android player API JSON\n",
      "[youtube] Bxge6vs-QrI: Downloading iframe API JS\n",
      "[youtube] Bxge6vs-QrI: Downloading player c153b631\n",
      "[youtube] Bxge6vs-QrI: Downloading web player API JSON\n",
      "[youtube] Bxge6vs-QrI: Downloading m3u8 information\n"
     ]
    },
    {
     "name": "stderr",
     "output_type": "stream",
     "text": [
      "WARNING: [youtube] unable to extract yt initial data; please report this issue on  https://github.com/yt-dlp/yt-dlp/issues?q= , filling out the appropriate issue template. Confirm you are on the latest version using  yt-dlp -U\n",
      "WARNING: [youtube] Incomplete data received in embedded initial data; re-fetching using API.\n"
     ]
    },
    {
     "name": "stdout",
     "output_type": "stream",
     "text": [
      "[youtube] Bxge6vs-QrI: Downloading initial data API JSON\n",
      "[info] Bxge6vs-QrI: Downloading 1 format(s): 617\n",
      "[hlsnative] Downloading m3u8 manifest\n",
      "[hlsnative] Total fragments: 43\n",
      "[download] Destination: videos/tennistv/Bxge6vs-QrI.mp4\n",
      "[download] 100% of  106.21MiB in 00:00:47 at 2.21MiB/s                     \n",
      "------------------------------------------------------------\n",
      "DOWNLOADING VIDEO: -vZX0OUC6bY\n",
      "------------------------------------------------------------\n",
      "[youtube] Extracting URL: https://www.youtube.com/watch?v=-vZX0OUC6bY\n",
      "[youtube] -vZX0OUC6bY: Downloading webpage\n"
     ]
    },
    {
     "name": "stderr",
     "output_type": "stream",
     "text": [
      "WARNING: [youtube] unable to extract initial player response; please report this issue on  https://github.com/yt-dlp/yt-dlp/issues?q= , filling out the appropriate issue template. Confirm you are on the latest version using  yt-dlp -U\n"
     ]
    },
    {
     "name": "stdout",
     "output_type": "stream",
     "text": [
      "[youtube] -vZX0OUC6bY: Downloading ios player API JSON\n",
      "[youtube] -vZX0OUC6bY: Downloading android player API JSON\n",
      "[youtube] -vZX0OUC6bY: Downloading iframe API JS\n",
      "[youtube] -vZX0OUC6bY: Downloading player c153b631\n",
      "[youtube] -vZX0OUC6bY: Downloading web player API JSON\n",
      "[youtube] -vZX0OUC6bY: Downloading m3u8 information\n"
     ]
    },
    {
     "name": "stderr",
     "output_type": "stream",
     "text": [
      "WARNING: [youtube] unable to extract yt initial data; please report this issue on  https://github.com/yt-dlp/yt-dlp/issues?q= , filling out the appropriate issue template. Confirm you are on the latest version using  yt-dlp -U\n",
      "WARNING: [youtube] Incomplete data received in embedded initial data; re-fetching using API.\n"
     ]
    },
    {
     "name": "stdout",
     "output_type": "stream",
     "text": [
      "[youtube] -vZX0OUC6bY: Downloading initial data API JSON\n",
      "[info] -vZX0OUC6bY: Downloading 1 format(s): 616\n",
      "[hlsnative] Downloading m3u8 manifest\n",
      "[hlsnative] Total fragments: 100\n",
      "[download] Destination: videos/tennistv/-vZX0OUC6bY.mp4\n",
      "[download] 100% of  273.28MiB in 00:02:24 at 1.89MiB/s                      \n",
      "------------------------------------------------------------\n",
      "DOWNLOADING VIDEO: H7jWyFdd2wY\n",
      "------------------------------------------------------------\n",
      "[youtube] Extracting URL: https://www.youtube.com/watch?v=H7jWyFdd2wY\n",
      "[youtube] H7jWyFdd2wY: Downloading webpage\n"
     ]
    },
    {
     "name": "stderr",
     "output_type": "stream",
     "text": [
      "WARNING: [youtube] unable to extract initial player response; please report this issue on  https://github.com/yt-dlp/yt-dlp/issues?q= , filling out the appropriate issue template. Confirm you are on the latest version using  yt-dlp -U\n"
     ]
    },
    {
     "name": "stdout",
     "output_type": "stream",
     "text": [
      "[youtube] H7jWyFdd2wY: Downloading ios player API JSON\n",
      "[youtube] H7jWyFdd2wY: Downloading android player API JSON\n",
      "[youtube] H7jWyFdd2wY: Downloading iframe API JS\n",
      "[youtube] H7jWyFdd2wY: Downloading player c153b631\n",
      "[youtube] H7jWyFdd2wY: Downloading web player API JSON\n",
      "[youtube] H7jWyFdd2wY: Downloading m3u8 information\n"
     ]
    },
    {
     "name": "stderr",
     "output_type": "stream",
     "text": [
      "WARNING: [youtube] unable to extract yt initial data; please report this issue on  https://github.com/yt-dlp/yt-dlp/issues?q= , filling out the appropriate issue template. Confirm you are on the latest version using  yt-dlp -U\n",
      "WARNING: [youtube] Incomplete data received in embedded initial data; re-fetching using API.\n"
     ]
    },
    {
     "name": "stdout",
     "output_type": "stream",
     "text": [
      "[youtube] H7jWyFdd2wY: Downloading initial data API JSON\n",
      "[info] H7jWyFdd2wY: Downloading 1 format(s): 617\n",
      "[hlsnative] Downloading m3u8 manifest\n",
      "[hlsnative] Total fragments: 40\n",
      "[download] Destination: videos/tennistv/H7jWyFdd2wY.mp4\n",
      "[download] 100% of   89.20MiB in 00:00:39 at 2.23MiB/s                     \n",
      "------------------------------------------------------------\n",
      "DOWNLOADING VIDEO: hJym1JBzMRA\n",
      "------------------------------------------------------------\n",
      "[youtube] Extracting URL: https://www.youtube.com/watch?v=hJym1JBzMRA\n",
      "[youtube] hJym1JBzMRA: Downloading webpage\n"
     ]
    },
    {
     "name": "stderr",
     "output_type": "stream",
     "text": [
      "WARNING: [youtube] unable to extract initial player response; please report this issue on  https://github.com/yt-dlp/yt-dlp/issues?q= , filling out the appropriate issue template. Confirm you are on the latest version using  yt-dlp -U\n"
     ]
    },
    {
     "name": "stdout",
     "output_type": "stream",
     "text": [
      "[youtube] hJym1JBzMRA: Downloading ios player API JSON\n",
      "[youtube] hJym1JBzMRA: Downloading android player API JSON\n",
      "[youtube] hJym1JBzMRA: Downloading iframe API JS\n",
      "[youtube] hJym1JBzMRA: Downloading player c153b631\n",
      "[youtube] hJym1JBzMRA: Downloading web player API JSON\n",
      "[youtube] hJym1JBzMRA: Downloading m3u8 information\n"
     ]
    },
    {
     "name": "stderr",
     "output_type": "stream",
     "text": [
      "WARNING: [youtube] unable to extract yt initial data; please report this issue on  https://github.com/yt-dlp/yt-dlp/issues?q= , filling out the appropriate issue template. Confirm you are on the latest version using  yt-dlp -U\n",
      "WARNING: [youtube] Incomplete data received in embedded initial data; re-fetching using API.\n"
     ]
    },
    {
     "name": "stdout",
     "output_type": "stream",
     "text": [
      "[youtube] hJym1JBzMRA: Downloading initial data API JSON\n",
      "[info] hJym1JBzMRA: Downloading 1 format(s): 614\n",
      "[hlsnative] Downloading m3u8 manifest\n",
      "[hlsnative] Total fragments: 99\n",
      "[download] Destination: videos/tennistv/hJym1JBzMRA.mp4\n",
      "[download] 100% of  138.98MiB in 00:00:57 at 2.43MiB/s                     \n",
      "------------------------------------------------------------\n",
      "DOWNLOADING VIDEO: CJyTuWGjpks\n",
      "------------------------------------------------------------\n",
      "[youtube] Extracting URL: https://www.youtube.com/watch?v=CJyTuWGjpks\n",
      "[youtube] CJyTuWGjpks: Downloading webpage\n"
     ]
    },
    {
     "name": "stderr",
     "output_type": "stream",
     "text": [
      "WARNING: [youtube] unable to extract initial player response; please report this issue on  https://github.com/yt-dlp/yt-dlp/issues?q= , filling out the appropriate issue template. Confirm you are on the latest version using  yt-dlp -U\n"
     ]
    },
    {
     "name": "stdout",
     "output_type": "stream",
     "text": [
      "[youtube] CJyTuWGjpks: Downloading ios player API JSON\n",
      "[youtube] CJyTuWGjpks: Downloading android player API JSON\n",
      "[youtube] CJyTuWGjpks: Downloading iframe API JS\n",
      "[youtube] CJyTuWGjpks: Downloading player c153b631\n",
      "[youtube] CJyTuWGjpks: Downloading web player API JSON\n",
      "[youtube] CJyTuWGjpks: Downloading m3u8 information\n"
     ]
    },
    {
     "name": "stderr",
     "output_type": "stream",
     "text": [
      "WARNING: [youtube] unable to extract yt initial data; please report this issue on  https://github.com/yt-dlp/yt-dlp/issues?q= , filling out the appropriate issue template. Confirm you are on the latest version using  yt-dlp -U\n",
      "WARNING: [youtube] Incomplete data received in embedded initial data; re-fetching using API.\n"
     ]
    },
    {
     "name": "stdout",
     "output_type": "stream",
     "text": [
      "[youtube] CJyTuWGjpks: Downloading initial data API JSON\n",
      "[info] CJyTuWGjpks: Downloading 1 format(s): 617\n",
      "[hlsnative] Downloading m3u8 manifest\n",
      "[hlsnative] Total fragments: 47\n",
      "[download] Destination: videos/tennistv/CJyTuWGjpks.mp4\n",
      "[download] 100% of  104.44MiB in 00:00:29 at 3.49MiB/s                    \n",
      "------------------------------------------------------------\n",
      "DOWNLOADING VIDEO: AviwUbyCaxc\n",
      "------------------------------------------------------------\n",
      "[youtube] Extracting URL: https://www.youtube.com/watch?v=AviwUbyCaxc\n",
      "[youtube] AviwUbyCaxc: Downloading webpage\n"
     ]
    },
    {
     "name": "stderr",
     "output_type": "stream",
     "text": [
      "WARNING: [youtube] unable to extract initial player response; please report this issue on  https://github.com/yt-dlp/yt-dlp/issues?q= , filling out the appropriate issue template. Confirm you are on the latest version using  yt-dlp -U\n"
     ]
    },
    {
     "name": "stdout",
     "output_type": "stream",
     "text": [
      "[youtube] AviwUbyCaxc: Downloading ios player API JSON\n",
      "[youtube] AviwUbyCaxc: Downloading android player API JSON\n",
      "[youtube] AviwUbyCaxc: Downloading iframe API JS\n",
      "[youtube] AviwUbyCaxc: Downloading player c153b631\n",
      "[youtube] AviwUbyCaxc: Downloading web player API JSON\n",
      "[youtube] AviwUbyCaxc: Downloading m3u8 information\n"
     ]
    },
    {
     "name": "stderr",
     "output_type": "stream",
     "text": [
      "WARNING: [youtube] unable to extract yt initial data; please report this issue on  https://github.com/yt-dlp/yt-dlp/issues?q= , filling out the appropriate issue template. Confirm you are on the latest version using  yt-dlp -U\n",
      "WARNING: [youtube] Incomplete data received in embedded initial data; re-fetching using API.\n"
     ]
    },
    {
     "name": "stdout",
     "output_type": "stream",
     "text": [
      "[youtube] AviwUbyCaxc: Downloading initial data API JSON\n",
      "[info] AviwUbyCaxc: Downloading 1 format(s): 617\n",
      "[hlsnative] Downloading m3u8 manifest\n",
      "[hlsnative] Total fragments: 34\n",
      "[download] Destination: videos/tennistv/AviwUbyCaxc.mp4\n",
      "[download] 100% of   55.29MiB in 00:00:29 at 1.88MiB/s                    \n",
      "------------------------------------------------------------\n",
      "DOWNLOADING VIDEO: tEcd7VtIRng\n",
      "------------------------------------------------------------\n",
      "[youtube] Extracting URL: https://www.youtube.com/watch?v=tEcd7VtIRng\n",
      "[youtube] tEcd7VtIRng: Downloading webpage\n"
     ]
    },
    {
     "name": "stderr",
     "output_type": "stream",
     "text": [
      "WARNING: [youtube] unable to extract initial player response; please report this issue on  https://github.com/yt-dlp/yt-dlp/issues?q= , filling out the appropriate issue template. Confirm you are on the latest version using  yt-dlp -U\n"
     ]
    },
    {
     "name": "stdout",
     "output_type": "stream",
     "text": [
      "[youtube] tEcd7VtIRng: Downloading ios player API JSON\n",
      "[youtube] tEcd7VtIRng: Downloading android player API JSON\n",
      "[youtube] tEcd7VtIRng: Downloading iframe API JS\n",
      "[youtube] tEcd7VtIRng: Downloading player c153b631\n",
      "[youtube] tEcd7VtIRng: Downloading web player API JSON\n",
      "[youtube] tEcd7VtIRng: Downloading m3u8 information\n"
     ]
    },
    {
     "name": "stderr",
     "output_type": "stream",
     "text": [
      "WARNING: [youtube] unable to extract yt initial data; please report this issue on  https://github.com/yt-dlp/yt-dlp/issues?q= , filling out the appropriate issue template. Confirm you are on the latest version using  yt-dlp -U\n",
      "WARNING: [youtube] Incomplete data received in embedded initial data; re-fetching using API.\n"
     ]
    },
    {
     "name": "stdout",
     "output_type": "stream",
     "text": [
      "[youtube] tEcd7VtIRng: Downloading initial data API JSON\n",
      "[info] tEcd7VtIRng: Downloading 1 format(s): 617\n",
      "[hlsnative] Downloading m3u8 manifest\n",
      "[hlsnative] Total fragments: 48\n",
      "[download] Destination: videos/tennistv/tEcd7VtIRng.mp4\n",
      "[download] 100% of  110.70MiB in 00:00:51 at 2.16MiB/s                     \n",
      "------------------------------------------------------------\n",
      "DOWNLOADING VIDEO: j-B5p4l_Sbo\n",
      "------------------------------------------------------------\n",
      "[youtube] Extracting URL: https://www.youtube.com/watch?v=j-B5p4l_Sbo\n",
      "[youtube] j-B5p4l_Sbo: Downloading webpage\n"
     ]
    },
    {
     "name": "stderr",
     "output_type": "stream",
     "text": [
      "WARNING: [youtube] unable to extract initial player response; please report this issue on  https://github.com/yt-dlp/yt-dlp/issues?q= , filling out the appropriate issue template. Confirm you are on the latest version using  yt-dlp -U\n"
     ]
    },
    {
     "name": "stdout",
     "output_type": "stream",
     "text": [
      "[youtube] j-B5p4l_Sbo: Downloading ios player API JSON\n",
      "[youtube] j-B5p4l_Sbo: Downloading android player API JSON\n",
      "[youtube] j-B5p4l_Sbo: Downloading iframe API JS\n",
      "[youtube] j-B5p4l_Sbo: Downloading player c153b631\n",
      "[youtube] j-B5p4l_Sbo: Downloading web player API JSON\n",
      "[youtube] j-B5p4l_Sbo: Downloading m3u8 information\n"
     ]
    },
    {
     "name": "stderr",
     "output_type": "stream",
     "text": [
      "WARNING: [youtube] unable to extract yt initial data; please report this issue on  https://github.com/yt-dlp/yt-dlp/issues?q= , filling out the appropriate issue template. Confirm you are on the latest version using  yt-dlp -U\n",
      "WARNING: [youtube] Incomplete data received in embedded initial data; re-fetching using API.\n"
     ]
    },
    {
     "name": "stdout",
     "output_type": "stream",
     "text": [
      "[youtube] j-B5p4l_Sbo: Downloading initial data API JSON\n",
      "[info] j-B5p4l_Sbo: Downloading 1 format(s): 614\n",
      "[hlsnative] Downloading m3u8 manifest\n",
      "[hlsnative] Total fragments: 97\n",
      "[download] Destination: videos/tennistv/j-B5p4l_Sbo.mp4\n",
      "[download] 100% of  134.90MiB in 00:01:11 at 1.89MiB/s                    \n",
      "------------------------------------------------------------\n",
      "DOWNLOADING VIDEO: eoeSBp4J5d4\n",
      "------------------------------------------------------------\n",
      "[youtube] Extracting URL: https://www.youtube.com/watch?v=eoeSBp4J5d4\n",
      "[youtube] eoeSBp4J5d4: Downloading webpage\n"
     ]
    },
    {
     "name": "stderr",
     "output_type": "stream",
     "text": [
      "WARNING: [youtube] unable to extract initial player response; please report this issue on  https://github.com/yt-dlp/yt-dlp/issues?q= , filling out the appropriate issue template. Confirm you are on the latest version using  yt-dlp -U\n"
     ]
    },
    {
     "name": "stdout",
     "output_type": "stream",
     "text": [
      "[youtube] eoeSBp4J5d4: Downloading ios player API JSON\n",
      "[youtube] eoeSBp4J5d4: Downloading android player API JSON\n",
      "[youtube] eoeSBp4J5d4: Downloading iframe API JS\n",
      "[youtube] eoeSBp4J5d4: Downloading player c153b631\n",
      "[youtube] eoeSBp4J5d4: Downloading web player API JSON\n",
      "[youtube] eoeSBp4J5d4: Downloading m3u8 information\n"
     ]
    },
    {
     "name": "stderr",
     "output_type": "stream",
     "text": [
      "WARNING: [youtube] unable to extract yt initial data; please report this issue on  https://github.com/yt-dlp/yt-dlp/issues?q= , filling out the appropriate issue template. Confirm you are on the latest version using  yt-dlp -U\n",
      "WARNING: [youtube] Incomplete data received in embedded initial data; re-fetching using API.\n"
     ]
    },
    {
     "name": "stdout",
     "output_type": "stream",
     "text": [
      "[youtube] eoeSBp4J5d4: Downloading initial data API JSON\n",
      "[info] eoeSBp4J5d4: Downloading 1 format(s): 617\n",
      "[hlsnative] Downloading m3u8 manifest\n",
      "[hlsnative] Total fragments: 48\n",
      "[download] Destination: videos/tennistv/eoeSBp4J5d4.mp4\n",
      "[download] 100% of  116.62MiB in 00:00:40 at 2.88MiB/s                    \n",
      "------------------------------------------------------------\n",
      "DOWNLOADING VIDEO: tP68XyZCjx4\n",
      "------------------------------------------------------------\n",
      "[youtube] Extracting URL: https://www.youtube.com/watch?v=tP68XyZCjx4\n",
      "[youtube] tP68XyZCjx4: Downloading webpage\n"
     ]
    },
    {
     "name": "stderr",
     "output_type": "stream",
     "text": [
      "WARNING: [youtube] unable to extract initial player response; please report this issue on  https://github.com/yt-dlp/yt-dlp/issues?q= , filling out the appropriate issue template. Confirm you are on the latest version using  yt-dlp -U\n"
     ]
    },
    {
     "name": "stdout",
     "output_type": "stream",
     "text": [
      "[youtube] tP68XyZCjx4: Downloading ios player API JSON\n",
      "[youtube] tP68XyZCjx4: Downloading android player API JSON\n",
      "[youtube] tP68XyZCjx4: Downloading iframe API JS\n",
      "[youtube] tP68XyZCjx4: Downloading player c153b631\n",
      "[youtube] tP68XyZCjx4: Downloading web player API JSON\n",
      "[youtube] tP68XyZCjx4: Downloading m3u8 information\n"
     ]
    },
    {
     "name": "stderr",
     "output_type": "stream",
     "text": [
      "WARNING: [youtube] unable to extract yt initial data; please report this issue on  https://github.com/yt-dlp/yt-dlp/issues?q= , filling out the appropriate issue template. Confirm you are on the latest version using  yt-dlp -U\n",
      "WARNING: [youtube] Incomplete data received in embedded initial data; re-fetching using API.\n"
     ]
    },
    {
     "name": "stdout",
     "output_type": "stream",
     "text": [
      "[youtube] tP68XyZCjx4: Downloading initial data API JSON\n",
      "[info] tP68XyZCjx4: Downloading 1 format(s): 617\n",
      "[hlsnative] Downloading m3u8 manifest\n",
      "[hlsnative] Total fragments: 20\n",
      "[download] Destination: videos/tennistv/tP68XyZCjx4.mp4\n",
      "[download] 100% of   48.27MiB in 00:00:17 at 2.80MiB/s                    \n",
      "------------------------------------------------------------\n",
      "DOWNLOADING VIDEO: oMMtbiwPCaY\n",
      "------------------------------------------------------------\n",
      "[youtube] Extracting URL: https://www.youtube.com/watch?v=oMMtbiwPCaY\n",
      "[youtube] oMMtbiwPCaY: Downloading webpage\n"
     ]
    },
    {
     "name": "stderr",
     "output_type": "stream",
     "text": [
      "WARNING: [youtube] unable to extract initial player response; please report this issue on  https://github.com/yt-dlp/yt-dlp/issues?q= , filling out the appropriate issue template. Confirm you are on the latest version using  yt-dlp -U\n"
     ]
    },
    {
     "name": "stdout",
     "output_type": "stream",
     "text": [
      "[youtube] oMMtbiwPCaY: Downloading ios player API JSON\n",
      "[youtube] oMMtbiwPCaY: Downloading android player API JSON\n",
      "[youtube] oMMtbiwPCaY: Downloading iframe API JS\n",
      "[youtube] oMMtbiwPCaY: Downloading player c153b631\n",
      "[youtube] oMMtbiwPCaY: Downloading web player API JSON\n",
      "[youtube] oMMtbiwPCaY: Downloading m3u8 information\n"
     ]
    },
    {
     "name": "stderr",
     "output_type": "stream",
     "text": [
      "WARNING: [youtube] unable to extract yt initial data; please report this issue on  https://github.com/yt-dlp/yt-dlp/issues?q= , filling out the appropriate issue template. Confirm you are on the latest version using  yt-dlp -U\n",
      "WARNING: [youtube] Incomplete data received in embedded initial data; re-fetching using API.\n"
     ]
    },
    {
     "name": "stdout",
     "output_type": "stream",
     "text": [
      "[youtube] oMMtbiwPCaY: Downloading initial data API JSON\n",
      "[info] oMMtbiwPCaY: Downloading 1 format(s): 616\n",
      "[hlsnative] Downloading m3u8 manifest\n",
      "[hlsnative] Total fragments: 99\n",
      "[download] Destination: videos/tennistv/oMMtbiwPCaY.mp4\n",
      "[download] 100% of  259.09MiB in 00:02:57 at 1.46MiB/s                     \n",
      "------------------------------------------------------------\n",
      "DOWNLOADING VIDEO: mlkEM9NRYpU\n",
      "------------------------------------------------------------\n",
      "[youtube] Extracting URL: https://www.youtube.com/watch?v=mlkEM9NRYpU\n",
      "[youtube] mlkEM9NRYpU: Downloading webpage\n"
     ]
    },
    {
     "name": "stderr",
     "output_type": "stream",
     "text": [
      "WARNING: [youtube] unable to extract initial player response; please report this issue on  https://github.com/yt-dlp/yt-dlp/issues?q= , filling out the appropriate issue template. Confirm you are on the latest version using  yt-dlp -U\n"
     ]
    },
    {
     "name": "stdout",
     "output_type": "stream",
     "text": [
      "[youtube] mlkEM9NRYpU: Downloading ios player API JSON\n",
      "[youtube] mlkEM9NRYpU: Downloading android player API JSON\n",
      "[youtube] mlkEM9NRYpU: Downloading iframe API JS\n",
      "[youtube] mlkEM9NRYpU: Downloading player c153b631\n",
      "[youtube] mlkEM9NRYpU: Downloading web player API JSON\n",
      "[youtube] mlkEM9NRYpU: Downloading m3u8 information\n"
     ]
    },
    {
     "name": "stderr",
     "output_type": "stream",
     "text": [
      "WARNING: [youtube] unable to extract yt initial data; please report this issue on  https://github.com/yt-dlp/yt-dlp/issues?q= , filling out the appropriate issue template. Confirm you are on the latest version using  yt-dlp -U\n",
      "WARNING: [youtube] Incomplete data received in embedded initial data; re-fetching using API.\n"
     ]
    },
    {
     "name": "stdout",
     "output_type": "stream",
     "text": [
      "[youtube] mlkEM9NRYpU: Downloading initial data API JSON\n",
      "[info] mlkEM9NRYpU: Downloading 1 format(s): 617\n",
      "[hlsnative] Downloading m3u8 manifest\n",
      "[hlsnative] Total fragments: 32\n",
      "[download] Destination: videos/tennistv/mlkEM9NRYpU.mp4\n",
      "[download] 100% of   78.46MiB in 00:00:26 at 2.95MiB/s                    \n",
      "------------------------------------------------------------\n",
      "DOWNLOADING VIDEO: T9ACvalil1o\n",
      "------------------------------------------------------------\n",
      "[youtube] Extracting URL: https://www.youtube.com/watch?v=T9ACvalil1o\n",
      "[youtube] T9ACvalil1o: Downloading webpage\n"
     ]
    },
    {
     "name": "stderr",
     "output_type": "stream",
     "text": [
      "WARNING: [youtube] unable to extract initial player response; please report this issue on  https://github.com/yt-dlp/yt-dlp/issues?q= , filling out the appropriate issue template. Confirm you are on the latest version using  yt-dlp -U\n"
     ]
    },
    {
     "name": "stdout",
     "output_type": "stream",
     "text": [
      "[youtube] T9ACvalil1o: Downloading ios player API JSON\n",
      "[youtube] T9ACvalil1o: Downloading android player API JSON\n",
      "[youtube] T9ACvalil1o: Downloading iframe API JS\n",
      "[youtube] T9ACvalil1o: Downloading player c153b631\n",
      "[youtube] T9ACvalil1o: Downloading web player API JSON\n",
      "[youtube] T9ACvalil1o: Downloading m3u8 information\n"
     ]
    },
    {
     "name": "stderr",
     "output_type": "stream",
     "text": [
      "WARNING: [youtube] unable to extract yt initial data; please report this issue on  https://github.com/yt-dlp/yt-dlp/issues?q= , filling out the appropriate issue template. Confirm you are on the latest version using  yt-dlp -U\n",
      "WARNING: [youtube] Incomplete data received in embedded initial data; re-fetching using API.\n"
     ]
    },
    {
     "name": "stdout",
     "output_type": "stream",
     "text": [
      "[youtube] T9ACvalil1o: Downloading initial data API JSON\n",
      "[info] T9ACvalil1o: Downloading 1 format(s): 614\n",
      "[hlsnative] Downloading m3u8 manifest\n",
      "[hlsnative] Total fragments: 49\n",
      "[download] Destination: videos/tennistv/T9ACvalil1o.mp4\n",
      "[download] 100% of   57.86MiB in 00:00:24 at 2.32MiB/s                    \n",
      "------------------------------------------------------------\n",
      "DOWNLOADING VIDEO: epAWXUmEYyk\n",
      "------------------------------------------------------------\n",
      "[youtube] Extracting URL: https://www.youtube.com/watch?v=epAWXUmEYyk\n",
      "[youtube] epAWXUmEYyk: Downloading webpage\n"
     ]
    },
    {
     "name": "stderr",
     "output_type": "stream",
     "text": [
      "WARNING: [youtube] unable to extract initial player response; please report this issue on  https://github.com/yt-dlp/yt-dlp/issues?q= , filling out the appropriate issue template. Confirm you are on the latest version using  yt-dlp -U\n"
     ]
    },
    {
     "name": "stdout",
     "output_type": "stream",
     "text": [
      "[youtube] epAWXUmEYyk: Downloading ios player API JSON\n",
      "[youtube] epAWXUmEYyk: Downloading android player API JSON\n",
      "[youtube] epAWXUmEYyk: Downloading iframe API JS\n",
      "[youtube] epAWXUmEYyk: Downloading player c153b631\n",
      "[youtube] epAWXUmEYyk: Downloading web player API JSON\n",
      "[youtube] epAWXUmEYyk: Downloading m3u8 information\n"
     ]
    },
    {
     "name": "stderr",
     "output_type": "stream",
     "text": [
      "WARNING: [youtube] unable to extract yt initial data; please report this issue on  https://github.com/yt-dlp/yt-dlp/issues?q= , filling out the appropriate issue template. Confirm you are on the latest version using  yt-dlp -U\n",
      "WARNING: [youtube] Incomplete data received in embedded initial data; re-fetching using API.\n"
     ]
    },
    {
     "name": "stdout",
     "output_type": "stream",
     "text": [
      "[youtube] epAWXUmEYyk: Downloading initial data API JSON\n",
      "[info] epAWXUmEYyk: Downloading 1 format(s): 614\n",
      "[hlsnative] Downloading m3u8 manifest\n",
      "[hlsnative] Total fragments: 86\n",
      "[download] Destination: videos/tennistv/epAWXUmEYyk.mp4\n",
      "[download] 100% of  119.51MiB in 00:00:56 at 2.12MiB/s                    \n",
      "------------------------------------------------------------\n",
      "DOWNLOADING VIDEO: mNIYsVnZcgE\n",
      "------------------------------------------------------------\n",
      "[youtube] Extracting URL: https://www.youtube.com/watch?v=mNIYsVnZcgE\n",
      "[youtube] mNIYsVnZcgE: Downloading webpage\n"
     ]
    },
    {
     "name": "stderr",
     "output_type": "stream",
     "text": [
      "WARNING: [youtube] unable to extract initial player response; please report this issue on  https://github.com/yt-dlp/yt-dlp/issues?q= , filling out the appropriate issue template. Confirm you are on the latest version using  yt-dlp -U\n"
     ]
    },
    {
     "name": "stdout",
     "output_type": "stream",
     "text": [
      "[youtube] mNIYsVnZcgE: Downloading ios player API JSON\n",
      "[youtube] mNIYsVnZcgE: Downloading android player API JSON\n",
      "[youtube] mNIYsVnZcgE: Downloading iframe API JS\n",
      "[youtube] mNIYsVnZcgE: Downloading player c153b631\n",
      "[youtube] mNIYsVnZcgE: Downloading web player API JSON\n",
      "[youtube] mNIYsVnZcgE: Downloading m3u8 information\n"
     ]
    },
    {
     "name": "stderr",
     "output_type": "stream",
     "text": [
      "WARNING: [youtube] unable to extract yt initial data; please report this issue on  https://github.com/yt-dlp/yt-dlp/issues?q= , filling out the appropriate issue template. Confirm you are on the latest version using  yt-dlp -U\n",
      "WARNING: [youtube] Incomplete data received in embedded initial data; re-fetching using API.\n"
     ]
    },
    {
     "name": "stdout",
     "output_type": "stream",
     "text": [
      "[youtube] mNIYsVnZcgE: Downloading initial data API JSON\n",
      "[info] mNIYsVnZcgE: Downloading 1 format(s): 614\n",
      "[hlsnative] Downloading m3u8 manifest\n",
      "[hlsnative] Total fragments: 46\n",
      "[download] Destination: videos/tennistv/mNIYsVnZcgE.mp4\n",
      "[download] 100% of   60.27MiB in 00:00:35 at 1.69MiB/s                    \n",
      "------------------------------------------------------------\n",
      "DOWNLOADING VIDEO: yWx8X_bYkBw\n",
      "------------------------------------------------------------\n",
      "[youtube] Extracting URL: https://www.youtube.com/watch?v=yWx8X_bYkBw\n",
      "[youtube] yWx8X_bYkBw: Downloading webpage\n"
     ]
    },
    {
     "name": "stderr",
     "output_type": "stream",
     "text": [
      "WARNING: [youtube] unable to extract initial player response; please report this issue on  https://github.com/yt-dlp/yt-dlp/issues?q= , filling out the appropriate issue template. Confirm you are on the latest version using  yt-dlp -U\n"
     ]
    },
    {
     "name": "stdout",
     "output_type": "stream",
     "text": [
      "[youtube] yWx8X_bYkBw: Downloading ios player API JSON\n",
      "[youtube] yWx8X_bYkBw: Downloading android player API JSON\n",
      "[youtube] yWx8X_bYkBw: Downloading iframe API JS\n",
      "[youtube] yWx8X_bYkBw: Downloading player c153b631\n",
      "[youtube] yWx8X_bYkBw: Downloading web player API JSON\n",
      "[youtube] yWx8X_bYkBw: Downloading m3u8 information\n"
     ]
    },
    {
     "name": "stderr",
     "output_type": "stream",
     "text": [
      "WARNING: [youtube] unable to extract yt initial data; please report this issue on  https://github.com/yt-dlp/yt-dlp/issues?q= , filling out the appropriate issue template. Confirm you are on the latest version using  yt-dlp -U\n",
      "WARNING: [youtube] Incomplete data received in embedded initial data; re-fetching using API.\n"
     ]
    },
    {
     "name": "stdout",
     "output_type": "stream",
     "text": [
      "[youtube] yWx8X_bYkBw: Downloading initial data API JSON\n",
      "[info] yWx8X_bYkBw: Downloading 1 format(s): 617\n",
      "[hlsnative] Downloading m3u8 manifest\n",
      "[hlsnative] Total fragments: 116\n",
      "[download] Destination: videos/tennistv/yWx8X_bYkBw.mp4\n",
      "[download] 100% of  186.55MiB in 00:01:21 at 2.28MiB/s                      \n",
      "------------------------------------------------------------\n",
      "DOWNLOADING VIDEO: Jegs5I3yi-o\n",
      "------------------------------------------------------------\n",
      "[youtube] Extracting URL: https://www.youtube.com/watch?v=Jegs5I3yi-o\n",
      "[youtube] Jegs5I3yi-o: Downloading webpage\n"
     ]
    },
    {
     "name": "stderr",
     "output_type": "stream",
     "text": [
      "WARNING: [youtube] unable to extract initial player response; please report this issue on  https://github.com/yt-dlp/yt-dlp/issues?q= , filling out the appropriate issue template. Confirm you are on the latest version using  yt-dlp -U\n"
     ]
    },
    {
     "name": "stdout",
     "output_type": "stream",
     "text": [
      "[youtube] Jegs5I3yi-o: Downloading ios player API JSON\n",
      "[youtube] Jegs5I3yi-o: Downloading android player API JSON\n",
      "[youtube] Jegs5I3yi-o: Downloading iframe API JS\n",
      "[youtube] Jegs5I3yi-o: Downloading player c153b631\n",
      "[youtube] Jegs5I3yi-o: Downloading web player API JSON\n",
      "[youtube] Jegs5I3yi-o: Downloading m3u8 information\n"
     ]
    },
    {
     "name": "stderr",
     "output_type": "stream",
     "text": [
      "WARNING: [youtube] unable to extract yt initial data; please report this issue on  https://github.com/yt-dlp/yt-dlp/issues?q= , filling out the appropriate issue template. Confirm you are on the latest version using  yt-dlp -U\n",
      "WARNING: [youtube] Incomplete data received in embedded initial data; re-fetching using API.\n"
     ]
    },
    {
     "name": "stdout",
     "output_type": "stream",
     "text": [
      "[youtube] Jegs5I3yi-o: Downloading initial data API JSON\n",
      "[info] Jegs5I3yi-o: Downloading 1 format(s): 617\n",
      "[hlsnative] Downloading m3u8 manifest\n",
      "[hlsnative] Total fragments: 48\n",
      "[download] Destination: videos/tennistv/Jegs5I3yi-o.mp4\n",
      "[download] 100% of  109.08MiB in 00:00:58 at 1.87MiB/s                    \n",
      "------------------------------------------------------------\n",
      "DOWNLOADING VIDEO: A8xH2tRX3YU\n",
      "------------------------------------------------------------\n",
      "[youtube] Extracting URL: https://www.youtube.com/watch?v=A8xH2tRX3YU\n",
      "[youtube] A8xH2tRX3YU: Downloading webpage\n"
     ]
    },
    {
     "name": "stderr",
     "output_type": "stream",
     "text": [
      "WARNING: [youtube] unable to extract initial player response; please report this issue on  https://github.com/yt-dlp/yt-dlp/issues?q= , filling out the appropriate issue template. Confirm you are on the latest version using  yt-dlp -U\n"
     ]
    },
    {
     "name": "stdout",
     "output_type": "stream",
     "text": [
      "[youtube] A8xH2tRX3YU: Downloading ios player API JSON\n",
      "[youtube] A8xH2tRX3YU: Downloading android player API JSON\n",
      "[youtube] A8xH2tRX3YU: Downloading iframe API JS\n",
      "[youtube] A8xH2tRX3YU: Downloading player c153b631\n",
      "[youtube] A8xH2tRX3YU: Downloading web player API JSON\n",
      "[youtube] A8xH2tRX3YU: Downloading m3u8 information\n"
     ]
    },
    {
     "name": "stderr",
     "output_type": "stream",
     "text": [
      "WARNING: [youtube] unable to extract yt initial data; please report this issue on  https://github.com/yt-dlp/yt-dlp/issues?q= , filling out the appropriate issue template. Confirm you are on the latest version using  yt-dlp -U\n",
      "WARNING: [youtube] Incomplete data received in embedded initial data; re-fetching using API.\n"
     ]
    },
    {
     "name": "stdout",
     "output_type": "stream",
     "text": [
      "[youtube] A8xH2tRX3YU: Downloading initial data API JSON\n",
      "[info] A8xH2tRX3YU: Downloading 1 format(s): 616\n",
      "[hlsnative] Downloading m3u8 manifest\n",
      "[hlsnative] Total fragments: 95\n",
      "[download] Destination: videos/tennistv/A8xH2tRX3YU.mp4\n",
      "[download] 100% of  287.61MiB in 00:02:23 at 2.00MiB/s                    \n",
      "------------------------------------------------------------\n",
      "DOWNLOADING VIDEO: A35bWS9PobY\n",
      "------------------------------------------------------------\n",
      "[youtube] Extracting URL: https://www.youtube.com/watch?v=A35bWS9PobY\n",
      "[youtube] A35bWS9PobY: Downloading webpage\n"
     ]
    },
    {
     "name": "stderr",
     "output_type": "stream",
     "text": [
      "WARNING: [youtube] unable to extract initial player response; please report this issue on  https://github.com/yt-dlp/yt-dlp/issues?q= , filling out the appropriate issue template. Confirm you are on the latest version using  yt-dlp -U\n"
     ]
    },
    {
     "name": "stdout",
     "output_type": "stream",
     "text": [
      "[youtube] A35bWS9PobY: Downloading ios player API JSON\n",
      "[youtube] A35bWS9PobY: Downloading android player API JSON\n",
      "[youtube] A35bWS9PobY: Downloading iframe API JS\n",
      "[youtube] A35bWS9PobY: Downloading player c153b631\n",
      "[youtube] A35bWS9PobY: Downloading web player API JSON\n",
      "[youtube] A35bWS9PobY: Downloading m3u8 information\n"
     ]
    },
    {
     "name": "stderr",
     "output_type": "stream",
     "text": [
      "WARNING: [youtube] unable to extract yt initial data; please report this issue on  https://github.com/yt-dlp/yt-dlp/issues?q= , filling out the appropriate issue template. Confirm you are on the latest version using  yt-dlp -U\n",
      "WARNING: [youtube] Incomplete data received in embedded initial data; re-fetching using API.\n"
     ]
    },
    {
     "name": "stdout",
     "output_type": "stream",
     "text": [
      "[youtube] A35bWS9PobY: Downloading initial data API JSON\n",
      "[info] A35bWS9PobY: Downloading 1 format(s): 614\n",
      "[hlsnative] Downloading m3u8 manifest\n",
      "[hlsnative] Total fragments: 95\n",
      "[download] Destination: videos/tennistv/A35bWS9PobY.mp4\n",
      "[download] 100% of  126.10MiB in 00:00:57 at 2.19MiB/s                    \n",
      "------------------------------------------------------------\n",
      "DOWNLOADING VIDEO: dgR4G4AHBFI\n",
      "------------------------------------------------------------\n",
      "[youtube] Extracting URL: https://www.youtube.com/watch?v=dgR4G4AHBFI\n",
      "[youtube] dgR4G4AHBFI: Downloading webpage\n"
     ]
    },
    {
     "name": "stderr",
     "output_type": "stream",
     "text": [
      "WARNING: [youtube] unable to extract initial player response; please report this issue on  https://github.com/yt-dlp/yt-dlp/issues?q= , filling out the appropriate issue template. Confirm you are on the latest version using  yt-dlp -U\n"
     ]
    },
    {
     "name": "stdout",
     "output_type": "stream",
     "text": [
      "[youtube] dgR4G4AHBFI: Downloading ios player API JSON\n",
      "[youtube] dgR4G4AHBFI: Downloading android player API JSON\n",
      "[youtube] dgR4G4AHBFI: Downloading iframe API JS\n",
      "[youtube] dgR4G4AHBFI: Downloading player c153b631\n",
      "[youtube] dgR4G4AHBFI: Downloading web player API JSON\n",
      "[youtube] dgR4G4AHBFI: Downloading m3u8 information\n"
     ]
    },
    {
     "name": "stderr",
     "output_type": "stream",
     "text": [
      "WARNING: [youtube] unable to extract yt initial data; please report this issue on  https://github.com/yt-dlp/yt-dlp/issues?q= , filling out the appropriate issue template. Confirm you are on the latest version using  yt-dlp -U\n",
      "WARNING: [youtube] Incomplete data received in embedded initial data; re-fetching using API.\n"
     ]
    },
    {
     "name": "stdout",
     "output_type": "stream",
     "text": [
      "[youtube] dgR4G4AHBFI: Downloading initial data API JSON\n",
      "[info] dgR4G4AHBFI: Downloading 1 format(s): 617\n",
      "[hlsnative] Downloading m3u8 manifest\n",
      "[hlsnative] Total fragments: 48\n",
      "[download] Destination: videos/tennistv/dgR4G4AHBFI.mp4\n",
      "[download] 100% of  108.12MiB in 00:00:54 at 1.98MiB/s                     \n",
      "------------------------------------------------------------\n",
      "DOWNLOADING VIDEO: X0dHh_-lq0g\n",
      "------------------------------------------------------------\n",
      "[youtube] Extracting URL: https://www.youtube.com/watch?v=X0dHh_-lq0g\n",
      "[youtube] X0dHh_-lq0g: Downloading webpage\n"
     ]
    },
    {
     "name": "stderr",
     "output_type": "stream",
     "text": [
      "WARNING: [youtube] unable to extract initial player response; please report this issue on  https://github.com/yt-dlp/yt-dlp/issues?q= , filling out the appropriate issue template. Confirm you are on the latest version using  yt-dlp -U\n"
     ]
    },
    {
     "name": "stdout",
     "output_type": "stream",
     "text": [
      "[youtube] X0dHh_-lq0g: Downloading ios player API JSON\n",
      "[youtube] X0dHh_-lq0g: Downloading android player API JSON\n",
      "[youtube] X0dHh_-lq0g: Downloading iframe API JS\n",
      "[youtube] X0dHh_-lq0g: Downloading player c153b631\n",
      "[youtube] X0dHh_-lq0g: Downloading web player API JSON\n",
      "[youtube] X0dHh_-lq0g: Downloading m3u8 information\n"
     ]
    },
    {
     "name": "stderr",
     "output_type": "stream",
     "text": [
      "WARNING: [youtube] unable to extract yt initial data; please report this issue on  https://github.com/yt-dlp/yt-dlp/issues?q= , filling out the appropriate issue template. Confirm you are on the latest version using  yt-dlp -U\n",
      "WARNING: [youtube] Incomplete data received in embedded initial data; re-fetching using API.\n"
     ]
    },
    {
     "name": "stdout",
     "output_type": "stream",
     "text": [
      "[youtube] X0dHh_-lq0g: Downloading initial data API JSON\n",
      "[info] X0dHh_-lq0g: Downloading 1 format(s): 614\n",
      "[hlsnative] Downloading m3u8 manifest\n",
      "[hlsnative] Total fragments: 91\n",
      "[download] Destination: videos/tennistv/X0dHh_-lq0g.mp4\n",
      "[download] 100% of  123.74MiB in 00:01:16 at 1.61MiB/s                    \n",
      "------------------------------------------------------------\n",
      "DOWNLOADING VIDEO: iwnownonW6s\n",
      "------------------------------------------------------------\n",
      "[youtube] Extracting URL: https://www.youtube.com/watch?v=iwnownonW6s\n",
      "[youtube] iwnownonW6s: Downloading webpage\n"
     ]
    },
    {
     "name": "stderr",
     "output_type": "stream",
     "text": [
      "WARNING: [youtube] unable to extract initial player response; please report this issue on  https://github.com/yt-dlp/yt-dlp/issues?q= , filling out the appropriate issue template. Confirm you are on the latest version using  yt-dlp -U\n"
     ]
    },
    {
     "name": "stdout",
     "output_type": "stream",
     "text": [
      "[youtube] iwnownonW6s: Downloading ios player API JSON\n",
      "[youtube] iwnownonW6s: Downloading android player API JSON\n",
      "[youtube] iwnownonW6s: Downloading iframe API JS\n",
      "[youtube] iwnownonW6s: Downloading player c153b631\n",
      "[youtube] iwnownonW6s: Downloading web player API JSON\n",
      "[youtube] iwnownonW6s: Downloading m3u8 information\n"
     ]
    },
    {
     "name": "stderr",
     "output_type": "stream",
     "text": [
      "WARNING: [youtube] unable to extract yt initial data; please report this issue on  https://github.com/yt-dlp/yt-dlp/issues?q= , filling out the appropriate issue template. Confirm you are on the latest version using  yt-dlp -U\n",
      "WARNING: [youtube] Incomplete data received in embedded initial data; re-fetching using API.\n"
     ]
    },
    {
     "name": "stdout",
     "output_type": "stream",
     "text": [
      "[youtube] iwnownonW6s: Downloading initial data API JSON\n",
      "[info] iwnownonW6s: Downloading 1 format(s): 617\n",
      "[hlsnative] Downloading m3u8 manifest\n",
      "[hlsnative] Total fragments: 34\n",
      "[download] Destination: videos/tennistv/iwnownonW6s.mp4\n",
      "[download] 100% of   70.69MiB in 00:00:36 at 1.95MiB/s                     \n",
      "------------------------------------------------------------\n",
      "DOWNLOADING VIDEO: idwzxCHcOqQ\n",
      "------------------------------------------------------------\n",
      "[youtube] Extracting URL: https://www.youtube.com/watch?v=idwzxCHcOqQ\n",
      "[youtube] idwzxCHcOqQ: Downloading webpage\n"
     ]
    },
    {
     "name": "stderr",
     "output_type": "stream",
     "text": [
      "WARNING: [youtube] unable to extract initial player response; please report this issue on  https://github.com/yt-dlp/yt-dlp/issues?q= , filling out the appropriate issue template. Confirm you are on the latest version using  yt-dlp -U\n"
     ]
    },
    {
     "name": "stdout",
     "output_type": "stream",
     "text": [
      "[youtube] idwzxCHcOqQ: Downloading ios player API JSON\n",
      "[youtube] idwzxCHcOqQ: Downloading android player API JSON\n",
      "[youtube] idwzxCHcOqQ: Downloading iframe API JS\n",
      "[youtube] idwzxCHcOqQ: Downloading player c153b631\n",
      "[youtube] idwzxCHcOqQ: Downloading web player API JSON\n",
      "[youtube] idwzxCHcOqQ: Downloading m3u8 information\n"
     ]
    },
    {
     "name": "stderr",
     "output_type": "stream",
     "text": [
      "WARNING: [youtube] unable to extract yt initial data; please report this issue on  https://github.com/yt-dlp/yt-dlp/issues?q= , filling out the appropriate issue template. Confirm you are on the latest version using  yt-dlp -U\n",
      "WARNING: [youtube] Incomplete data received in embedded initial data; re-fetching using API.\n"
     ]
    },
    {
     "name": "stdout",
     "output_type": "stream",
     "text": [
      "[youtube] idwzxCHcOqQ: Downloading initial data API JSON\n",
      "[info] idwzxCHcOqQ: Downloading 1 format(s): 617\n",
      "[hlsnative] Downloading m3u8 manifest\n",
      "[hlsnative] Total fragments: 46\n",
      "[download] Destination: videos/tennistv/idwzxCHcOqQ.mp4\n",
      "[download] 100% of  107.04MiB in 00:00:40 at 2.65MiB/s                    \n",
      "------------------------------------------------------------\n",
      "DOWNLOADING VIDEO: G5lZ9e2k1vw\n",
      "------------------------------------------------------------\n",
      "[youtube] Extracting URL: https://www.youtube.com/watch?v=G5lZ9e2k1vw\n",
      "[youtube] G5lZ9e2k1vw: Downloading webpage\n"
     ]
    },
    {
     "name": "stderr",
     "output_type": "stream",
     "text": [
      "WARNING: [youtube] unable to extract initial player response; please report this issue on  https://github.com/yt-dlp/yt-dlp/issues?q= , filling out the appropriate issue template. Confirm you are on the latest version using  yt-dlp -U\n"
     ]
    },
    {
     "name": "stdout",
     "output_type": "stream",
     "text": [
      "[youtube] G5lZ9e2k1vw: Downloading ios player API JSON\n",
      "[youtube] G5lZ9e2k1vw: Downloading android player API JSON\n",
      "[youtube] G5lZ9e2k1vw: Downloading iframe API JS\n",
      "[youtube] G5lZ9e2k1vw: Downloading player c153b631\n",
      "[youtube] G5lZ9e2k1vw: Downloading web player API JSON\n",
      "[youtube] G5lZ9e2k1vw: Downloading m3u8 information\n"
     ]
    },
    {
     "name": "stderr",
     "output_type": "stream",
     "text": [
      "WARNING: [youtube] unable to extract yt initial data; please report this issue on  https://github.com/yt-dlp/yt-dlp/issues?q= , filling out the appropriate issue template. Confirm you are on the latest version using  yt-dlp -U\n",
      "WARNING: [youtube] Incomplete data received in embedded initial data; re-fetching using API.\n"
     ]
    },
    {
     "name": "stdout",
     "output_type": "stream",
     "text": [
      "[youtube] G5lZ9e2k1vw: Downloading initial data API JSON\n",
      "[info] G5lZ9e2k1vw: Downloading 1 format(s): 617\n",
      "[hlsnative] Downloading m3u8 manifest\n",
      "[hlsnative] Total fragments: 131\n",
      "[download] Destination: videos/tennistv/G5lZ9e2k1vw.mp4\n",
      "[download] 100% of  275.83MiB in 00:01:33 at 2.95MiB/s                      \n",
      "------------------------------------------------------------\n",
      "DOWNLOADING VIDEO: -9FDBNUOpco\n",
      "------------------------------------------------------------\n",
      "[youtube] Extracting URL: https://www.youtube.com/watch?v=-9FDBNUOpco\n",
      "[youtube] -9FDBNUOpco: Downloading webpage\n"
     ]
    },
    {
     "name": "stderr",
     "output_type": "stream",
     "text": [
      "WARNING: [youtube] unable to extract initial player response; please report this issue on  https://github.com/yt-dlp/yt-dlp/issues?q= , filling out the appropriate issue template. Confirm you are on the latest version using  yt-dlp -U\n"
     ]
    },
    {
     "name": "stdout",
     "output_type": "stream",
     "text": [
      "[youtube] -9FDBNUOpco: Downloading ios player API JSON\n",
      "[youtube] -9FDBNUOpco: Downloading android player API JSON\n",
      "[youtube] -9FDBNUOpco: Downloading iframe API JS\n",
      "[youtube] -9FDBNUOpco: Downloading player c153b631\n",
      "[youtube] -9FDBNUOpco: Downloading web player API JSON\n",
      "[youtube] -9FDBNUOpco: Downloading m3u8 information\n"
     ]
    },
    {
     "name": "stderr",
     "output_type": "stream",
     "text": [
      "WARNING: [youtube] unable to extract yt initial data; please report this issue on  https://github.com/yt-dlp/yt-dlp/issues?q= , filling out the appropriate issue template. Confirm you are on the latest version using  yt-dlp -U\n",
      "WARNING: [youtube] Incomplete data received in embedded initial data; re-fetching using API.\n"
     ]
    },
    {
     "name": "stdout",
     "output_type": "stream",
     "text": [
      "[youtube] -9FDBNUOpco: Downloading initial data API JSON\n",
      "[info] -9FDBNUOpco: Downloading 1 format(s): 617\n",
      "[hlsnative] Downloading m3u8 manifest\n",
      "[hlsnative] Total fragments: 83\n",
      "[download] Destination: videos/tennistv/-9FDBNUOpco.mp4\n",
      "[download] 100% of  155.55MiB in 00:01:16 at 2.04MiB/s                    \n",
      "------------------------------------------------------------\n",
      "DOWNLOADING VIDEO: WXKnfLufD2k\n",
      "------------------------------------------------------------\n",
      "[youtube] Extracting URL: https://www.youtube.com/watch?v=WXKnfLufD2k\n",
      "[youtube] WXKnfLufD2k: Downloading webpage\n"
     ]
    },
    {
     "name": "stderr",
     "output_type": "stream",
     "text": [
      "WARNING: [youtube] unable to extract initial player response; please report this issue on  https://github.com/yt-dlp/yt-dlp/issues?q= , filling out the appropriate issue template. Confirm you are on the latest version using  yt-dlp -U\n"
     ]
    },
    {
     "name": "stdout",
     "output_type": "stream",
     "text": [
      "[youtube] WXKnfLufD2k: Downloading ios player API JSON\n",
      "[youtube] WXKnfLufD2k: Downloading android player API JSON\n",
      "[youtube] WXKnfLufD2k: Downloading iframe API JS\n",
      "[youtube] WXKnfLufD2k: Downloading player c153b631\n",
      "[youtube] WXKnfLufD2k: Downloading web player API JSON\n",
      "[youtube] WXKnfLufD2k: Downloading m3u8 information\n"
     ]
    },
    {
     "name": "stderr",
     "output_type": "stream",
     "text": [
      "WARNING: [youtube] unable to extract yt initial data; please report this issue on  https://github.com/yt-dlp/yt-dlp/issues?q= , filling out the appropriate issue template. Confirm you are on the latest version using  yt-dlp -U\n",
      "WARNING: [youtube] Incomplete data received in embedded initial data; re-fetching using API.\n"
     ]
    },
    {
     "name": "stdout",
     "output_type": "stream",
     "text": [
      "[youtube] WXKnfLufD2k: Downloading initial data API JSON\n",
      "[info] WXKnfLufD2k: Downloading 1 format(s): 614\n",
      "[hlsnative] Downloading m3u8 manifest\n",
      "[hlsnative] Total fragments: 96\n",
      "[download] Destination: videos/tennistv/WXKnfLufD2k.mp4\n",
      "[download] 100% of  131.37MiB in 00:01:12 at 1.80MiB/s                    \n",
      "------------------------------------------------------------\n",
      "DOWNLOADING VIDEO: vy_ACBcMlUI\n",
      "------------------------------------------------------------\n",
      "[youtube] Extracting URL: https://www.youtube.com/watch?v=vy_ACBcMlUI\n",
      "[youtube] vy_ACBcMlUI: Downloading webpage\n"
     ]
    },
    {
     "name": "stderr",
     "output_type": "stream",
     "text": [
      "WARNING: [youtube] unable to extract initial player response; please report this issue on  https://github.com/yt-dlp/yt-dlp/issues?q= , filling out the appropriate issue template. Confirm you are on the latest version using  yt-dlp -U\n"
     ]
    },
    {
     "name": "stdout",
     "output_type": "stream",
     "text": [
      "[youtube] vy_ACBcMlUI: Downloading ios player API JSON\n",
      "[youtube] vy_ACBcMlUI: Downloading android player API JSON\n",
      "[youtube] vy_ACBcMlUI: Downloading iframe API JS\n",
      "[youtube] vy_ACBcMlUI: Downloading player c153b631\n",
      "[youtube] vy_ACBcMlUI: Downloading web player API JSON\n",
      "[youtube] vy_ACBcMlUI: Downloading m3u8 information\n"
     ]
    },
    {
     "name": "stderr",
     "output_type": "stream",
     "text": [
      "WARNING: [youtube] unable to extract yt initial data; please report this issue on  https://github.com/yt-dlp/yt-dlp/issues?q= , filling out the appropriate issue template. Confirm you are on the latest version using  yt-dlp -U\n",
      "WARNING: [youtube] Incomplete data received in embedded initial data; re-fetching using API.\n"
     ]
    },
    {
     "name": "stdout",
     "output_type": "stream",
     "text": [
      "[youtube] vy_ACBcMlUI: Downloading initial data API JSON\n",
      "[info] vy_ACBcMlUI: Downloading 1 format(s): 617\n",
      "[hlsnative] Downloading m3u8 manifest\n",
      "[hlsnative] Total fragments: 25\n",
      "[download] Destination: videos/tennistv/vy_ACBcMlUI.mp4\n",
      "[download] 100% of   59.27MiB in 00:00:20 at 2.85MiB/s                    \n",
      "------------------------------------------------------------\n",
      "DOWNLOADING VIDEO: R_-BGlJ3lDc\n",
      "------------------------------------------------------------\n",
      "[youtube] Extracting URL: https://www.youtube.com/watch?v=R_-BGlJ3lDc\n",
      "[youtube] R_-BGlJ3lDc: Downloading webpage\n"
     ]
    },
    {
     "name": "stderr",
     "output_type": "stream",
     "text": [
      "WARNING: [youtube] unable to extract initial player response; please report this issue on  https://github.com/yt-dlp/yt-dlp/issues?q= , filling out the appropriate issue template. Confirm you are on the latest version using  yt-dlp -U\n"
     ]
    },
    {
     "name": "stdout",
     "output_type": "stream",
     "text": [
      "[youtube] R_-BGlJ3lDc: Downloading ios player API JSON\n",
      "[youtube] R_-BGlJ3lDc: Downloading android player API JSON\n",
      "[youtube] R_-BGlJ3lDc: Downloading iframe API JS\n",
      "[youtube] R_-BGlJ3lDc: Downloading player c153b631\n",
      "[youtube] R_-BGlJ3lDc: Downloading web player API JSON\n",
      "[youtube] R_-BGlJ3lDc: Downloading m3u8 information\n"
     ]
    },
    {
     "name": "stderr",
     "output_type": "stream",
     "text": [
      "WARNING: [youtube] unable to extract yt initial data; please report this issue on  https://github.com/yt-dlp/yt-dlp/issues?q= , filling out the appropriate issue template. Confirm you are on the latest version using  yt-dlp -U\n",
      "WARNING: [youtube] Incomplete data received in embedded initial data; re-fetching using API.\n"
     ]
    },
    {
     "name": "stdout",
     "output_type": "stream",
     "text": [
      "[youtube] R_-BGlJ3lDc: Downloading initial data API JSON\n",
      "[info] R_-BGlJ3lDc: Downloading 1 format(s): 617\n",
      "[hlsnative] Downloading m3u8 manifest\n",
      "[hlsnative] Total fragments: 43\n",
      "[download] Destination: videos/tennistv/R_-BGlJ3lDc.mp4\n",
      "[download] 100% of  113.69MiB in 00:01:22 at 1.37MiB/s                    \n",
      "------------------------------------------------------------\n",
      "DOWNLOADING VIDEO: -Xc7Dqi-nZg\n",
      "------------------------------------------------------------\n",
      "[youtube] Extracting URL: https://www.youtube.com/watch?v=-Xc7Dqi-nZg\n",
      "[youtube] -Xc7Dqi-nZg: Downloading webpage\n"
     ]
    },
    {
     "name": "stderr",
     "output_type": "stream",
     "text": [
      "WARNING: [youtube] unable to extract initial player response; please report this issue on  https://github.com/yt-dlp/yt-dlp/issues?q= , filling out the appropriate issue template. Confirm you are on the latest version using  yt-dlp -U\n"
     ]
    },
    {
     "name": "stdout",
     "output_type": "stream",
     "text": [
      "[youtube] -Xc7Dqi-nZg: Downloading ios player API JSON\n",
      "[youtube] -Xc7Dqi-nZg: Downloading android player API JSON\n",
      "[youtube] -Xc7Dqi-nZg: Downloading iframe API JS\n",
      "[youtube] -Xc7Dqi-nZg: Downloading player c153b631\n",
      "[youtube] -Xc7Dqi-nZg: Downloading web player API JSON\n",
      "[youtube] -Xc7Dqi-nZg: Downloading m3u8 information\n"
     ]
    },
    {
     "name": "stderr",
     "output_type": "stream",
     "text": [
      "WARNING: [youtube] unable to extract yt initial data; please report this issue on  https://github.com/yt-dlp/yt-dlp/issues?q= , filling out the appropriate issue template. Confirm you are on the latest version using  yt-dlp -U\n",
      "WARNING: [youtube] Incomplete data received in embedded initial data; re-fetching using API.\n"
     ]
    },
    {
     "name": "stdout",
     "output_type": "stream",
     "text": [
      "[youtube] -Xc7Dqi-nZg: Downloading initial data API JSON\n",
      "[info] -Xc7Dqi-nZg: Downloading 1 format(s): 616\n",
      "[hlsnative] Downloading m3u8 manifest\n",
      "[hlsnative] Total fragments: 96\n",
      "[download] Destination: videos/tennistv/-Xc7Dqi-nZg.mp4\n",
      "[download] 100% of  252.62MiB in 00:02:01 at 2.07MiB/s                    \n",
      "------------------------------------------------------------\n",
      "DOWNLOADING VIDEO: Kb1Dy_0sIXc\n",
      "------------------------------------------------------------\n",
      "[youtube] Extracting URL: https://www.youtube.com/watch?v=Kb1Dy_0sIXc\n",
      "[youtube] Kb1Dy_0sIXc: Downloading webpage\n"
     ]
    },
    {
     "name": "stderr",
     "output_type": "stream",
     "text": [
      "WARNING: [youtube] unable to extract initial player response; please report this issue on  https://github.com/yt-dlp/yt-dlp/issues?q= , filling out the appropriate issue template. Confirm you are on the latest version using  yt-dlp -U\n"
     ]
    },
    {
     "name": "stdout",
     "output_type": "stream",
     "text": [
      "[youtube] Kb1Dy_0sIXc: Downloading ios player API JSON\n",
      "[youtube] Kb1Dy_0sIXc: Downloading android player API JSON\n",
      "[youtube] Kb1Dy_0sIXc: Downloading iframe API JS\n",
      "[youtube] Kb1Dy_0sIXc: Downloading player c153b631\n",
      "[youtube] Kb1Dy_0sIXc: Downloading web player API JSON\n",
      "[youtube] Kb1Dy_0sIXc: Downloading m3u8 information\n"
     ]
    },
    {
     "name": "stderr",
     "output_type": "stream",
     "text": [
      "WARNING: [youtube] unable to extract yt initial data; please report this issue on  https://github.com/yt-dlp/yt-dlp/issues?q= , filling out the appropriate issue template. Confirm you are on the latest version using  yt-dlp -U\n",
      "WARNING: [youtube] Incomplete data received in embedded initial data; re-fetching using API.\n"
     ]
    },
    {
     "name": "stdout",
     "output_type": "stream",
     "text": [
      "[youtube] Kb1Dy_0sIXc: Downloading initial data API JSON\n",
      "[info] Kb1Dy_0sIXc: Downloading 1 format(s): 617\n",
      "[hlsnative] Downloading m3u8 manifest\n",
      "[hlsnative] Total fragments: 48\n",
      "[download] Destination: videos/tennistv/Kb1Dy_0sIXc.mp4\n",
      "[download] 100% of  114.22MiB in 00:00:37 at 3.04MiB/s                    \n",
      "------------------------------------------------------------\n",
      "DOWNLOADING VIDEO: ZVZSzlRW94c\n",
      "------------------------------------------------------------\n",
      "[youtube] Extracting URL: https://www.youtube.com/watch?v=ZVZSzlRW94c\n",
      "[youtube] ZVZSzlRW94c: Downloading webpage\n"
     ]
    },
    {
     "name": "stderr",
     "output_type": "stream",
     "text": [
      "WARNING: [youtube] unable to extract initial player response; please report this issue on  https://github.com/yt-dlp/yt-dlp/issues?q= , filling out the appropriate issue template. Confirm you are on the latest version using  yt-dlp -U\n"
     ]
    },
    {
     "name": "stdout",
     "output_type": "stream",
     "text": [
      "[youtube] ZVZSzlRW94c: Downloading ios player API JSON\n",
      "[youtube] ZVZSzlRW94c: Downloading android player API JSON\n",
      "[youtube] ZVZSzlRW94c: Downloading iframe API JS\n",
      "[youtube] ZVZSzlRW94c: Downloading player c153b631\n",
      "[youtube] ZVZSzlRW94c: Downloading web player API JSON\n",
      "[youtube] ZVZSzlRW94c: Downloading m3u8 information\n"
     ]
    },
    {
     "name": "stderr",
     "output_type": "stream",
     "text": [
      "WARNING: [youtube] unable to extract yt initial data; please report this issue on  https://github.com/yt-dlp/yt-dlp/issues?q= , filling out the appropriate issue template. Confirm you are on the latest version using  yt-dlp -U\n",
      "WARNING: [youtube] Incomplete data received in embedded initial data; re-fetching using API.\n"
     ]
    },
    {
     "name": "stdout",
     "output_type": "stream",
     "text": [
      "[youtube] ZVZSzlRW94c: Downloading initial data API JSON\n",
      "[info] ZVZSzlRW94c: Downloading 1 format(s): 617\n",
      "[hlsnative] Downloading m3u8 manifest\n",
      "[hlsnative] Total fragments: 48\n",
      "[download] Destination: videos/tennistv/ZVZSzlRW94c.mp4\n",
      "[download] 100% of  110.78MiB in 00:00:32 at 3.38MiB/s                    \n",
      "------------------------------------------------------------\n",
      "DOWNLOADING VIDEO: lg4asM52JcE\n",
      "------------------------------------------------------------\n",
      "[youtube] Extracting URL: https://www.youtube.com/watch?v=lg4asM52JcE\n",
      "[youtube] lg4asM52JcE: Downloading webpage\n"
     ]
    },
    {
     "name": "stderr",
     "output_type": "stream",
     "text": [
      "WARNING: [youtube] unable to extract initial player response; please report this issue on  https://github.com/yt-dlp/yt-dlp/issues?q= , filling out the appropriate issue template. Confirm you are on the latest version using  yt-dlp -U\n"
     ]
    },
    {
     "name": "stdout",
     "output_type": "stream",
     "text": [
      "[youtube] lg4asM52JcE: Downloading ios player API JSON\n",
      "[youtube] lg4asM52JcE: Downloading android player API JSON\n",
      "[youtube] lg4asM52JcE: Downloading iframe API JS\n",
      "[youtube] lg4asM52JcE: Downloading player c153b631\n",
      "[youtube] lg4asM52JcE: Downloading web player API JSON\n",
      "[youtube] lg4asM52JcE: Downloading m3u8 information\n"
     ]
    },
    {
     "name": "stderr",
     "output_type": "stream",
     "text": [
      "WARNING: [youtube] unable to extract yt initial data; please report this issue on  https://github.com/yt-dlp/yt-dlp/issues?q= , filling out the appropriate issue template. Confirm you are on the latest version using  yt-dlp -U\n",
      "WARNING: [youtube] Incomplete data received in embedded initial data; re-fetching using API.\n"
     ]
    },
    {
     "name": "stdout",
     "output_type": "stream",
     "text": [
      "[youtube] lg4asM52JcE: Downloading initial data API JSON\n",
      "[info] lg4asM52JcE: Downloading 1 format(s): 614\n",
      "[hlsnative] Downloading m3u8 manifest\n",
      "[hlsnative] Total fragments: 96\n",
      "[download] Destination: videos/tennistv/lg4asM52JcE.mp4\n",
      "[download] 100% of  127.38MiB in 00:01:20 at 1.58MiB/s                    \n",
      "------------------------------------------------------------\n",
      "DOWNLOADING VIDEO: oaNxrouYfi8\n",
      "------------------------------------------------------------\n",
      "[youtube] Extracting URL: https://www.youtube.com/watch?v=oaNxrouYfi8\n",
      "[youtube] oaNxrouYfi8: Downloading webpage\n"
     ]
    },
    {
     "name": "stderr",
     "output_type": "stream",
     "text": [
      "WARNING: [youtube] unable to extract initial player response; please report this issue on  https://github.com/yt-dlp/yt-dlp/issues?q= , filling out the appropriate issue template. Confirm you are on the latest version using  yt-dlp -U\n"
     ]
    },
    {
     "name": "stdout",
     "output_type": "stream",
     "text": [
      "[youtube] oaNxrouYfi8: Downloading ios player API JSON\n",
      "[youtube] oaNxrouYfi8: Downloading android player API JSON\n",
      "[youtube] oaNxrouYfi8: Downloading iframe API JS\n",
      "[youtube] oaNxrouYfi8: Downloading player c153b631\n",
      "[youtube] oaNxrouYfi8: Downloading web player API JSON\n",
      "[youtube] oaNxrouYfi8: Downloading m3u8 information\n"
     ]
    },
    {
     "name": "stderr",
     "output_type": "stream",
     "text": [
      "WARNING: [youtube] unable to extract yt initial data; please report this issue on  https://github.com/yt-dlp/yt-dlp/issues?q= , filling out the appropriate issue template. Confirm you are on the latest version using  yt-dlp -U\n",
      "WARNING: [youtube] Incomplete data received in embedded initial data; re-fetching using API.\n"
     ]
    },
    {
     "name": "stdout",
     "output_type": "stream",
     "text": [
      "[youtube] oaNxrouYfi8: Downloading initial data API JSON\n",
      "[info] oaNxrouYfi8: Downloading 1 format(s): 617\n",
      "[hlsnative] Downloading m3u8 manifest\n",
      "[hlsnative] Total fragments: 44\n",
      "[download] Destination: videos/tennistv/oaNxrouYfi8.mp4\n",
      "[download] 100% of  103.00MiB in 00:01:00 at 1.69MiB/s                     \n",
      "------------------------------------------------------------\n",
      "DOWNLOADING VIDEO: PqbzR-lnJFI\n",
      "------------------------------------------------------------\n",
      "[youtube] Extracting URL: https://www.youtube.com/watch?v=PqbzR-lnJFI\n",
      "[youtube] PqbzR-lnJFI: Downloading webpage\n"
     ]
    },
    {
     "name": "stderr",
     "output_type": "stream",
     "text": [
      "WARNING: [youtube] unable to extract initial player response; please report this issue on  https://github.com/yt-dlp/yt-dlp/issues?q= , filling out the appropriate issue template. Confirm you are on the latest version using  yt-dlp -U\n"
     ]
    },
    {
     "name": "stdout",
     "output_type": "stream",
     "text": [
      "[youtube] PqbzR-lnJFI: Downloading ios player API JSON\n",
      "[youtube] PqbzR-lnJFI: Downloading android player API JSON\n",
      "[youtube] PqbzR-lnJFI: Downloading iframe API JS\n",
      "[youtube] PqbzR-lnJFI: Downloading player c153b631\n",
      "[youtube] PqbzR-lnJFI: Downloading web player API JSON\n",
      "[youtube] PqbzR-lnJFI: Downloading m3u8 information\n"
     ]
    },
    {
     "name": "stderr",
     "output_type": "stream",
     "text": [
      "WARNING: [youtube] unable to extract yt initial data; please report this issue on  https://github.com/yt-dlp/yt-dlp/issues?q= , filling out the appropriate issue template. Confirm you are on the latest version using  yt-dlp -U\n",
      "WARNING: [youtube] Incomplete data received in embedded initial data; re-fetching using API.\n"
     ]
    },
    {
     "name": "stdout",
     "output_type": "stream",
     "text": [
      "[youtube] PqbzR-lnJFI: Downloading initial data API JSON\n",
      "[info] PqbzR-lnJFI: Downloading 1 format(s): 617\n",
      "[hlsnative] Downloading m3u8 manifest\n",
      "[hlsnative] Total fragments: 34\n",
      "[download] Destination: videos/tennistv/PqbzR-lnJFI.mp4\n",
      "[download] 100% of   90.33MiB in 00:00:39 at 2.26MiB/s                     \n",
      "------------------------------------------------------------\n",
      "DOWNLOADING VIDEO: _M34cF3x1gs\n",
      "------------------------------------------------------------\n",
      "[youtube] Extracting URL: https://www.youtube.com/watch?v=_M34cF3x1gs\n",
      "[youtube] _M34cF3x1gs: Downloading webpage\n"
     ]
    },
    {
     "name": "stderr",
     "output_type": "stream",
     "text": [
      "WARNING: [youtube] unable to extract initial player response; please report this issue on  https://github.com/yt-dlp/yt-dlp/issues?q= , filling out the appropriate issue template. Confirm you are on the latest version using  yt-dlp -U\n"
     ]
    },
    {
     "name": "stdout",
     "output_type": "stream",
     "text": [
      "[youtube] _M34cF3x1gs: Downloading ios player API JSON\n",
      "[youtube] _M34cF3x1gs: Downloading android player API JSON\n",
      "[youtube] _M34cF3x1gs: Downloading iframe API JS\n",
      "[youtube] _M34cF3x1gs: Downloading player c153b631\n",
      "[youtube] _M34cF3x1gs: Downloading web player API JSON\n",
      "[youtube] _M34cF3x1gs: Downloading m3u8 information\n"
     ]
    },
    {
     "name": "stderr",
     "output_type": "stream",
     "text": [
      "WARNING: [youtube] unable to extract yt initial data; please report this issue on  https://github.com/yt-dlp/yt-dlp/issues?q= , filling out the appropriate issue template. Confirm you are on the latest version using  yt-dlp -U\n",
      "WARNING: [youtube] Incomplete data received in embedded initial data; re-fetching using API.\n"
     ]
    },
    {
     "name": "stdout",
     "output_type": "stream",
     "text": [
      "[youtube] _M34cF3x1gs: Downloading initial data API JSON\n",
      "[info] _M34cF3x1gs: Downloading 1 format(s): 617\n",
      "[hlsnative] Downloading m3u8 manifest\n",
      "[hlsnative] Total fragments: 213\n",
      "[download] Destination: videos/tennistv/_M34cF3x1gs.mp4\n",
      "[download] 100% of  369.72MiB in 00:02:17 at 2.69MiB/s                      \n",
      "------------------------------------------------------------\n",
      "DOWNLOADING VIDEO: Ox2qyoT4Xj0\n",
      "------------------------------------------------------------\n",
      "[youtube] Extracting URL: https://www.youtube.com/watch?v=Ox2qyoT4Xj0\n",
      "[youtube] Ox2qyoT4Xj0: Downloading webpage\n"
     ]
    },
    {
     "name": "stderr",
     "output_type": "stream",
     "text": [
      "WARNING: [youtube] unable to extract initial player response; please report this issue on  https://github.com/yt-dlp/yt-dlp/issues?q= , filling out the appropriate issue template. Confirm you are on the latest version using  yt-dlp -U\n"
     ]
    },
    {
     "name": "stdout",
     "output_type": "stream",
     "text": [
      "[youtube] Ox2qyoT4Xj0: Downloading ios player API JSON\n",
      "[youtube] Ox2qyoT4Xj0: Downloading android player API JSON\n",
      "[youtube] Ox2qyoT4Xj0: Downloading iframe API JS\n",
      "[youtube] Ox2qyoT4Xj0: Downloading player c153b631\n",
      "[youtube] Ox2qyoT4Xj0: Downloading web player API JSON\n",
      "[youtube] Ox2qyoT4Xj0: Downloading m3u8 information\n"
     ]
    },
    {
     "name": "stderr",
     "output_type": "stream",
     "text": [
      "WARNING: [youtube] unable to extract yt initial data; please report this issue on  https://github.com/yt-dlp/yt-dlp/issues?q= , filling out the appropriate issue template. Confirm you are on the latest version using  yt-dlp -U\n",
      "WARNING: [youtube] Incomplete data received in embedded initial data; re-fetching using API.\n"
     ]
    },
    {
     "name": "stdout",
     "output_type": "stream",
     "text": [
      "[youtube] Ox2qyoT4Xj0: Downloading initial data API JSON\n",
      "[info] Ox2qyoT4Xj0: Downloading 1 format(s): 614\n",
      "[hlsnative] Downloading m3u8 manifest\n",
      "[hlsnative] Total fragments: 98\n",
      "[download] Destination: videos/tennistv/Ox2qyoT4Xj0.mp4\n",
      "[download] 100% of  122.33MiB in 00:01:28 at 1.38MiB/s                    \n",
      "------------------------------------------------------------\n",
      "DOWNLOADING VIDEO: dhRMpZdkGz0\n",
      "------------------------------------------------------------\n",
      "[youtube] Extracting URL: https://www.youtube.com/watch?v=dhRMpZdkGz0\n",
      "[youtube] dhRMpZdkGz0: Downloading webpage\n"
     ]
    },
    {
     "name": "stderr",
     "output_type": "stream",
     "text": [
      "WARNING: [youtube] unable to extract initial player response; please report this issue on  https://github.com/yt-dlp/yt-dlp/issues?q= , filling out the appropriate issue template. Confirm you are on the latest version using  yt-dlp -U\n"
     ]
    },
    {
     "name": "stdout",
     "output_type": "stream",
     "text": [
      "[youtube] dhRMpZdkGz0: Downloading ios player API JSON\n",
      "[youtube] dhRMpZdkGz0: Downloading android player API JSON\n",
      "[youtube] dhRMpZdkGz0: Downloading iframe API JS\n",
      "[youtube] dhRMpZdkGz0: Downloading player c153b631\n",
      "[youtube] dhRMpZdkGz0: Downloading web player API JSON\n",
      "[youtube] dhRMpZdkGz0: Downloading m3u8 information\n"
     ]
    },
    {
     "name": "stderr",
     "output_type": "stream",
     "text": [
      "WARNING: [youtube] unable to extract yt initial data; please report this issue on  https://github.com/yt-dlp/yt-dlp/issues?q= , filling out the appropriate issue template. Confirm you are on the latest version using  yt-dlp -U\n",
      "WARNING: [youtube] Incomplete data received in embedded initial data; re-fetching using API.\n"
     ]
    },
    {
     "name": "stdout",
     "output_type": "stream",
     "text": [
      "[youtube] dhRMpZdkGz0: Downloading initial data API JSON\n",
      "[info] dhRMpZdkGz0: Downloading 1 format(s): 617\n",
      "[hlsnative] Downloading m3u8 manifest\n",
      "[hlsnative] Total fragments: 113\n",
      "[download] Destination: videos/tennistv/dhRMpZdkGz0.mp4\n",
      "[download] 100% of  214.92MiB in 00:01:10 at 3.05MiB/s                      \n",
      "------------------------------------------------------------\n",
      "Iteration: 850\n",
      "------------------------------------------------------------\n",
      "Sleeping\n",
      "------------------------------------------------------------\n",
      "DOWNLOADING VIDEO: wyMz3jHlKzQ\n",
      "------------------------------------------------------------\n",
      "[youtube] Extracting URL: https://www.youtube.com/watch?v=wyMz3jHlKzQ\n",
      "[youtube] wyMz3jHlKzQ: Downloading webpage\n"
     ]
    },
    {
     "name": "stderr",
     "output_type": "stream",
     "text": [
      "WARNING: [youtube] unable to extract initial player response; please report this issue on  https://github.com/yt-dlp/yt-dlp/issues?q= , filling out the appropriate issue template. Confirm you are on the latest version using  yt-dlp -U\n"
     ]
    },
    {
     "name": "stdout",
     "output_type": "stream",
     "text": [
      "[youtube] wyMz3jHlKzQ: Downloading ios player API JSON\n",
      "[youtube] wyMz3jHlKzQ: Downloading android player API JSON\n",
      "[youtube] wyMz3jHlKzQ: Downloading iframe API JS\n",
      "[youtube] wyMz3jHlKzQ: Downloading player c153b631\n",
      "[youtube] wyMz3jHlKzQ: Downloading web player API JSON\n",
      "[youtube] wyMz3jHlKzQ: Downloading m3u8 information\n"
     ]
    },
    {
     "name": "stderr",
     "output_type": "stream",
     "text": [
      "WARNING: [youtube] unable to extract yt initial data; please report this issue on  https://github.com/yt-dlp/yt-dlp/issues?q= , filling out the appropriate issue template. Confirm you are on the latest version using  yt-dlp -U\n",
      "WARNING: [youtube] Incomplete data received in embedded initial data; re-fetching using API.\n"
     ]
    },
    {
     "name": "stdout",
     "output_type": "stream",
     "text": [
      "[youtube] wyMz3jHlKzQ: Downloading initial data API JSON\n",
      "[info] wyMz3jHlKzQ: Downloading 1 format(s): 614\n",
      "[hlsnative] Downloading m3u8 manifest\n",
      "[hlsnative] Total fragments: 89\n",
      "[download] Destination: videos/tennistv/wyMz3jHlKzQ.mp4\n",
      "[download] 100% of  129.41MiB in 00:00:49 at 2.62MiB/s                    \n",
      "------------------------------------------------------------\n",
      "DOWNLOADING VIDEO: Oogz5oFsYvM\n",
      "------------------------------------------------------------\n",
      "[youtube] Extracting URL: https://www.youtube.com/watch?v=Oogz5oFsYvM\n",
      "[youtube] Oogz5oFsYvM: Downloading webpage\n"
     ]
    },
    {
     "name": "stderr",
     "output_type": "stream",
     "text": [
      "WARNING: [youtube] unable to extract initial player response; please report this issue on  https://github.com/yt-dlp/yt-dlp/issues?q= , filling out the appropriate issue template. Confirm you are on the latest version using  yt-dlp -U\n"
     ]
    },
    {
     "name": "stdout",
     "output_type": "stream",
     "text": [
      "[youtube] Oogz5oFsYvM: Downloading ios player API JSON\n",
      "[youtube] Oogz5oFsYvM: Downloading android player API JSON\n",
      "[youtube] Oogz5oFsYvM: Downloading iframe API JS\n",
      "[youtube] Oogz5oFsYvM: Downloading player c153b631\n",
      "[youtube] Oogz5oFsYvM: Downloading web player API JSON\n",
      "[youtube] Oogz5oFsYvM: Downloading m3u8 information\n"
     ]
    },
    {
     "name": "stderr",
     "output_type": "stream",
     "text": [
      "WARNING: [youtube] unable to extract yt initial data; please report this issue on  https://github.com/yt-dlp/yt-dlp/issues?q= , filling out the appropriate issue template. Confirm you are on the latest version using  yt-dlp -U\n",
      "WARNING: [youtube] Incomplete data received in embedded initial data; re-fetching using API.\n"
     ]
    },
    {
     "name": "stdout",
     "output_type": "stream",
     "text": [
      "[youtube] Oogz5oFsYvM: Downloading initial data API JSON\n",
      "[info] Oogz5oFsYvM: Downloading 1 format(s): 617\n",
      "[hlsnative] Downloading m3u8 manifest\n",
      "[hlsnative] Total fragments: 83\n",
      "[download] Destination: videos/tennistv/Oogz5oFsYvM.mp4\n",
      "[download] 100% of  124.77MiB in 00:00:55 at 2.24MiB/s                    \n",
      "------------------------------------------------------------\n",
      "DOWNLOADING VIDEO: qrAwef4kYSE\n",
      "------------------------------------------------------------\n",
      "[youtube] Extracting URL: https://www.youtube.com/watch?v=qrAwef4kYSE\n",
      "[youtube] qrAwef4kYSE: Downloading webpage\n"
     ]
    },
    {
     "name": "stderr",
     "output_type": "stream",
     "text": [
      "WARNING: [youtube] unable to extract initial player response; please report this issue on  https://github.com/yt-dlp/yt-dlp/issues?q= , filling out the appropriate issue template. Confirm you are on the latest version using  yt-dlp -U\n"
     ]
    },
    {
     "name": "stdout",
     "output_type": "stream",
     "text": [
      "[youtube] qrAwef4kYSE: Downloading ios player API JSON\n",
      "[youtube] qrAwef4kYSE: Downloading android player API JSON\n",
      "[youtube] qrAwef4kYSE: Downloading iframe API JS\n",
      "[youtube] qrAwef4kYSE: Downloading player c153b631\n",
      "[youtube] qrAwef4kYSE: Downloading web player API JSON\n",
      "[youtube] qrAwef4kYSE: Downloading m3u8 information\n"
     ]
    },
    {
     "name": "stderr",
     "output_type": "stream",
     "text": [
      "WARNING: [youtube] unable to extract yt initial data; please report this issue on  https://github.com/yt-dlp/yt-dlp/issues?q= , filling out the appropriate issue template. Confirm you are on the latest version using  yt-dlp -U\n",
      "WARNING: [youtube] Incomplete data received in embedded initial data; re-fetching using API.\n"
     ]
    },
    {
     "name": "stdout",
     "output_type": "stream",
     "text": [
      "[youtube] qrAwef4kYSE: Downloading initial data API JSON\n",
      "[info] qrAwef4kYSE: Downloading 1 format(s): 614\n",
      "[hlsnative] Downloading m3u8 manifest\n",
      "[hlsnative] Total fragments: 89\n",
      "[download] Destination: videos/tennistv/qrAwef4kYSE.mp4\n",
      "[download] 100% of  125.13MiB in 00:01:15 at 1.65MiB/s                    \n",
      "------------------------------------------------------------\n",
      "DOWNLOADING VIDEO: vUDSwGiL-rs\n",
      "------------------------------------------------------------\n",
      "[youtube] Extracting URL: https://www.youtube.com/watch?v=vUDSwGiL-rs\n",
      "[youtube] vUDSwGiL-rs: Downloading webpage\n"
     ]
    },
    {
     "name": "stderr",
     "output_type": "stream",
     "text": [
      "WARNING: [youtube] unable to extract initial player response; please report this issue on  https://github.com/yt-dlp/yt-dlp/issues?q= , filling out the appropriate issue template. Confirm you are on the latest version using  yt-dlp -U\n"
     ]
    },
    {
     "name": "stdout",
     "output_type": "stream",
     "text": [
      "[youtube] vUDSwGiL-rs: Downloading ios player API JSON\n",
      "[youtube] vUDSwGiL-rs: Downloading android player API JSON\n",
      "[youtube] vUDSwGiL-rs: Downloading iframe API JS\n",
      "[youtube] vUDSwGiL-rs: Downloading player c153b631\n",
      "[youtube] vUDSwGiL-rs: Downloading web player API JSON\n",
      "[youtube] vUDSwGiL-rs: Downloading m3u8 information\n"
     ]
    },
    {
     "name": "stderr",
     "output_type": "stream",
     "text": [
      "WARNING: [youtube] unable to extract yt initial data; please report this issue on  https://github.com/yt-dlp/yt-dlp/issues?q= , filling out the appropriate issue template. Confirm you are on the latest version using  yt-dlp -U\n",
      "WARNING: [youtube] Incomplete data received in embedded initial data; re-fetching using API.\n"
     ]
    },
    {
     "name": "stdout",
     "output_type": "stream",
     "text": [
      "[youtube] vUDSwGiL-rs: Downloading initial data API JSON\n",
      "[info] vUDSwGiL-rs: Downloading 1 format(s): 617\n",
      "[hlsnative] Downloading m3u8 manifest\n",
      "[hlsnative] Total fragments: 96\n",
      "[download] Destination: videos/tennistv/vUDSwGiL-rs.mp4\n",
      "[download] 100% of  157.21MiB in 00:01:59 at 1.32MiB/s                    \n",
      "------------------------------------------------------------\n",
      "DOWNLOADING VIDEO: ATXkhM6Ox4A\n",
      "------------------------------------------------------------\n",
      "[youtube] Extracting URL: https://www.youtube.com/watch?v=ATXkhM6Ox4A\n",
      "[youtube] ATXkhM6Ox4A: Downloading webpage\n"
     ]
    },
    {
     "name": "stderr",
     "output_type": "stream",
     "text": [
      "WARNING: [youtube] unable to extract initial player response; please report this issue on  https://github.com/yt-dlp/yt-dlp/issues?q= , filling out the appropriate issue template. Confirm you are on the latest version using  yt-dlp -U\n"
     ]
    },
    {
     "name": "stdout",
     "output_type": "stream",
     "text": [
      "[youtube] ATXkhM6Ox4A: Downloading ios player API JSON\n",
      "[youtube] ATXkhM6Ox4A: Downloading android player API JSON\n",
      "[youtube] ATXkhM6Ox4A: Downloading iframe API JS\n",
      "[youtube] ATXkhM6Ox4A: Downloading player c153b631\n"
     ]
    },
    {
     "ename": "KeyboardInterrupt",
     "evalue": "",
     "output_type": "error",
     "traceback": [
      "\u001b[0;31m---------------------------------------------------------------------------\u001b[0m",
      "\u001b[0;31mKeyboardInterrupt\u001b[0m                         Traceback (most recent call last)",
      "Cell \u001b[0;32mIn[46], line 25\u001b[0m\n\u001b[1;32m     23\u001b[0m \u001b[38;5;28mprint\u001b[39m(\u001b[38;5;124m\"\u001b[39m\u001b[38;5;124mDOWNLOADING VIDEO:\u001b[39m\u001b[38;5;124m\"\u001b[39m, vid_id)\n\u001b[1;32m     24\u001b[0m \u001b[38;5;28mprint\u001b[39m(\u001b[38;5;124m\"\u001b[39m\u001b[38;5;124m--\u001b[39m\u001b[38;5;124m\"\u001b[39m \u001b[38;5;241m*\u001b[39m \u001b[38;5;241m30\u001b[39m)\n\u001b[0;32m---> 25\u001b[0m tt \u001b[38;5;241m=\u001b[39m \u001b[43mdownload_video\u001b[49m\u001b[43m(\u001b[49m\u001b[43mvid_id\u001b[49m\u001b[43m)\u001b[49m\n\u001b[1;32m     26\u001b[0m \u001b[38;5;28;01mif\u001b[39;00m tt:\n\u001b[1;32m     27\u001b[0m     d_success[vid_id] \u001b[38;5;241m=\u001b[39m \u001b[38;5;28;01mTrue\u001b[39;00m\n",
      "Cell \u001b[0;32mIn[8], line 12\u001b[0m, in \u001b[0;36mdownload_video\u001b[0;34m(video_id, path_out)\u001b[0m\n\u001b[1;32m     10\u001b[0m \u001b[38;5;66;03m# Create the downloader\u001b[39;00m\n\u001b[1;32m     11\u001b[0m \u001b[38;5;28;01mwith\u001b[39;00m youtube_dl\u001b[38;5;241m.\u001b[39mYoutubeDL(ydl_opts) \u001b[38;5;28;01mas\u001b[39;00m ydl:\n\u001b[0;32m---> 12\u001b[0m     \u001b[43mydl\u001b[49m\u001b[38;5;241;43m.\u001b[39;49m\u001b[43mdownload\u001b[49m\u001b[43m(\u001b[49m\u001b[43m[\u001b[49m\u001b[38;5;124;43mf\u001b[39;49m\u001b[38;5;124;43m\"\u001b[39;49m\u001b[38;5;124;43mhttps://www.youtube.com/watch?v=\u001b[39;49m\u001b[38;5;132;43;01m{\u001b[39;49;00m\u001b[43mvideo_id\u001b[49m\u001b[38;5;132;43;01m}\u001b[39;49;00m\u001b[38;5;124;43m\"\u001b[39;49m\u001b[43m]\u001b[49m\u001b[43m)\u001b[49m\n\u001b[1;32m     14\u001b[0m \u001b[38;5;28;01mreturn\u001b[39;00m \u001b[38;5;28;01mTrue\u001b[39;00m\n",
      "File \u001b[0;32m/usr/local/lib/python3.9/site-packages/yt_dlp/YoutubeDL.py:3485\u001b[0m, in \u001b[0;36mYoutubeDL.download\u001b[0;34m(self, url_list)\u001b[0m\n\u001b[1;32m   3482\u001b[0m     \u001b[38;5;28;01mraise\u001b[39;00m SameFileError(outtmpl)\n\u001b[1;32m   3484\u001b[0m \u001b[38;5;28;01mfor\u001b[39;00m url \u001b[38;5;129;01min\u001b[39;00m url_list:\n\u001b[0;32m-> 3485\u001b[0m     \u001b[38;5;28;43mself\u001b[39;49m\u001b[38;5;241;43m.\u001b[39;49m\u001b[43m__download_wrapper\u001b[49m\u001b[43m(\u001b[49m\u001b[38;5;28;43mself\u001b[39;49m\u001b[38;5;241;43m.\u001b[39;49m\u001b[43mextract_info\u001b[49m\u001b[43m)\u001b[49m\u001b[43m(\u001b[49m\n\u001b[1;32m   3486\u001b[0m \u001b[43m        \u001b[49m\u001b[43murl\u001b[49m\u001b[43m,\u001b[49m\u001b[43m \u001b[49m\u001b[43mforce_generic_extractor\u001b[49m\u001b[38;5;241;43m=\u001b[39;49m\u001b[38;5;28;43mself\u001b[39;49m\u001b[38;5;241;43m.\u001b[39;49m\u001b[43mparams\u001b[49m\u001b[38;5;241;43m.\u001b[39;49m\u001b[43mget\u001b[49m\u001b[43m(\u001b[49m\u001b[38;5;124;43m'\u001b[39;49m\u001b[38;5;124;43mforce_generic_extractor\u001b[39;49m\u001b[38;5;124;43m'\u001b[39;49m\u001b[43m,\u001b[49m\u001b[43m \u001b[49m\u001b[38;5;28;43;01mFalse\u001b[39;49;00m\u001b[43m)\u001b[49m\u001b[43m)\u001b[49m\n\u001b[1;32m   3488\u001b[0m \u001b[38;5;28;01mreturn\u001b[39;00m \u001b[38;5;28mself\u001b[39m\u001b[38;5;241m.\u001b[39m_download_retcode\n",
      "File \u001b[0;32m/usr/local/lib/python3.9/site-packages/yt_dlp/YoutubeDL.py:3460\u001b[0m, in \u001b[0;36mYoutubeDL.__download_wrapper.<locals>.wrapper\u001b[0;34m(*args, **kwargs)\u001b[0m\n\u001b[1;32m   3457\u001b[0m \u001b[38;5;129m@functools\u001b[39m\u001b[38;5;241m.\u001b[39mwraps(func)\n\u001b[1;32m   3458\u001b[0m \u001b[38;5;28;01mdef\u001b[39;00m \u001b[38;5;21mwrapper\u001b[39m(\u001b[38;5;241m*\u001b[39margs, \u001b[38;5;241m*\u001b[39m\u001b[38;5;241m*\u001b[39mkwargs):\n\u001b[1;32m   3459\u001b[0m     \u001b[38;5;28;01mtry\u001b[39;00m:\n\u001b[0;32m-> 3460\u001b[0m         res \u001b[38;5;241m=\u001b[39m \u001b[43mfunc\u001b[49m\u001b[43m(\u001b[49m\u001b[38;5;241;43m*\u001b[39;49m\u001b[43margs\u001b[49m\u001b[43m,\u001b[49m\u001b[43m \u001b[49m\u001b[38;5;241;43m*\u001b[39;49m\u001b[38;5;241;43m*\u001b[39;49m\u001b[43mkwargs\u001b[49m\u001b[43m)\u001b[49m\n\u001b[1;32m   3461\u001b[0m     \u001b[38;5;28;01mexcept\u001b[39;00m UnavailableVideoError \u001b[38;5;28;01mas\u001b[39;00m e:\n\u001b[1;32m   3462\u001b[0m         \u001b[38;5;28mself\u001b[39m\u001b[38;5;241m.\u001b[39mreport_error(e)\n",
      "File \u001b[0;32m/usr/local/lib/python3.9/site-packages/yt_dlp/YoutubeDL.py:1549\u001b[0m, in \u001b[0;36mYoutubeDL.extract_info\u001b[0;34m(self, url, download, ie_key, extra_info, process, force_generic_extractor)\u001b[0m\n\u001b[1;32m   1547\u001b[0m             \u001b[38;5;28;01mraise\u001b[39;00m ExistingVideoReached()\n\u001b[1;32m   1548\u001b[0m         \u001b[38;5;28;01mbreak\u001b[39;00m\n\u001b[0;32m-> 1549\u001b[0m     \u001b[38;5;28;01mreturn\u001b[39;00m \u001b[38;5;28;43mself\u001b[39;49m\u001b[38;5;241;43m.\u001b[39;49m\u001b[43m__extract_info\u001b[49m\u001b[43m(\u001b[49m\u001b[43murl\u001b[49m\u001b[43m,\u001b[49m\u001b[43m \u001b[49m\u001b[38;5;28;43mself\u001b[39;49m\u001b[38;5;241;43m.\u001b[39;49m\u001b[43mget_info_extractor\u001b[49m\u001b[43m(\u001b[49m\u001b[43mkey\u001b[49m\u001b[43m)\u001b[49m\u001b[43m,\u001b[49m\u001b[43m \u001b[49m\u001b[43mdownload\u001b[49m\u001b[43m,\u001b[49m\u001b[43m \u001b[49m\u001b[43mextra_info\u001b[49m\u001b[43m,\u001b[49m\u001b[43m \u001b[49m\u001b[43mprocess\u001b[49m\u001b[43m)\u001b[49m\n\u001b[1;32m   1550\u001b[0m \u001b[38;5;28;01melse\u001b[39;00m:\n\u001b[1;32m   1551\u001b[0m     extractors_restricted \u001b[38;5;241m=\u001b[39m \u001b[38;5;28mself\u001b[39m\u001b[38;5;241m.\u001b[39mparams\u001b[38;5;241m.\u001b[39mget(\u001b[38;5;124m'\u001b[39m\u001b[38;5;124mallowed_extractors\u001b[39m\u001b[38;5;124m'\u001b[39m) \u001b[38;5;129;01mnot\u001b[39;00m \u001b[38;5;129;01min\u001b[39;00m (\u001b[38;5;28;01mNone\u001b[39;00m, [\u001b[38;5;124m'\u001b[39m\u001b[38;5;124mdefault\u001b[39m\u001b[38;5;124m'\u001b[39m])\n",
      "File \u001b[0;32m/usr/local/lib/python3.9/site-packages/yt_dlp/YoutubeDL.py:1560\u001b[0m, in \u001b[0;36mYoutubeDL._handle_extraction_exceptions.<locals>.wrapper\u001b[0;34m(self, *args, **kwargs)\u001b[0m\n\u001b[1;32m   1558\u001b[0m \u001b[38;5;28;01mwhile\u001b[39;00m \u001b[38;5;28;01mTrue\u001b[39;00m:\n\u001b[1;32m   1559\u001b[0m     \u001b[38;5;28;01mtry\u001b[39;00m:\n\u001b[0;32m-> 1560\u001b[0m         \u001b[38;5;28;01mreturn\u001b[39;00m \u001b[43mfunc\u001b[49m\u001b[43m(\u001b[49m\u001b[38;5;28;43mself\u001b[39;49m\u001b[43m,\u001b[49m\u001b[43m \u001b[49m\u001b[38;5;241;43m*\u001b[39;49m\u001b[43margs\u001b[49m\u001b[43m,\u001b[49m\u001b[43m \u001b[49m\u001b[38;5;241;43m*\u001b[39;49m\u001b[38;5;241;43m*\u001b[39;49m\u001b[43mkwargs\u001b[49m\u001b[43m)\u001b[49m\n\u001b[1;32m   1561\u001b[0m     \u001b[38;5;28;01mexcept\u001b[39;00m (DownloadCancelled, LazyList\u001b[38;5;241m.\u001b[39mIndexError, PagedList\u001b[38;5;241m.\u001b[39mIndexError):\n\u001b[1;32m   1562\u001b[0m         \u001b[38;5;28;01mraise\u001b[39;00m\n",
      "File \u001b[0;32m/usr/local/lib/python3.9/site-packages/yt_dlp/YoutubeDL.py:1688\u001b[0m, in \u001b[0;36mYoutubeDL.__extract_info\u001b[0;34m(self, url, ie, download, extra_info, process)\u001b[0m\n\u001b[1;32m   1685\u001b[0m \u001b[38;5;28mself\u001b[39m\u001b[38;5;241m.\u001b[39m_apply_header_cookies(url)\n\u001b[1;32m   1687\u001b[0m \u001b[38;5;28;01mtry\u001b[39;00m:\n\u001b[0;32m-> 1688\u001b[0m     ie_result \u001b[38;5;241m=\u001b[39m \u001b[43mie\u001b[49m\u001b[38;5;241;43m.\u001b[39;49m\u001b[43mextract\u001b[49m\u001b[43m(\u001b[49m\u001b[43murl\u001b[49m\u001b[43m)\u001b[49m\n\u001b[1;32m   1689\u001b[0m \u001b[38;5;28;01mexcept\u001b[39;00m UserNotLive \u001b[38;5;28;01mas\u001b[39;00m e:\n\u001b[1;32m   1690\u001b[0m     \u001b[38;5;28;01mif\u001b[39;00m process:\n",
      "File \u001b[0;32m/usr/local/lib/python3.9/site-packages/yt_dlp/extractor/common.py:710\u001b[0m, in \u001b[0;36mInfoExtractor.extract\u001b[0;34m(self, url)\u001b[0m\n\u001b[1;32m    707\u001b[0m \u001b[38;5;28mself\u001b[39m\u001b[38;5;241m.\u001b[39minitialize()\n\u001b[1;32m    708\u001b[0m \u001b[38;5;28mself\u001b[39m\u001b[38;5;241m.\u001b[39mto_screen(\u001b[38;5;124m'\u001b[39m\u001b[38;5;124mExtracting URL: \u001b[39m\u001b[38;5;132;01m%s\u001b[39;00m\u001b[38;5;124m'\u001b[39m \u001b[38;5;241m%\u001b[39m (\n\u001b[1;32m    709\u001b[0m     url \u001b[38;5;28;01mif\u001b[39;00m \u001b[38;5;28mself\u001b[39m\u001b[38;5;241m.\u001b[39mget_param(\u001b[38;5;124m'\u001b[39m\u001b[38;5;124mverbose\u001b[39m\u001b[38;5;124m'\u001b[39m) \u001b[38;5;28;01melse\u001b[39;00m truncate_string(url, \u001b[38;5;241m100\u001b[39m, \u001b[38;5;241m20\u001b[39m)))\n\u001b[0;32m--> 710\u001b[0m ie_result \u001b[38;5;241m=\u001b[39m \u001b[38;5;28;43mself\u001b[39;49m\u001b[38;5;241;43m.\u001b[39;49m\u001b[43m_real_extract\u001b[49m\u001b[43m(\u001b[49m\u001b[43murl\u001b[49m\u001b[43m)\u001b[49m\n\u001b[1;32m    711\u001b[0m \u001b[38;5;28;01mif\u001b[39;00m ie_result \u001b[38;5;129;01mis\u001b[39;00m \u001b[38;5;28;01mNone\u001b[39;00m:\n\u001b[1;32m    712\u001b[0m     \u001b[38;5;28;01mreturn\u001b[39;00m \u001b[38;5;28;01mNone\u001b[39;00m\n",
      "File \u001b[0;32m/usr/local/lib/python3.9/site-packages/yt_dlp/extractor/youtube.py:4061\u001b[0m, in \u001b[0;36mYoutubeIE._real_extract\u001b[0;34m(self, url)\u001b[0m\n\u001b[1;32m   4058\u001b[0m base_url \u001b[38;5;241m=\u001b[39m \u001b[38;5;28mself\u001b[39m\u001b[38;5;241m.\u001b[39mhttp_scheme() \u001b[38;5;241m+\u001b[39m \u001b[38;5;124m'\u001b[39m\u001b[38;5;124m//www.youtube.com/\u001b[39m\u001b[38;5;124m'\u001b[39m\n\u001b[1;32m   4059\u001b[0m webpage_url \u001b[38;5;241m=\u001b[39m base_url \u001b[38;5;241m+\u001b[39m \u001b[38;5;124m'\u001b[39m\u001b[38;5;124mwatch?v=\u001b[39m\u001b[38;5;124m'\u001b[39m \u001b[38;5;241m+\u001b[39m video_id\n\u001b[0;32m-> 4061\u001b[0m webpage, master_ytcfg, player_responses, player_url \u001b[38;5;241m=\u001b[39m \u001b[38;5;28;43mself\u001b[39;49m\u001b[38;5;241;43m.\u001b[39;49m\u001b[43m_download_player_responses\u001b[49m\u001b[43m(\u001b[49m\u001b[43murl\u001b[49m\u001b[43m,\u001b[49m\u001b[43m \u001b[49m\u001b[43msmuggled_data\u001b[49m\u001b[43m,\u001b[49m\u001b[43m \u001b[49m\u001b[43mvideo_id\u001b[49m\u001b[43m,\u001b[49m\u001b[43m \u001b[49m\u001b[43mwebpage_url\u001b[49m\u001b[43m)\u001b[49m\n\u001b[1;32m   4063\u001b[0m playability_statuses \u001b[38;5;241m=\u001b[39m traverse_obj(\n\u001b[1;32m   4064\u001b[0m     player_responses, (\u001b[38;5;241m.\u001b[39m\u001b[38;5;241m.\u001b[39m\u001b[38;5;241m.\u001b[39m, \u001b[38;5;124m'\u001b[39m\u001b[38;5;124mplayabilityStatus\u001b[39m\u001b[38;5;124m'\u001b[39m), expected_type\u001b[38;5;241m=\u001b[39m\u001b[38;5;28mdict\u001b[39m)\n\u001b[1;32m   4066\u001b[0m trailer_video_id \u001b[38;5;241m=\u001b[39m get_first(\n\u001b[1;32m   4067\u001b[0m     playability_statuses,\n\u001b[1;32m   4068\u001b[0m     (\u001b[38;5;124m'\u001b[39m\u001b[38;5;124merrorScreen\u001b[39m\u001b[38;5;124m'\u001b[39m, \u001b[38;5;124m'\u001b[39m\u001b[38;5;124mplayerLegacyDesktopYpcTrailerRenderer\u001b[39m\u001b[38;5;124m'\u001b[39m, \u001b[38;5;124m'\u001b[39m\u001b[38;5;124mtrailerVideoId\u001b[39m\u001b[38;5;124m'\u001b[39m),\n\u001b[1;32m   4069\u001b[0m     expected_type\u001b[38;5;241m=\u001b[39m\u001b[38;5;28mstr\u001b[39m)\n",
      "File \u001b[0;32m/usr/local/lib/python3.9/site-packages/yt_dlp/extractor/youtube.py:4025\u001b[0m, in \u001b[0;36mYoutubeIE._download_player_responses\u001b[0;34m(self, url, smuggled_data, video_id, webpage_url)\u001b[0m\n\u001b[1;32m   4020\u001b[0m     webpage \u001b[38;5;241m=\u001b[39m \u001b[38;5;28mself\u001b[39m\u001b[38;5;241m.\u001b[39m_download_webpage(\n\u001b[1;32m   4021\u001b[0m         webpage_url, video_id, fatal\u001b[38;5;241m=\u001b[39m\u001b[38;5;28;01mFalse\u001b[39;00m, query\u001b[38;5;241m=\u001b[39mquery)\n\u001b[1;32m   4023\u001b[0m master_ytcfg \u001b[38;5;241m=\u001b[39m \u001b[38;5;28mself\u001b[39m\u001b[38;5;241m.\u001b[39mextract_ytcfg(video_id, webpage) \u001b[38;5;129;01mor\u001b[39;00m \u001b[38;5;28mself\u001b[39m\u001b[38;5;241m.\u001b[39m_get_default_ytcfg()\n\u001b[0;32m-> 4025\u001b[0m player_responses, player_url \u001b[38;5;241m=\u001b[39m \u001b[38;5;28;43mself\u001b[39;49m\u001b[38;5;241;43m.\u001b[39;49m\u001b[43m_extract_player_responses\u001b[49m\u001b[43m(\u001b[49m\n\u001b[1;32m   4026\u001b[0m \u001b[43m    \u001b[49m\u001b[38;5;28;43mself\u001b[39;49m\u001b[38;5;241;43m.\u001b[39;49m\u001b[43m_get_requested_clients\u001b[49m\u001b[43m(\u001b[49m\u001b[43murl\u001b[49m\u001b[43m,\u001b[49m\u001b[43m \u001b[49m\u001b[43msmuggled_data\u001b[49m\u001b[43m)\u001b[49m\u001b[43m,\u001b[49m\n\u001b[1;32m   4027\u001b[0m \u001b[43m    \u001b[49m\u001b[43mvideo_id\u001b[49m\u001b[43m,\u001b[49m\u001b[43m \u001b[49m\u001b[43mwebpage\u001b[49m\u001b[43m,\u001b[49m\u001b[43m \u001b[49m\u001b[43mmaster_ytcfg\u001b[49m\u001b[43m,\u001b[49m\u001b[43m \u001b[49m\u001b[43msmuggled_data\u001b[49m\u001b[43m)\u001b[49m\n\u001b[1;32m   4029\u001b[0m \u001b[38;5;28;01mreturn\u001b[39;00m webpage, master_ytcfg, player_responses, player_url\n",
      "File \u001b[0;32m/usr/local/lib/python3.9/site-packages/yt_dlp/extractor/youtube.py:3684\u001b[0m, in \u001b[0;36mYoutubeIE._extract_player_responses\u001b[0;34m(self, clients, video_id, webpage, master_ytcfg, smuggled_data)\u001b[0m\n\u001b[1;32m   3681\u001b[0m     tried_iframe_fallback \u001b[38;5;241m=\u001b[39m \u001b[38;5;28;01mTrue\u001b[39;00m\n\u001b[1;32m   3683\u001b[0m \u001b[38;5;28;01mtry\u001b[39;00m:\n\u001b[0;32m-> 3684\u001b[0m     pr \u001b[38;5;241m=\u001b[39m initial_pr \u001b[38;5;28;01mif\u001b[39;00m client \u001b[38;5;241m==\u001b[39m \u001b[38;5;124m'\u001b[39m\u001b[38;5;124mweb\u001b[39m\u001b[38;5;124m'\u001b[39m \u001b[38;5;129;01mand\u001b[39;00m initial_pr \u001b[38;5;28;01melse\u001b[39;00m \u001b[38;5;28;43mself\u001b[39;49m\u001b[38;5;241;43m.\u001b[39;49m\u001b[43m_extract_player_response\u001b[49m\u001b[43m(\u001b[49m\n\u001b[1;32m   3685\u001b[0m \u001b[43m        \u001b[49m\u001b[43mclient\u001b[49m\u001b[43m,\u001b[49m\u001b[43m \u001b[49m\u001b[43mvideo_id\u001b[49m\u001b[43m,\u001b[49m\u001b[43m \u001b[49m\u001b[43mplayer_ytcfg\u001b[49m\u001b[43m \u001b[49m\u001b[38;5;129;43;01mor\u001b[39;49;00m\u001b[43m \u001b[49m\u001b[43mmaster_ytcfg\u001b[49m\u001b[43m,\u001b[49m\u001b[43m \u001b[49m\u001b[43mplayer_ytcfg\u001b[49m\u001b[43m,\u001b[49m\u001b[43m \u001b[49m\u001b[43mplayer_url\u001b[49m\u001b[43m \u001b[49m\u001b[38;5;28;43;01mif\u001b[39;49;00m\u001b[43m \u001b[49m\u001b[43mrequire_js_player\u001b[49m\u001b[43m \u001b[49m\u001b[38;5;28;43;01melse\u001b[39;49;00m\u001b[43m \u001b[49m\u001b[38;5;28;43;01mNone\u001b[39;49;00m\u001b[43m,\u001b[49m\u001b[43m \u001b[49m\u001b[43minitial_pr\u001b[49m\u001b[43m,\u001b[49m\u001b[43m \u001b[49m\u001b[43msmuggled_data\u001b[49m\u001b[43m)\u001b[49m\n\u001b[1;32m   3686\u001b[0m \u001b[38;5;28;01mexcept\u001b[39;00m ExtractorError \u001b[38;5;28;01mas\u001b[39;00m e:\n\u001b[1;32m   3687\u001b[0m     \u001b[38;5;28;01mif\u001b[39;00m last_error:\n",
      "File \u001b[0;32m/usr/local/lib/python3.9/site-packages/yt_dlp/extractor/youtube.py:3593\u001b[0m, in \u001b[0;36mYoutubeIE._extract_player_response\u001b[0;34m(self, client, video_id, master_ytcfg, player_ytcfg, player_url, initial_pr, smuggled_data)\u001b[0m\n\u001b[1;32m   3591\u001b[0m session_index \u001b[38;5;241m=\u001b[39m \u001b[38;5;28mself\u001b[39m\u001b[38;5;241m.\u001b[39m_extract_session_index(player_ytcfg, master_ytcfg)\n\u001b[1;32m   3592\u001b[0m syncid \u001b[38;5;241m=\u001b[39m \u001b[38;5;28mself\u001b[39m\u001b[38;5;241m.\u001b[39m_extract_account_syncid(player_ytcfg, master_ytcfg, initial_pr)\n\u001b[0;32m-> 3593\u001b[0m sts \u001b[38;5;241m=\u001b[39m \u001b[38;5;28;43mself\u001b[39;49m\u001b[38;5;241;43m.\u001b[39;49m\u001b[43m_extract_signature_timestamp\u001b[49m\u001b[43m(\u001b[49m\u001b[43mvideo_id\u001b[49m\u001b[43m,\u001b[49m\u001b[43m \u001b[49m\u001b[43mplayer_url\u001b[49m\u001b[43m,\u001b[49m\u001b[43m \u001b[49m\u001b[43mmaster_ytcfg\u001b[49m\u001b[43m,\u001b[49m\u001b[43m \u001b[49m\u001b[43mfatal\u001b[49m\u001b[38;5;241;43m=\u001b[39;49m\u001b[38;5;28;43;01mFalse\u001b[39;49;00m\u001b[43m)\u001b[49m \u001b[38;5;28;01mif\u001b[39;00m player_url \u001b[38;5;28;01melse\u001b[39;00m \u001b[38;5;28;01mNone\u001b[39;00m\n\u001b[1;32m   3594\u001b[0m headers \u001b[38;5;241m=\u001b[39m \u001b[38;5;28mself\u001b[39m\u001b[38;5;241m.\u001b[39mgenerate_api_headers(\n\u001b[1;32m   3595\u001b[0m     ytcfg\u001b[38;5;241m=\u001b[39mplayer_ytcfg, account_syncid\u001b[38;5;241m=\u001b[39msyncid, session_index\u001b[38;5;241m=\u001b[39msession_index, default_client\u001b[38;5;241m=\u001b[39mclient)\n\u001b[1;32m   3597\u001b[0m yt_query \u001b[38;5;241m=\u001b[39m {\n\u001b[1;32m   3598\u001b[0m     \u001b[38;5;124m'\u001b[39m\u001b[38;5;124mvideoId\u001b[39m\u001b[38;5;124m'\u001b[39m: video_id,\n\u001b[1;32m   3599\u001b[0m }\n",
      "File \u001b[0;32m/usr/local/lib/python3.9/site-packages/yt_dlp/extractor/youtube.py:3183\u001b[0m, in \u001b[0;36mYoutubeIE._extract_signature_timestamp\u001b[0;34m(self, video_id, player_url, ytcfg, fatal)\u001b[0m\n\u001b[1;32m   3181\u001b[0m     \u001b[38;5;28mself\u001b[39m\u001b[38;5;241m.\u001b[39mreport_warning(error_msg)\n\u001b[1;32m   3182\u001b[0m     \u001b[38;5;28;01mreturn\u001b[39;00m\n\u001b[0;32m-> 3183\u001b[0m code \u001b[38;5;241m=\u001b[39m \u001b[38;5;28;43mself\u001b[39;49m\u001b[38;5;241;43m.\u001b[39;49m\u001b[43m_load_player\u001b[49m\u001b[43m(\u001b[49m\u001b[43mvideo_id\u001b[49m\u001b[43m,\u001b[49m\u001b[43m \u001b[49m\u001b[43mplayer_url\u001b[49m\u001b[43m,\u001b[49m\u001b[43m \u001b[49m\u001b[43mfatal\u001b[49m\u001b[38;5;241;43m=\u001b[39;49m\u001b[43mfatal\u001b[49m\u001b[43m)\u001b[49m\n\u001b[1;32m   3184\u001b[0m \u001b[38;5;28;01mif\u001b[39;00m code:\n\u001b[1;32m   3185\u001b[0m     sts \u001b[38;5;241m=\u001b[39m int_or_none(\u001b[38;5;28mself\u001b[39m\u001b[38;5;241m.\u001b[39m_search_regex(\n\u001b[1;32m   3186\u001b[0m         \u001b[38;5;124mr\u001b[39m\u001b[38;5;124m'\u001b[39m\u001b[38;5;124m(?:signatureTimestamp|sts)\u001b[39m\u001b[38;5;124m\\\u001b[39m\u001b[38;5;124ms*:\u001b[39m\u001b[38;5;124m\\\u001b[39m\u001b[38;5;124ms*(?P<sts>[0-9]\u001b[39m\u001b[38;5;132;01m{5}\u001b[39;00m\u001b[38;5;124m)\u001b[39m\u001b[38;5;124m'\u001b[39m, code,\n\u001b[1;32m   3187\u001b[0m         \u001b[38;5;124m'\u001b[39m\u001b[38;5;124mJS player signature timestamp\u001b[39m\u001b[38;5;124m'\u001b[39m, group\u001b[38;5;241m=\u001b[39m\u001b[38;5;124m'\u001b[39m\u001b[38;5;124msts\u001b[39m\u001b[38;5;124m'\u001b[39m, fatal\u001b[38;5;241m=\u001b[39mfatal))\n",
      "File \u001b[0;32m/usr/local/lib/python3.9/site-packages/yt_dlp/extractor/youtube.py:2963\u001b[0m, in \u001b[0;36mYoutubeIE._load_player\u001b[0;34m(self, video_id, player_url, fatal)\u001b[0m\n\u001b[1;32m   2961\u001b[0m player_id \u001b[38;5;241m=\u001b[39m \u001b[38;5;28mself\u001b[39m\u001b[38;5;241m.\u001b[39m_extract_player_info(player_url)\n\u001b[1;32m   2962\u001b[0m \u001b[38;5;28;01mif\u001b[39;00m player_id \u001b[38;5;129;01mnot\u001b[39;00m \u001b[38;5;129;01min\u001b[39;00m \u001b[38;5;28mself\u001b[39m\u001b[38;5;241m.\u001b[39m_code_cache:\n\u001b[0;32m-> 2963\u001b[0m     code \u001b[38;5;241m=\u001b[39m \u001b[38;5;28;43mself\u001b[39;49m\u001b[38;5;241;43m.\u001b[39;49m\u001b[43m_download_webpage\u001b[49m\u001b[43m(\u001b[49m\n\u001b[1;32m   2964\u001b[0m \u001b[43m        \u001b[49m\u001b[43mplayer_url\u001b[49m\u001b[43m,\u001b[49m\u001b[43m \u001b[49m\u001b[43mvideo_id\u001b[49m\u001b[43m,\u001b[49m\u001b[43m \u001b[49m\u001b[43mfatal\u001b[49m\u001b[38;5;241;43m=\u001b[39;49m\u001b[43mfatal\u001b[49m\u001b[43m,\u001b[49m\n\u001b[1;32m   2965\u001b[0m \u001b[43m        \u001b[49m\u001b[43mnote\u001b[49m\u001b[38;5;241;43m=\u001b[39;49m\u001b[38;5;124;43m'\u001b[39;49m\u001b[38;5;124;43mDownloading player \u001b[39;49m\u001b[38;5;124;43m'\u001b[39;49m\u001b[43m \u001b[49m\u001b[38;5;241;43m+\u001b[39;49m\u001b[43m \u001b[49m\u001b[43mplayer_id\u001b[49m\u001b[43m,\u001b[49m\n\u001b[1;32m   2966\u001b[0m \u001b[43m        \u001b[49m\u001b[43merrnote\u001b[49m\u001b[38;5;241;43m=\u001b[39;49m\u001b[38;5;124;43m'\u001b[39;49m\u001b[38;5;124;43mDownload of \u001b[39;49m\u001b[38;5;132;43;01m%s\u001b[39;49;00m\u001b[38;5;124;43m failed\u001b[39;49m\u001b[38;5;124;43m'\u001b[39;49m\u001b[43m \u001b[49m\u001b[38;5;241;43m%\u001b[39;49m\u001b[43m \u001b[49m\u001b[43mplayer_url\u001b[49m\u001b[43m)\u001b[49m\n\u001b[1;32m   2967\u001b[0m     \u001b[38;5;28;01mif\u001b[39;00m code:\n\u001b[1;32m   2968\u001b[0m         \u001b[38;5;28mself\u001b[39m\u001b[38;5;241m.\u001b[39m_code_cache[player_id] \u001b[38;5;241m=\u001b[39m code\n",
      "File \u001b[0;32m/usr/local/lib/python3.9/site-packages/yt_dlp/extractor/common.py:1113\u001b[0m, in \u001b[0;36mInfoExtractor._download_webpage\u001b[0;34m(self, url_or_request, video_id, note, errnote, fatal, tries, timeout, *args, **kwargs)\u001b[0m\n\u001b[1;32m   1111\u001b[0m \u001b[38;5;28;01mwhile\u001b[39;00m \u001b[38;5;28;01mTrue\u001b[39;00m:\n\u001b[1;32m   1112\u001b[0m     \u001b[38;5;28;01mtry\u001b[39;00m:\n\u001b[0;32m-> 1113\u001b[0m         \u001b[38;5;28;01mreturn\u001b[39;00m \u001b[38;5;28;43mself\u001b[39;49m\u001b[38;5;241;43m.\u001b[39;49m\u001b[43m__download_webpage\u001b[49m\u001b[43m(\u001b[49m\u001b[43murl_or_request\u001b[49m\u001b[43m,\u001b[49m\u001b[43m \u001b[49m\u001b[43mvideo_id\u001b[49m\u001b[43m,\u001b[49m\u001b[43m \u001b[49m\u001b[43mnote\u001b[49m\u001b[43m,\u001b[49m\u001b[43m \u001b[49m\u001b[43merrnote\u001b[49m\u001b[43m,\u001b[49m\u001b[43m \u001b[49m\u001b[38;5;28;43;01mNone\u001b[39;49;00m\u001b[43m,\u001b[49m\u001b[43m \u001b[49m\u001b[43mfatal\u001b[49m\u001b[43m,\u001b[49m\u001b[43m \u001b[49m\u001b[38;5;241;43m*\u001b[39;49m\u001b[43margs\u001b[49m\u001b[43m,\u001b[49m\u001b[43m \u001b[49m\u001b[38;5;241;43m*\u001b[39;49m\u001b[38;5;241;43m*\u001b[39;49m\u001b[43mkwargs\u001b[49m\u001b[43m)\u001b[49m\n\u001b[1;32m   1114\u001b[0m     \u001b[38;5;28;01mexcept\u001b[39;00m http\u001b[38;5;241m.\u001b[39mclient\u001b[38;5;241m.\u001b[39mIncompleteRead \u001b[38;5;28;01mas\u001b[39;00m e:\n\u001b[1;32m   1115\u001b[0m         try_count \u001b[38;5;241m+\u001b[39m\u001b[38;5;241m=\u001b[39m \u001b[38;5;241m1\u001b[39m\n",
      "File \u001b[0;32m/usr/local/lib/python3.9/site-packages/yt_dlp/extractor/common.py:1064\u001b[0m, in \u001b[0;36mInfoExtractor.__create_download_methods.<locals>.download_content\u001b[0;34m(self, url_or_request, video_id, note, errnote, transform_source, fatal, encoding, data, headers, query, expected_status)\u001b[0m\n\u001b[1;32m   1062\u001b[0m     kwargs\u001b[38;5;241m.\u001b[39mpop(\u001b[38;5;124m'\u001b[39m\u001b[38;5;124mtransform_source\u001b[39m\u001b[38;5;124m'\u001b[39m)\n\u001b[1;32m   1063\u001b[0m \u001b[38;5;66;03m# The method is fetched by name so subclasses can override _download_..._handle\u001b[39;00m\n\u001b[0;32m-> 1064\u001b[0m res \u001b[38;5;241m=\u001b[39m \u001b[38;5;28;43mgetattr\u001b[39;49m\u001b[43m(\u001b[49m\u001b[38;5;28;43mself\u001b[39;49m\u001b[43m,\u001b[49m\u001b[43m \u001b[49m\u001b[43mdownload_handle\u001b[49m\u001b[38;5;241;43m.\u001b[39;49m\u001b[38;5;18;43m__name__\u001b[39;49m\u001b[43m)\u001b[49m\u001b[43m(\u001b[49m\u001b[43murl_or_request\u001b[49m\u001b[43m,\u001b[49m\u001b[43m \u001b[49m\u001b[43mvideo_id\u001b[49m\u001b[43m,\u001b[49m\u001b[43m \u001b[49m\u001b[38;5;241;43m*\u001b[39;49m\u001b[38;5;241;43m*\u001b[39;49m\u001b[43mkwargs\u001b[49m\u001b[43m)\u001b[49m\n\u001b[1;32m   1065\u001b[0m \u001b[38;5;28;01mreturn\u001b[39;00m res \u001b[38;5;28;01mif\u001b[39;00m res \u001b[38;5;129;01mis\u001b[39;00m \u001b[38;5;28;01mFalse\u001b[39;00m \u001b[38;5;28;01melse\u001b[39;00m res[\u001b[38;5;241m0\u001b[39m]\n",
      "File \u001b[0;32m/usr/local/lib/python3.9/site-packages/yt_dlp/extractor/common.py:898\u001b[0m, in \u001b[0;36mInfoExtractor._download_webpage_handle\u001b[0;34m(self, url_or_request, video_id, note, errnote, fatal, encoding, data, headers, query, expected_status)\u001b[0m\n\u001b[1;32m    895\u001b[0m \u001b[38;5;28;01mif\u001b[39;00m \u001b[38;5;28misinstance\u001b[39m(url_or_request, \u001b[38;5;28mstr\u001b[39m):\n\u001b[1;32m    896\u001b[0m     url_or_request \u001b[38;5;241m=\u001b[39m url_or_request\u001b[38;5;241m.\u001b[39mpartition(\u001b[38;5;124m'\u001b[39m\u001b[38;5;124m#\u001b[39m\u001b[38;5;124m'\u001b[39m)[\u001b[38;5;241m0\u001b[39m]\n\u001b[0;32m--> 898\u001b[0m urlh \u001b[38;5;241m=\u001b[39m \u001b[38;5;28;43mself\u001b[39;49m\u001b[38;5;241;43m.\u001b[39;49m\u001b[43m_request_webpage\u001b[49m\u001b[43m(\u001b[49m\u001b[43murl_or_request\u001b[49m\u001b[43m,\u001b[49m\u001b[43m \u001b[49m\u001b[43mvideo_id\u001b[49m\u001b[43m,\u001b[49m\u001b[43m \u001b[49m\u001b[43mnote\u001b[49m\u001b[43m,\u001b[49m\u001b[43m \u001b[49m\u001b[43merrnote\u001b[49m\u001b[43m,\u001b[49m\u001b[43m \u001b[49m\u001b[43mfatal\u001b[49m\u001b[43m,\u001b[49m\u001b[43m \u001b[49m\u001b[43mdata\u001b[49m\u001b[38;5;241;43m=\u001b[39;49m\u001b[43mdata\u001b[49m\u001b[43m,\u001b[49m\u001b[43m \u001b[49m\u001b[43mheaders\u001b[49m\u001b[38;5;241;43m=\u001b[39;49m\u001b[43mheaders\u001b[49m\u001b[43m,\u001b[49m\u001b[43m \u001b[49m\u001b[43mquery\u001b[49m\u001b[38;5;241;43m=\u001b[39;49m\u001b[43mquery\u001b[49m\u001b[43m,\u001b[49m\u001b[43m \u001b[49m\u001b[43mexpected_status\u001b[49m\u001b[38;5;241;43m=\u001b[39;49m\u001b[43mexpected_status\u001b[49m\u001b[43m)\u001b[49m\n\u001b[1;32m    899\u001b[0m \u001b[38;5;28;01mif\u001b[39;00m urlh \u001b[38;5;129;01mis\u001b[39;00m \u001b[38;5;28;01mFalse\u001b[39;00m:\n\u001b[1;32m    900\u001b[0m     \u001b[38;5;28;01massert\u001b[39;00m \u001b[38;5;129;01mnot\u001b[39;00m fatal\n",
      "File \u001b[0;32m/usr/local/lib/python3.9/site-packages/yt_dlp/extractor/common.py:837\u001b[0m, in \u001b[0;36mInfoExtractor._request_webpage\u001b[0;34m(self, url_or_request, video_id, note, errnote, fatal, data, headers, query, expected_status)\u001b[0m\n\u001b[1;32m    834\u001b[0m     headers\u001b[38;5;241m.\u001b[39msetdefault(\u001b[38;5;124m'\u001b[39m\u001b[38;5;124mX-Forwarded-For\u001b[39m\u001b[38;5;124m'\u001b[39m, \u001b[38;5;28mself\u001b[39m\u001b[38;5;241m.\u001b[39m_x_forwarded_for_ip)\n\u001b[1;32m    836\u001b[0m \u001b[38;5;28;01mtry\u001b[39;00m:\n\u001b[0;32m--> 837\u001b[0m     \u001b[38;5;28;01mreturn\u001b[39;00m \u001b[38;5;28;43mself\u001b[39;49m\u001b[38;5;241;43m.\u001b[39;49m\u001b[43m_downloader\u001b[49m\u001b[38;5;241;43m.\u001b[39;49m\u001b[43murlopen\u001b[49m\u001b[43m(\u001b[49m\u001b[38;5;28;43mself\u001b[39;49m\u001b[38;5;241;43m.\u001b[39;49m\u001b[43m_create_request\u001b[49m\u001b[43m(\u001b[49m\u001b[43murl_or_request\u001b[49m\u001b[43m,\u001b[49m\u001b[43m \u001b[49m\u001b[43mdata\u001b[49m\u001b[43m,\u001b[49m\u001b[43m \u001b[49m\u001b[43mheaders\u001b[49m\u001b[43m,\u001b[49m\u001b[43m \u001b[49m\u001b[43mquery\u001b[49m\u001b[43m)\u001b[49m\u001b[43m)\u001b[49m\n\u001b[1;32m    838\u001b[0m \u001b[38;5;28;01mexcept\u001b[39;00m network_exceptions \u001b[38;5;28;01mas\u001b[39;00m err:\n\u001b[1;32m    839\u001b[0m     \u001b[38;5;28;01mif\u001b[39;00m \u001b[38;5;28misinstance\u001b[39m(err, urllib\u001b[38;5;241m.\u001b[39merror\u001b[38;5;241m.\u001b[39mHTTPError):\n",
      "File \u001b[0;32m/usr/local/lib/python3.9/site-packages/yt_dlp/YoutubeDL.py:3863\u001b[0m, in \u001b[0;36mYoutubeDL.urlopen\u001b[0;34m(self, req)\u001b[0m\n\u001b[1;32m   3861\u001b[0m \u001b[38;5;28;01mif\u001b[39;00m \u001b[38;5;28misinstance\u001b[39m(req, \u001b[38;5;28mstr\u001b[39m):\n\u001b[1;32m   3862\u001b[0m     req \u001b[38;5;241m=\u001b[39m sanitized_Request(req)\n\u001b[0;32m-> 3863\u001b[0m \u001b[38;5;28;01mreturn\u001b[39;00m \u001b[38;5;28;43mself\u001b[39;49m\u001b[38;5;241;43m.\u001b[39;49m\u001b[43m_opener\u001b[49m\u001b[38;5;241;43m.\u001b[39;49m\u001b[43mopen\u001b[49m\u001b[43m(\u001b[49m\u001b[43mreq\u001b[49m\u001b[43m,\u001b[49m\u001b[43m \u001b[49m\u001b[43mtimeout\u001b[49m\u001b[38;5;241;43m=\u001b[39;49m\u001b[38;5;28;43mself\u001b[39;49m\u001b[38;5;241;43m.\u001b[39;49m\u001b[43m_socket_timeout\u001b[49m\u001b[43m)\u001b[49m\n",
      "File \u001b[0;32m/usr/local/lib/python3.9/urllib/request.py:523\u001b[0m, in \u001b[0;36mOpenerDirector.open\u001b[0;34m(self, fullurl, data, timeout)\u001b[0m\n\u001b[1;32m    521\u001b[0m \u001b[38;5;28;01mfor\u001b[39;00m processor \u001b[38;5;129;01min\u001b[39;00m \u001b[38;5;28mself\u001b[39m\u001b[38;5;241m.\u001b[39mprocess_response\u001b[38;5;241m.\u001b[39mget(protocol, []):\n\u001b[1;32m    522\u001b[0m     meth \u001b[38;5;241m=\u001b[39m \u001b[38;5;28mgetattr\u001b[39m(processor, meth_name)\n\u001b[0;32m--> 523\u001b[0m     response \u001b[38;5;241m=\u001b[39m \u001b[43mmeth\u001b[49m\u001b[43m(\u001b[49m\u001b[43mreq\u001b[49m\u001b[43m,\u001b[49m\u001b[43m \u001b[49m\u001b[43mresponse\u001b[49m\u001b[43m)\u001b[49m\n\u001b[1;32m    525\u001b[0m \u001b[38;5;28;01mreturn\u001b[39;00m response\n",
      "File \u001b[0;32m/usr/local/lib/python3.9/site-packages/yt_dlp/utils/_utils.py:1424\u001b[0m, in \u001b[0;36mYoutubeDLHandler.http_response\u001b[0;34m(self, req, resp)\u001b[0m\n\u001b[1;32m   1422\u001b[0m \u001b[38;5;28;01mfor\u001b[39;00m encoding \u001b[38;5;129;01min\u001b[39;00m (e\u001b[38;5;241m.\u001b[39mstrip() \u001b[38;5;28;01mfor\u001b[39;00m e \u001b[38;5;129;01min\u001b[39;00m \u001b[38;5;28mreversed\u001b[39m(resp\u001b[38;5;241m.\u001b[39mheaders\u001b[38;5;241m.\u001b[39mget(\u001b[38;5;124m'\u001b[39m\u001b[38;5;124mContent-encoding\u001b[39m\u001b[38;5;124m'\u001b[39m, \u001b[38;5;124m'\u001b[39m\u001b[38;5;124m'\u001b[39m)\u001b[38;5;241m.\u001b[39msplit(\u001b[38;5;124m'\u001b[39m\u001b[38;5;124m,\u001b[39m\u001b[38;5;124m'\u001b[39m))):\n\u001b[1;32m   1423\u001b[0m     \u001b[38;5;28;01mif\u001b[39;00m encoding \u001b[38;5;241m==\u001b[39m \u001b[38;5;124m'\u001b[39m\u001b[38;5;124mgzip\u001b[39m\u001b[38;5;124m'\u001b[39m:\n\u001b[0;32m-> 1424\u001b[0m         decoded_response \u001b[38;5;241m=\u001b[39m \u001b[38;5;28mself\u001b[39m\u001b[38;5;241m.\u001b[39mgz(decoded_response \u001b[38;5;129;01mor\u001b[39;00m \u001b[43mresp\u001b[49m\u001b[38;5;241;43m.\u001b[39;49m\u001b[43mread\u001b[49m\u001b[43m(\u001b[49m\u001b[43m)\u001b[49m)\n\u001b[1;32m   1425\u001b[0m     \u001b[38;5;28;01melif\u001b[39;00m encoding \u001b[38;5;241m==\u001b[39m \u001b[38;5;124m'\u001b[39m\u001b[38;5;124mdeflate\u001b[39m\u001b[38;5;124m'\u001b[39m:\n\u001b[1;32m   1426\u001b[0m         decoded_response \u001b[38;5;241m=\u001b[39m \u001b[38;5;28mself\u001b[39m\u001b[38;5;241m.\u001b[39mdeflate(decoded_response \u001b[38;5;129;01mor\u001b[39;00m resp\u001b[38;5;241m.\u001b[39mread())\n",
      "File \u001b[0;32m/usr/local/lib/python3.9/http/client.py:476\u001b[0m, in \u001b[0;36mHTTPResponse.read\u001b[0;34m(self, amt)\u001b[0m\n\u001b[1;32m    474\u001b[0m \u001b[38;5;28;01melse\u001b[39;00m:\n\u001b[1;32m    475\u001b[0m     \u001b[38;5;28;01mtry\u001b[39;00m:\n\u001b[0;32m--> 476\u001b[0m         s \u001b[38;5;241m=\u001b[39m \u001b[38;5;28;43mself\u001b[39;49m\u001b[38;5;241;43m.\u001b[39;49m\u001b[43m_safe_read\u001b[49m\u001b[43m(\u001b[49m\u001b[38;5;28;43mself\u001b[39;49m\u001b[38;5;241;43m.\u001b[39;49m\u001b[43mlength\u001b[49m\u001b[43m)\u001b[49m\n\u001b[1;32m    477\u001b[0m     \u001b[38;5;28;01mexcept\u001b[39;00m IncompleteRead:\n\u001b[1;32m    478\u001b[0m         \u001b[38;5;28mself\u001b[39m\u001b[38;5;241m.\u001b[39m_close_conn()\n",
      "File \u001b[0;32m/usr/local/lib/python3.9/http/client.py:626\u001b[0m, in \u001b[0;36mHTTPResponse._safe_read\u001b[0;34m(self, amt)\u001b[0m\n\u001b[1;32m    624\u001b[0m s \u001b[38;5;241m=\u001b[39m []\n\u001b[1;32m    625\u001b[0m \u001b[38;5;28;01mwhile\u001b[39;00m amt \u001b[38;5;241m>\u001b[39m \u001b[38;5;241m0\u001b[39m:\n\u001b[0;32m--> 626\u001b[0m     chunk \u001b[38;5;241m=\u001b[39m \u001b[38;5;28;43mself\u001b[39;49m\u001b[38;5;241;43m.\u001b[39;49m\u001b[43mfp\u001b[49m\u001b[38;5;241;43m.\u001b[39;49m\u001b[43mread\u001b[49m\u001b[43m(\u001b[49m\u001b[38;5;28;43mmin\u001b[39;49m\u001b[43m(\u001b[49m\u001b[43mamt\u001b[49m\u001b[43m,\u001b[49m\u001b[43m \u001b[49m\u001b[43mMAXAMOUNT\u001b[49m\u001b[43m)\u001b[49m\u001b[43m)\u001b[49m\n\u001b[1;32m    627\u001b[0m     \u001b[38;5;28;01mif\u001b[39;00m \u001b[38;5;129;01mnot\u001b[39;00m chunk:\n\u001b[1;32m    628\u001b[0m         \u001b[38;5;28;01mraise\u001b[39;00m IncompleteRead(\u001b[38;5;124mb\u001b[39m\u001b[38;5;124m'\u001b[39m\u001b[38;5;124m'\u001b[39m\u001b[38;5;241m.\u001b[39mjoin(s), amt)\n",
      "File \u001b[0;32m/usr/local/lib/python3.9/socket.py:704\u001b[0m, in \u001b[0;36mSocketIO.readinto\u001b[0;34m(self, b)\u001b[0m\n\u001b[1;32m    702\u001b[0m \u001b[38;5;28;01mwhile\u001b[39;00m \u001b[38;5;28;01mTrue\u001b[39;00m:\n\u001b[1;32m    703\u001b[0m     \u001b[38;5;28;01mtry\u001b[39;00m:\n\u001b[0;32m--> 704\u001b[0m         \u001b[38;5;28;01mreturn\u001b[39;00m \u001b[38;5;28;43mself\u001b[39;49m\u001b[38;5;241;43m.\u001b[39;49m\u001b[43m_sock\u001b[49m\u001b[38;5;241;43m.\u001b[39;49m\u001b[43mrecv_into\u001b[49m\u001b[43m(\u001b[49m\u001b[43mb\u001b[49m\u001b[43m)\u001b[49m\n\u001b[1;32m    705\u001b[0m     \u001b[38;5;28;01mexcept\u001b[39;00m timeout:\n\u001b[1;32m    706\u001b[0m         \u001b[38;5;28mself\u001b[39m\u001b[38;5;241m.\u001b[39m_timeout_occurred \u001b[38;5;241m=\u001b[39m \u001b[38;5;28;01mTrue\u001b[39;00m\n",
      "File \u001b[0;32m/usr/local/lib/python3.9/ssl.py:1242\u001b[0m, in \u001b[0;36mSSLSocket.recv_into\u001b[0;34m(self, buffer, nbytes, flags)\u001b[0m\n\u001b[1;32m   1238\u001b[0m     \u001b[38;5;28;01mif\u001b[39;00m flags \u001b[38;5;241m!=\u001b[39m \u001b[38;5;241m0\u001b[39m:\n\u001b[1;32m   1239\u001b[0m         \u001b[38;5;28;01mraise\u001b[39;00m \u001b[38;5;167;01mValueError\u001b[39;00m(\n\u001b[1;32m   1240\u001b[0m           \u001b[38;5;124m\"\u001b[39m\u001b[38;5;124mnon-zero flags not allowed in calls to recv_into() on \u001b[39m\u001b[38;5;132;01m%s\u001b[39;00m\u001b[38;5;124m\"\u001b[39m \u001b[38;5;241m%\u001b[39m\n\u001b[1;32m   1241\u001b[0m           \u001b[38;5;28mself\u001b[39m\u001b[38;5;241m.\u001b[39m\u001b[38;5;18m__class__\u001b[39m)\n\u001b[0;32m-> 1242\u001b[0m     \u001b[38;5;28;01mreturn\u001b[39;00m \u001b[38;5;28;43mself\u001b[39;49m\u001b[38;5;241;43m.\u001b[39;49m\u001b[43mread\u001b[49m\u001b[43m(\u001b[49m\u001b[43mnbytes\u001b[49m\u001b[43m,\u001b[49m\u001b[43m \u001b[49m\u001b[43mbuffer\u001b[49m\u001b[43m)\u001b[49m\n\u001b[1;32m   1243\u001b[0m \u001b[38;5;28;01melse\u001b[39;00m:\n\u001b[1;32m   1244\u001b[0m     \u001b[38;5;28;01mreturn\u001b[39;00m \u001b[38;5;28msuper\u001b[39m()\u001b[38;5;241m.\u001b[39mrecv_into(buffer, nbytes, flags)\n",
      "File \u001b[0;32m/usr/local/lib/python3.9/ssl.py:1100\u001b[0m, in \u001b[0;36mSSLSocket.read\u001b[0;34m(self, len, buffer)\u001b[0m\n\u001b[1;32m   1098\u001b[0m \u001b[38;5;28;01mtry\u001b[39;00m:\n\u001b[1;32m   1099\u001b[0m     \u001b[38;5;28;01mif\u001b[39;00m buffer \u001b[38;5;129;01mis\u001b[39;00m \u001b[38;5;129;01mnot\u001b[39;00m \u001b[38;5;28;01mNone\u001b[39;00m:\n\u001b[0;32m-> 1100\u001b[0m         \u001b[38;5;28;01mreturn\u001b[39;00m \u001b[38;5;28;43mself\u001b[39;49m\u001b[38;5;241;43m.\u001b[39;49m\u001b[43m_sslobj\u001b[49m\u001b[38;5;241;43m.\u001b[39;49m\u001b[43mread\u001b[49m\u001b[43m(\u001b[49m\u001b[38;5;28;43mlen\u001b[39;49m\u001b[43m,\u001b[49m\u001b[43m \u001b[49m\u001b[43mbuffer\u001b[49m\u001b[43m)\u001b[49m\n\u001b[1;32m   1101\u001b[0m     \u001b[38;5;28;01melse\u001b[39;00m:\n\u001b[1;32m   1102\u001b[0m         \u001b[38;5;28;01mreturn\u001b[39;00m \u001b[38;5;28mself\u001b[39m\u001b[38;5;241m.\u001b[39m_sslobj\u001b[38;5;241m.\u001b[39mread(\u001b[38;5;28mlen\u001b[39m)\n",
      "\u001b[0;31mKeyboardInterrupt\u001b[0m: "
     ]
    }
   ],
   "source": [
    "for i, row in dfh.iterrows():        \n",
    "    vid_id = row[\"video_id\"]\n",
    "\n",
    "    # If video already downloaded, do not download it again\n",
    "    if vid_id in d_success:\n",
    "        continue\n",
    "    if vid_id in s_videos_downloaded:\n",
    "        continue\n",
    "\n",
    "    if i in [0, 50, 100, 150, 200, 250, 300, 350, 400, 450, 500, 550, 600, 650, 700, 750, 800]:\n",
    "        print(\"--\" * 30)\n",
    "        print(f\"Iteration: {i}\")\n",
    "        print(\"--\" * 30)\n",
    "    elif (i % 50) == 0:\n",
    "        print(\"--\" * 30)\n",
    "        print(f\"Iteration: {i}\")\n",
    "        print(\"--\" * 30)\n",
    "        print(\"Sleeping\")\n",
    "        time.sleep(3000)\n",
    "\n",
    "    # Download video\n",
    "    print(\"--\" * 30)\n",
    "    print(\"DOWNLOADING VIDEO:\", vid_id)\n",
    "    print(\"--\" * 30)\n",
    "    tt = download_video(vid_id)\n",
    "    if tt:\n",
    "        d_success[vid_id] = True"
   ]
  },
  {
   "cell_type": "code",
   "execution_count": 60,
   "id": "a0367177-08fd-4dd5-8794-09e0f998dea5",
   "metadata": {},
   "outputs": [
    {
     "data": {
      "text/plain": [
       "'3J-k2NGgmEs'"
      ]
     },
     "execution_count": 60,
     "metadata": {},
     "output_type": "execute_result"
    }
   ],
   "source": [
    "vid_id"
   ]
  },
  {
   "cell_type": "code",
   "execution_count": null,
   "id": "25d902c2-2c3e-41d5-9937-ab3ed1c59fc8",
   "metadata": {},
   "outputs": [],
   "source": [
    "# tt = download_video(video_id=\"8xXxVYajvNs\")"
   ]
  },
  {
   "cell_type": "code",
   "execution_count": 22,
   "id": "15863604-2cf7-46dc-8f13-418a01e98e50",
   "metadata": {},
   "outputs": [],
   "source": [
    "#%%time\n",
    "#video_id = \"RS_4HosMJuE\"\n",
    "#tt = download_video(video_id)"
   ]
  },
  {
   "cell_type": "markdown",
   "id": "e810dad1-d355-4df0-ba0a-abb1d761311a",
   "metadata": {},
   "source": [
    "# See video\n"
   ]
  },
  {
   "cell_type": "code",
   "execution_count": 15,
   "id": "a6a82c38-035d-48e6-ba90-184d1182a494",
   "metadata": {},
   "outputs": [],
   "source": [
    "import cv2\n",
    "import random"
   ]
  },
  {
   "cell_type": "code",
   "execution_count": 39,
   "id": "21092a79-320f-4f19-a6e1-2d9f392648bc",
   "metadata": {},
   "outputs": [
    {
     "data": {
      "text/plain": [
       "'videos/tennistv'"
      ]
     },
     "execution_count": 39,
     "metadata": {},
     "output_type": "execute_result"
    }
   ],
   "source": [
    "PATH_OUT_VIDEOS"
   ]
  },
  {
   "cell_type": "code",
   "execution_count": 16,
   "id": "adcc1536-7a29-46c6-81de-5871fc248717",
   "metadata": {},
   "outputs": [],
   "source": [
    "video_id = \"RS_4HosMJuE\"\n",
    "\n",
    "# Replace with the actual path to your MP4 video file\n",
    "video_path = os.path.join(PATH_OUT_VIDEOS, f\"{video_id}.mp4\")\n",
    "\n",
    "# Open the video capture object\n",
    "cap = cv2.VideoCapture(video_path)\n",
    "\n",
    "# Check if the video file was opened successfully\n",
    "if not cap.isOpened():\n",
    "    print(\"Error: Could not open video.\")\n",
    "    exit()\n",
    "\n",
    "# Get the total number of frames in the video\n",
    "total_frames = int(cap.get(cv2.CAP_PROP_FRAME_COUNT))\n",
    "\n",
    "# Generate a random frame index\n",
    "random_frame_index = random.randint(0, total_frames - 1)\n",
    "\n",
    "# Set the frame position to the random index\n",
    "cap.set(cv2.CAP_PROP_POS_FRAMES, random_frame_index)\n",
    "\n",
    "# Read the frame at the random index\n",
    "ret, frame = cap.read()\n",
    "\n",
    "# Check if the frame was read successfully\n",
    "if not ret:\n",
    "    print(\"Error: Could not read frame.\")\n",
    "    cap.release()\n",
    "    exit()"
   ]
  },
  {
   "cell_type": "code",
   "execution_count": 17,
   "id": "835d3ac7-63ac-4f3d-ab8e-c34f07153479",
   "metadata": {},
   "outputs": [],
   "source": [
    "import matplotlib.pyplot as plt"
   ]
  },
  {
   "cell_type": "code",
   "execution_count": 18,
   "id": "e6fab13f-ea64-4ab4-b8d2-1aecadb2b9b1",
   "metadata": {},
   "outputs": [
    {
     "data": {
      "image/png": "[encoded data removed]",
      "text/plain": [
       "<Figure size 640x480 with 1 Axes>"
      ]
     },
     "metadata": {},
     "output_type": "display_data"
    }
   ],
   "source": [
    "# Convert the frame from BGR to RGB\n",
    "frame_rgb = cv2.cvtColor(frame, cv2.COLOR_BGR2RGB)\n",
    "\n",
    "# Plot the first frame using matplotlib\n",
    "plt.imshow(frame_rgb)\n",
    "plt.axis(\"off\")  # Turn off axis labels and ticks\n",
    "plt.title(\"First Frame\")\n",
    "plt.show()"
   ]
  },
  {
   "cell_type": "markdown",
   "id": "8f041e2a-7027-4542-8dbe-546313c5b104",
   "metadata": {},
   "source": [
    "# Transfer dataset to hard drive"
   ]
  },
  {
   "cell_type": "markdown",
   "id": "b4eae753-8bf6-4608-ad76-a885c9144be7",
   "metadata": {},
   "source": [
    "```{bash}\n",
    "cd /Volumes/Seagate David Amat/Datasets/deepsetstats\n",
    "cp -rv /Users/davidamat/Documents/Projects/deepsetstats/videos/test_tennis .\n",
    "# changing test_tennis by tennistv\n",
    "```"
   ]
  },
  {
   "cell_type": "code",
   "execution_count": null,
   "id": "26ceb83b-da59-456d-822e-d07bc578978d",
   "metadata": {},
   "outputs": [],
   "source": []
  }
 ],
 "metadata": {
  "kernelspec": {
   "display_name": "Python 3 (ipykernel)",
   "language": "python",
   "name": "python3"
  },
  "language_info": {
   "codemirror_mode": {
    "name": "ipython",
    "version": 3
   },
   "file_extension": ".py",
   "mimetype": "text/x-python",
   "name": "python",
   "nbconvert_exporter": "python",
   "pygments_lexer": "ipython3",
   "version": "3.9.17"
  }
 },
 "nbformat": 4,
 "nbformat_minor": 5
}
