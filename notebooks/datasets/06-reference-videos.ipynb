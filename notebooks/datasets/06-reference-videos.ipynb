{
 "cells": [
  {
   "cell_type": "code",
   "execution_count": 1,
   "id": "f9279ac5-dda2-4988-8f13-fd34eb60b1a5",
   "metadata": {},
   "outputs": [],
   "source": [
    "import os\n",
    "os.chdir(\"/usr/src/app\")\n",
    "import pandas as pd\n",
    "from os.path import join as jp\n",
    "import cv2\n",
    "import random\n",
    "import matplotlib.pyplot as plt\n",
    "from IPython.display import clear_output\n",
    "import time\n",
    "import re"
   ]
  },
  {
   "cell_type": "code",
   "execution_count": 2,
   "id": "12ed85a4-a161-409b-8ff3-4b1bff1d68c4",
   "metadata": {},
   "outputs": [],
   "source": [
    "from deepsetstats.paths import (\n",
    "    PATH_VIDEOS,\n",
    "    PATH_IMAGES_REFCOURT,\n",
    "    PATH_MASTER_TENNIS_TV,\n",
    "    PATH_MASTER_GS,\n",
    "    PATH_TOURNAMENTS_NAMING, \n",
    "    PATH_REFERENCE_VIDEOS,\n",
    ")\n",
    "from deepsetstats.dataset.court_detection.utils import Utils"
   ]
  },
  {
   "cell_type": "code",
   "execution_count": 3,
   "id": "4f70b55a-2b49-4390-b957-5d6386e30a47",
   "metadata": {},
   "outputs": [],
   "source": [
    "ut = Utils()\n",
    "create_img_name = ut.create_img_name\n",
    "full_parse_img_ref = ut.full_parse_img_ref\n",
    "parse_img_ref = ut.parse_img_ref\n",
    "bgr_to_rgb = ut.bgr_to_rgb\n",
    "rgb_to_bgr = ut.rgb_to_bgr\n",
    "plot_img_rgb = ut.plot_img_rgb\n",
    "save_bgr_img = ut.save_bgr_img\n",
    "get_random_frame = ut.get_random_frame\n",
    "list_videos = ut.list_videos"
   ]
  },
  {
   "cell_type": "markdown",
   "id": "9407b008-feb1-4b5b-ae5d-b9081f342837",
   "metadata": {},
   "source": [
    "# <font size=20> Tennis TV"
   ]
  },
  {
   "cell_type": "markdown",
   "id": "5cb93f5f-0bf7-4d5e-8056-21de11be54bf",
   "metadata": {},
   "source": [
    "# Get Downloaded Videos Id"
   ]
  },
  {
   "cell_type": "code",
   "execution_count": 4,
   "id": "74e6942e-73a0-4d5d-a3e4-e2426ae4908b",
   "metadata": {},
   "outputs": [
    {
     "name": "stdout",
     "output_type": "stream",
     "text": [
      "Videos downloaded: 1198\n"
     ]
    }
   ],
   "source": [
    "# List all downloaded video_ids (tennistv + grand slams)\n",
    "sv = list_videos(PATH_VIDEOS)\n",
    "print(\"Videos downloaded:\", len(sv))"
   ]
  },
  {
   "cell_type": "markdown",
   "id": "53336644-cd1c-4896-bcc9-72181366af48",
   "metadata": {},
   "source": [
    "# Load Master table"
   ]
  },
  {
   "cell_type": "code",
   "execution_count": 5,
   "id": "aaaaca5c-fef1-4968-ad31-d6b062d4c526",
   "metadata": {},
   "outputs": [],
   "source": [
    "# Load all videos\n",
    "df_tennistv = pd.read_parquet(PATH_MASTER_TENNIS_TV, engine=\"pyarrow\")\n",
    "df_gs = pd.read_parquet(PATH_MASTER_GS, engine=\"pyarrow\")\n",
    "df = pd.concat([df_tennistv, df_gs])\n",
    "\n",
    "# load all tournaments\n",
    "df_tt = pd.read_parquet(PATH_TOURNAMENTS_NAMING, engine=\"pyarrow\")\n",
    "\n",
    "# Ensure video is downloaded\n",
    "df_data = df[df[\"video_id\"].isin(sv)].copy()\n",
    "df_data = pd.merge(df_data, df_tt[[\"tournament_name\", \"level\"]].drop_duplicates(), on=[\"tournament_name\"], how=\"left\")"
   ]
  },
  {
   "cell_type": "markdown",
   "id": "9d3487ba-778a-4514-aa6e-c80449f5d41f",
   "metadata": {},
   "source": [
    "# Select one video Id per tournament"
   ]
  },
  {
   "cell_type": "code",
   "execution_count": 6,
   "id": "165e799c-534b-4b6e-8e92-842d3d4f0239",
   "metadata": {},
   "outputs": [],
   "source": [
    "court_reference_videos = df_data.groupby([\"tournament_name\", \"level\"])[\"video_id\"].first().reset_index()\n",
    "court_reference_videos = court_reference_videos.sort_values(\"level\")"
   ]
  },
  {
   "cell_type": "code",
   "execution_count": 7,
   "id": "e4e09840-641a-43cf-be30-b664c1a1e0d7",
   "metadata": {},
   "outputs": [],
   "source": [
    "cols = [\"tournament_name\", \"tournament_id\",]\n",
    "court_reference_videos = pd.merge(\n",
    "    court_reference_videos,\n",
    "    df_tt[cols].drop_duplicates(),\n",
    "    on = cols[0],\n",
    "    how=\"left\"\n",
    ")"
   ]
  },
  {
   "cell_type": "code",
   "execution_count": 60,
   "id": "f6037208-8426-435b-9b12-983b3d0bdd91",
   "metadata": {},
   "outputs": [],
   "source": [
    "# Save the selected reference videos\n",
    "# court_reference_videos.to_parquet(PATH_REFERENCE_VIDEOS, engine=\"pyarrow\")"
   ]
  },
  {
   "cell_type": "markdown",
   "id": "974fdf96-9500-4b08-9515-2524b6195aee",
   "metadata": {},
   "source": [
    "# Select reference court frame\n",
    "\n",
    "Select a frame in which the court of that tournament can be clearly seen"
   ]
  },
  {
   "cell_type": "code",
   "execution_count": 9,
   "id": "80367bac-1d6d-4baa-9824-734e58aae421",
   "metadata": {},
   "outputs": [],
   "source": [
    "court_reference_videos = pd.read_parquet(PATH_REFERENCE_VIDEOS, engine=\"pyarrow\")"
   ]
  },
  {
   "cell_type": "code",
   "execution_count": 10,
   "id": "2c1862d3-e34f-4793-865e-88872022ca67",
   "metadata": {},
   "outputs": [],
   "source": [
    "# Already existing tournaments in the reference\n",
    "l_existing_ref = os.listdir(PATH_IMAGES_REFCOURT)\n",
    "\n",
    "existing_tournament_ids_ref = set()\n",
    "existing_video_ids_ref = set()\n",
    "for name_imref in l_existing_ref:\n",
    "    if name_imref.endswith(\".png\"):\n",
    "        vid_id, tour_id = parse_img_ref(name_imref)\n",
    "        existing_video_ids_ref.add(vid_id)\n",
    "        existing_tournament_ids_ref.add(tour_id)"
   ]
  },
  {
   "cell_type": "code",
   "execution_count": 72,
   "id": "e2297b4e-2e1a-42ad-ae88-bc89f70bd95a",
   "metadata": {},
   "outputs": [
    {
     "name": "stdout",
     "output_type": "stream",
     "text": [
      "Tournament: Cincinnati, already done, next one please!\n",
      "Tournament: Shanghai, already done, next one please!\n",
      "Tournament: Paris, already done, next one please!\n",
      "Tournament: Indian Wells, already done, next one please!\n",
      "Tournament: Miami, already done, next one please!\n",
      "Tournament: Monte Carlo, already done, next one please!\n",
      "Tournament: Madrid, already done, next one please!\n",
      "Tournament: Rome, already done, next one please!\n",
      "Tournament: Toronto, already done, next one please!\n",
      "Tournament: Adelaide, already done, next one please!\n",
      "Tournament: Pune, already done, next one please!\n",
      "Tournament: Auckland, already done, next one please!\n",
      "Tournament: Adelaide, already done, next one please!\n",
      "Tournament: Dallas, already done, next one please!\n",
      "Tournament: Cordoba, already done, next one please!\n",
      "Tournament: Montpellier, already done, next one please!\n",
      "Tournament: Delray Beach, already done, next one please!\n",
      "Tournament: Buenos Aires, already done, next one please!\n",
      "Tournament: Doha, already done, next one please!\n",
      "Tournament: Marseille, already done, next one please!\n",
      "Tournament: Santiago, already done, next one please!\n",
      "Tournament: Houston, already done, next one please!\n",
      "Tournament: Marrakech, already done, next one please!\n",
      "Tournament: Estoril, already done, next one please!\n",
      "Tournament: Munich, already done, next one please!\n",
      "Tournament: Banja Luka, already done, next one please!\n",
      "Tournament: Geneva, already done, next one please!\n",
      "Tournament: Lyon, already done, next one please!\n",
      "Tournament: Stuttgart, already done, next one please!\n",
      "Tournament: Hertogenbosch, already done, next one please!\n",
      "Tournament: Mallorca, already done, next one please!\n",
      "Tournament: Eastbourne, already done, next one please!\n",
      "Tournament: Newport, already done, next one please!\n",
      "Tournament: Gstaad, already done, next one please!\n",
      "Tournament: Bastad, already done, next one please!\n",
      "Tournament: Atlanta, already done, next one please!\n",
      "Tournament: Umag, already done, next one please!\n",
      "Tournament: Los Cabos, already done, next one please!\n",
      "Tournament: Kitzbuhel, already done, next one please!\n",
      "Tournament: Winston-Salem, already done, next one please!\n",
      "Tournament: Chengdu, already done, next one please!\n",
      "Tournament: Zhuhai, already done, next one please!\n",
      "Tournament: Astana, already done, next one please!\n",
      "Tournament: Stockholm, already done, next one please!\n",
      "Tournament: Antwerp, already done, next one please!\n",
      "Tournament: Metz, already done, next one please!\n",
      "Tournament: Tel Aviv, already done, next one please!\n",
      "Tournament: Rotterdam, already done, next one please!\n",
      "Tournament: Rio, already done, next one please!\n",
      "Tournament: Dubai, already done, next one please!\n",
      "Tournament: Acapulco, already done, next one please!\n",
      "Tournament: Barcelona, already done, next one please!\n",
      "Tournament: Queen's, already done, next one please!\n",
      "Tournament: Halle, already done, next one please!\n",
      "Tournament: Hamburg, already done, next one please!\n",
      "Tournament: Washington, already done, next one please!\n",
      "Tournament: Beijing, already done, next one please!\n",
      "Tournament: Tokyo, already done, next one please!\n",
      "Tournament: Vienna, already done, next one please!\n",
      "Tournament: Basel, already done, next one please!\n",
      "Tournament: ATP Finals, already done, next one please!\n",
      "Tournament: Australian Open, already done, next one please!\n",
      "Tournament: Roland Garros, already done, next one please!\n",
      "Tournament: Wimbledon, already done, next one please!\n",
      "Tournament: US Open, already done, next one please!\n"
     ]
    }
   ],
   "source": [
    "skipped_vids = set()\n",
    "\n",
    "# Selector of the best reference court images\n",
    "for i,row in court_reference_videos.iterrows():\n",
    "    tournament_id = row[\"tournament_id\"]\n",
    "    video_id = row[\"video_id\"]\n",
    "    tour_name = row[\"tournament_name\"]\n",
    "    level = row[\"level\"]\n",
    "\n",
    "    if tournament_id in existing_tournament_ids_ref:\n",
    "        print(f\"Tournament: {tour_name}, already done, next one please!\")\n",
    "        continue\n",
    "        \n",
    "    if video_id in existing_video_ids_ref:\n",
    "        print(f\"Video: {video_id}, already done, next one please!\")\n",
    "        continue\n",
    "\n",
    "    while True:\n",
    "        print(\"==\" * 30)\n",
    "        print(f\"Tournament: {tour_name}\")\n",
    "        print(\"==\" * 30)\n",
    "        img_bgr, frame_ok, frame_num = get_random_frame(video_id)\n",
    "        user_input = input(f\"Do you want to save? (y/n/s(skip): \")\n",
    "        clear_output(wait=True)\n",
    "        time.sleep(0.2)\n",
    "        \n",
    "        if user_input.lower() == \"y\":\n",
    "            # Save the image and break the while loop to go to the next\n",
    "            name_img = create_img_name(level, tournament_id, video_id, frame_num)\n",
    "            path_img_ref = jp(PATH_IMAGES_REFCOURT, name_img)\n",
    "            \n",
    "            # TODO: uncomment to save\n",
    "            #save_bgr_img(path=path_img_ref, img_bgr=img_bgr)\n",
    "            print(f\"Saved image: {name_img}\")\n",
    "            break\n",
    "        elif user_input.lower() == \"s\":\n",
    "            print(f\"Skipping video\")\n",
    "            skipped_vids.add(video_id)\n",
    "            break\n",
    "        else:\n",
    "            print(\"Not saving ! Generating a new image\")\n",
    "            time.sleep(0.5)\n",
    "            clear_output(wait=True)\n",
    "            continue"
   ]
  },
  {
   "cell_type": "markdown",
   "id": "9d0c26c0-5aed-480b-ba2e-a6b371512d24",
   "metadata": {},
   "source": [
    "# <font size=20> Summary Reference"
   ]
  },
  {
   "cell_type": "code",
   "execution_count": 11,
   "id": "823768ed-c0a6-4bb1-8daa-a48cb6534d30",
   "metadata": {},
   "outputs": [],
   "source": [
    "l_imgs = os.listdir(PATH_IMAGES_REFCOURT)"
   ]
  },
  {
   "cell_type": "code",
   "execution_count": 15,
   "id": "bf86cd85-2f42-4f14-81a3-396acdc93fc9",
   "metadata": {},
   "outputs": [],
   "source": [
    "l_tours = [full_parse_img_ref(img_x) for img_x in l_imgs]\n",
    "df_ref_courts = pd.DataFrame(l_tours, columns=[\"filename\", \"level\", \"tournament_id\", \"video_id\", \"frame_num\"])"
   ]
  },
  {
   "cell_type": "code",
   "execution_count": 16,
   "id": "167ffa87-d51d-4c40-ac98-fb98654f7d5a",
   "metadata": {},
   "outputs": [],
   "source": [
    "cols = [\"tournament_name\", \"tournament_id\",]\n",
    "df_ref_courts = pd.merge(\n",
    "    df_ref_courts,\n",
    "    df_tt[cols].drop_duplicates(),\n",
    "    on = \"tournament_id\",\n",
    "    how=\"left\"\n",
    ")"
   ]
  },
  {
   "cell_type": "code",
   "execution_count": 18,
   "id": "d820cd67-780b-483b-86e0-fe509968a2f0",
   "metadata": {},
   "outputs": [],
   "source": [
    "# df_ref_courts.to_parquet(PATH_REFERENCE_VIDEOS, engine=\"pyarrow\")"
   ]
  },
  {
   "cell_type": "code",
   "execution_count": 19,
   "id": "491d9592-03a8-4f17-9104-4fb4e1c6d309",
   "metadata": {},
   "outputs": [
    {
     "data": {
      "text/html": [
       "<div>\n",
       "<style scoped>\n",
       "    .dataframe tbody tr th:only-of-type {\n",
       "        vertical-align: middle;\n",
       "    }\n",
       "\n",
       "    .dataframe tbody tr th {\n",
       "        vertical-align: top;\n",
       "    }\n",
       "\n",
       "    .dataframe thead th {\n",
       "        text-align: right;\n",
       "    }\n",
       "</style>\n",
       "<table border=\"1\" class=\"dataframe\">\n",
       "  <thead>\n",
       "    <tr style=\"text-align: right;\">\n",
       "      <th></th>\n",
       "      <th>filename</th>\n",
       "      <th>level</th>\n",
       "      <th>tournament_id</th>\n",
       "      <th>video_id</th>\n",
       "      <th>frame_num</th>\n",
       "      <th>tournament_name</th>\n",
       "    </tr>\n",
       "  </thead>\n",
       "  <tbody>\n",
       "    <tr>\n",
       "      <th>0</th>\n",
       "      <td>ref___l1000___t10___vl6Dx9KzyRig___f2052.png</td>\n",
       "      <td>1000</td>\n",
       "      <td>10</td>\n",
       "      <td>l6Dx9KzyRig</td>\n",
       "      <td>2052</td>\n",
       "      <td>Cincinnati</td>\n",
       "    </tr>\n",
       "    <tr>\n",
       "      <th>1</th>\n",
       "      <td>ref___l1000___t11___vLhDFuGXXvGA___f5748.png</td>\n",
       "      <td>1000</td>\n",
       "      <td>11</td>\n",
       "      <td>LhDFuGXXvGA</td>\n",
       "      <td>5748</td>\n",
       "      <td>Shanghai</td>\n",
       "    </tr>\n",
       "    <tr>\n",
       "      <th>2</th>\n",
       "      <td>ref___l1000___t12___vrGT0FsEuc3U___f5199.png</td>\n",
       "      <td>1000</td>\n",
       "      <td>12</td>\n",
       "      <td>rGT0FsEuc3U</td>\n",
       "      <td>5199</td>\n",
       "      <td>Paris</td>\n",
       "    </tr>\n",
       "    <tr>\n",
       "      <th>3</th>\n",
       "      <td>ref___l1000___t4___vfnK4I6k9eHs___f29533.png</td>\n",
       "      <td>1000</td>\n",
       "      <td>4</td>\n",
       "      <td>fnK4I6k9eHs</td>\n",
       "      <td>29533</td>\n",
       "      <td>Indian Wells</td>\n",
       "    </tr>\n",
       "    <tr>\n",
       "      <th>4</th>\n",
       "      <td>ref___l1000___t5___vRdjN79TWRFQ___f8926.png</td>\n",
       "      <td>1000</td>\n",
       "      <td>5</td>\n",
       "      <td>RdjN79TWRFQ</td>\n",
       "      <td>8926</td>\n",
       "      <td>Miami</td>\n",
       "    </tr>\n",
       "  </tbody>\n",
       "</table>\n",
       "</div>"
      ],
      "text/plain": [
       "                                       filename level  tournament_id  \\\n",
       "0  ref___l1000___t10___vl6Dx9KzyRig___f2052.png  1000             10   \n",
       "1  ref___l1000___t11___vLhDFuGXXvGA___f5748.png  1000             11   \n",
       "2  ref___l1000___t12___vrGT0FsEuc3U___f5199.png  1000             12   \n",
       "3  ref___l1000___t4___vfnK4I6k9eHs___f29533.png  1000              4   \n",
       "4   ref___l1000___t5___vRdjN79TWRFQ___f8926.png  1000              5   \n",
       "\n",
       "      video_id  frame_num tournament_name  \n",
       "0  l6Dx9KzyRig       2052      Cincinnati  \n",
       "1  LhDFuGXXvGA       5748        Shanghai  \n",
       "2  rGT0FsEuc3U       5199           Paris  \n",
       "3  fnK4I6k9eHs      29533    Indian Wells  \n",
       "4  RdjN79TWRFQ       8926           Miami  "
      ]
     },
     "execution_count": 19,
     "metadata": {},
     "output_type": "execute_result"
    }
   ],
   "source": [
    "df_ref_courts.head()"
   ]
  },
  {
   "cell_type": "code",
   "execution_count": null,
   "id": "9637af4b-caee-46d9-b4fd-ccaffe3bd41a",
   "metadata": {},
   "outputs": [],
   "source": []
  }
 ],
 "metadata": {
  "kernelspec": {
   "display_name": "Python 3 (ipykernel)",
   "language": "python",
   "name": "python3"
  },
  "language_info": {
   "codemirror_mode": {
    "name": "ipython",
    "version": 3
   },
   "file_extension": ".py",
   "mimetype": "text/x-python",
   "name": "python",
   "nbconvert_exporter": "python",
   "pygments_lexer": "ipython3",
   "version": "3.10.11"
  }
 },
 "nbformat": 4,
 "nbformat_minor": 5
}
